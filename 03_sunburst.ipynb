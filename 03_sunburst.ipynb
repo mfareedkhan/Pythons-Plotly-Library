{
 "cells": [
  {
   "cell_type": "markdown",
   "metadata": {},
   "source": [
    "# Sunburst Plot to show Heirarchy\n",
    "* When you have more categorical columns "
   ]
  },
  {
   "cell_type": "code",
   "execution_count": 1,
   "metadata": {},
   "outputs": [
    {
     "name": "stderr",
     "output_type": "stream",
     "text": [
      "c:\\Users\\Hp\\miniconda3\\envs\\python_eda\\Lib\\site-packages\\plotly\\express\\_core.py:1619: FutureWarning: The default of observed=False is deprecated and will be changed to True in a future version of pandas. Pass observed=False to retain current behavior or observed=True to adopt the future default and silence this warning.\n",
      "  dfg = df.groupby(path[i:]).agg(agg_f)\n",
      "c:\\Users\\Hp\\miniconda3\\envs\\python_eda\\Lib\\site-packages\\plotly\\express\\_core.py:1619: FutureWarning: The default of observed=False is deprecated and will be changed to True in a future version of pandas. Pass observed=False to retain current behavior or observed=True to adopt the future default and silence this warning.\n",
      "  dfg = df.groupby(path[i:]).agg(agg_f)\n",
      "c:\\Users\\Hp\\miniconda3\\envs\\python_eda\\Lib\\site-packages\\plotly\\express\\_core.py:1619: FutureWarning: The default of observed=False is deprecated and will be changed to True in a future version of pandas. Pass observed=False to retain current behavior or observed=True to adopt the future default and silence this warning.\n",
      "  dfg = df.groupby(path[i:]).agg(agg_f)\n",
      "c:\\Users\\Hp\\miniconda3\\envs\\python_eda\\Lib\\site-packages\\plotly\\express\\_core.py:1619: FutureWarning: The default of observed=False is deprecated and will be changed to True in a future version of pandas. Pass observed=False to retain current behavior or observed=True to adopt the future default and silence this warning.\n",
      "  dfg = df.groupby(path[i:]).agg(agg_f)\n"
     ]
    },
    {
     "data": {
      "application/vnd.plotly.v1+json": {
       "config": {
        "plotlyServerURL": "https://plot.ly"
       },
       "data": [
        {
         "branchvalues": "total",
         "customdata": [
          [
           "female"
          ],
          [
           "female"
          ],
          [
           "male"
          ],
          [
           "male"
          ],
          [
           null
          ],
          [
           "male"
          ],
          [
           null
          ],
          [
           "female"
          ],
          [
           null
          ],
          [
           null
          ],
          [
           "female"
          ],
          [
           "male"
          ],
          [
           "female"
          ],
          [
           "female"
          ],
          [
           null
          ],
          [
           "male"
          ],
          [
           null
          ],
          [
           "female"
          ],
          [
           null
          ],
          [
           "female"
          ],
          [
           null
          ],
          [
           null
          ],
          [
           "female"
          ],
          [
           "male"
          ],
          [
           "male"
          ],
          [
           "male"
          ],
          [
           null
          ],
          [
           "male"
          ],
          [
           null
          ],
          [
           "female"
          ],
          [
           null
          ],
          [
           null
          ],
          [
           "male"
          ],
          [
           "male"
          ],
          [
           "male"
          ],
          [
           "male"
          ],
          [
           "female"
          ],
          [
           null
          ],
          [
           null
          ],
          [
           null
          ],
          [
           "female"
          ],
          [
           "male"
          ],
          [
           null
          ],
          [
           null
          ],
          [
           "female"
          ],
          [
           null
          ],
          [
           "female"
          ],
          [
           null
          ],
          [
           null
          ],
          [
           null
          ],
          [
           "female"
          ],
          [
           null
          ],
          [
           "female"
          ],
          [
           null
          ],
          [
           "female"
          ],
          [
           "male"
          ],
          [
           "male"
          ],
          [
           "male"
          ],
          [
           "male"
          ],
          [
           "female"
          ],
          [
           "male"
          ],
          [
           "female"
          ],
          [
           "male"
          ],
          [
           null
          ],
          [
           null
          ],
          [
           "female"
          ],
          [
           "male"
          ],
          [
           "female"
          ],
          [
           "male"
          ],
          [
           "male"
          ],
          [
           "female"
          ],
          [
           null
          ],
          [
           "female"
          ],
          [
           "female"
          ],
          [
           null
          ],
          [
           null
          ],
          [
           "female"
          ],
          [
           "male"
          ],
          [
           null
          ],
          [
           "male"
          ],
          [
           "female"
          ],
          [
           "male"
          ],
          [
           "female"
          ],
          [
           null
          ],
          [
           null
          ],
          [
           "male"
          ],
          [
           null
          ],
          [
           "female"
          ],
          [
           "male"
          ],
          [
           "female"
          ],
          [
           null
          ],
          [
           "male"
          ],
          [
           null
          ],
          [
           null
          ],
          [
           "male"
          ],
          [
           null
          ],
          [
           "female"
          ],
          [
           "female"
          ],
          [
           null
          ],
          [
           "male"
          ],
          [
           null
          ],
          [
           "male"
          ],
          [
           null
          ],
          [
           "male"
          ],
          [
           "female"
          ],
          [
           null
          ],
          [
           null
          ],
          [
           null
          ],
          [
           "female"
          ],
          [
           "female"
          ],
          [
           null
          ],
          [
           null
          ],
          [
           null
          ],
          [
           "female"
          ],
          [
           null
          ],
          [
           "male"
          ],
          [
           null
          ],
          [
           null
          ],
          [
           "male"
          ],
          [
           "female"
          ],
          [
           null
          ],
          [
           null
          ],
          [
           null
          ],
          [
           "female"
          ],
          [
           "female"
          ],
          [
           "female"
          ],
          [
           null
          ],
          [
           null
          ],
          [
           null
          ],
          [
           "male"
          ],
          [
           null
          ],
          [
           "male"
          ],
          [
           null
          ],
          [
           "female"
          ]
         ],
         "domain": {
          "x": [
           0,
           1
          ],
          "y": [
           0,
           1
          ]
         },
         "hovertemplate": "labels=%{label}<br>survived=%{value}<br>parent=%{parent}<br>id=%{id}<br>sex=%{customdata[0]}<extra></extra>",
         "ids": [
          "female/First/woman/yes/True",
          "female/Third/child/no/True",
          "male/Third/child/no/True",
          "male/First/man/no/True",
          "female/Second/man/no/True",
          "male/Third/man/no/True",
          "male/First/woman/no/True",
          "female/Third/woman/no/True",
          "male/Third/woman/no/True",
          "female/Second/child/yes/True",
          "female/Third/child/yes/True",
          "male/First/man/yes/True",
          "female",
          "female/Second/woman/yes/True",
          "male/Third/woman/yes/True",
          "male/First/man/no",
          "female/Third/man/no",
          "female/First/woman/no",
          "male/First/woman/no",
          "female/Third/woman/no",
          "female/Second/man/yes",
          "female/Third/man/yes",
          "female/Third/woman/yes",
          "male/First/child",
          "male/Second/child",
          "male/Third/child",
          "female/First/man",
          "male/Third/man",
          "male/Second/woman",
          "female/Second",
          "male/Second/child/no/True",
          "female/Second/child/no/True",
          "male",
          "male/Third/man/no/False",
          "male/First/child/yes/False",
          "male/Second/man/no/False",
          "female/Third/child/yes/False",
          "female/Third/man/no/False",
          "male/Second/child/no/False",
          "female/First/man/yes/False",
          "female/First/child/yes/False",
          "male/First/man/yes/False",
          "female/Second/child/no/False",
          "female/Second/man/no/False",
          "female/Second/woman/yes/False",
          "female/Third/man/yes/False",
          "female/Second/woman/no/False",
          "male/First/woman/yes/False",
          "male/First/child/no/False",
          "male/Second/woman/no/False",
          "female/First/child/yes",
          "male/Second/woman/yes",
          "female/Second/woman/yes",
          "male/First/woman/yes",
          "female/First/woman/yes",
          "male/Third/man/yes",
          "male/Second/child/yes",
          "male/Second/man/yes",
          "male/First/man/yes",
          "female/Second/child/yes",
          "male/Third/child/yes",
          "female/Third/child/yes",
          "male/First/child/yes",
          "female/First/man/yes",
          "male/Second/woman/yes/False",
          "female/First/child",
          "male/Third",
          "female/Third",
          "male/Second",
          "male/First",
          "female/First",
          "male/Third/woman",
          "female/Third/woman",
          "female/Second/woman",
          "male/First/woman",
          "male/Third/woman/yes",
          "female/First/woman",
          "male/Second/man",
          "female/Second/man",
          "male/First/man",
          "female/Third/child/no/False",
          "male/Third/child/no/False",
          "female/Third/child",
          "female/First/man/no/False",
          "male/Third/woman/no",
          "male/First/man/no/False",
          "female/Third/man",
          "female/Second/child",
          "male/Third/man/no",
          "female/Second/woman/no",
          "male/Second/child/yes/True",
          "male/Second/child/yes/False",
          "male/First/child/yes/True",
          "female/First/child/yes/True",
          "male/Third/child/yes/False",
          "male/Second/woman/no/True",
          "female/Second/woman/no/True",
          "female/First/woman/no/True",
          "female/Third/man/no/True",
          "male/Second/man/no/True",
          "female/Second/man/yes/False",
          "male/Second/man/yes/False",
          "female/First/man/no/True",
          "male/Third/man/yes/False",
          "female/First/woman/yes/False",
          "male/First/child/no/True",
          "female/First/child/no/True",
          "male/Third/woman/yes/False",
          "female/Third/woman/yes/False",
          "female/Second/child/yes/False",
          "male/Second/woman/no",
          "male/Third/child/yes/True",
          "female/Second/man/yes/True",
          "female/First/woman/no/False",
          "male/First/woman/no/False",
          "male/Second/man/no",
          "female/Second/man/no",
          "female/First/man/no",
          "male/Third/child/no",
          "female/Third/child/no",
          "male/Second/child/no",
          "female/Second/child/no",
          "male/First/child/no",
          "female/First/child/no",
          "female/Third/woman/no/False",
          "female/Third/woman/yes/True",
          "male/Second/woman/yes/True",
          "male/Third/woman/no/False",
          "male/First/woman/yes/True",
          "male/Third/man/yes/True",
          "female/Third/man/yes/True",
          "male/Second/man/yes/True",
          "female/First/man/yes/True",
          "female/First/child/no/False"
         ],
         "labels": [
          "True",
          "True",
          "True",
          "True",
          "True",
          "True",
          "True",
          "True",
          "True",
          "True",
          "True",
          "True",
          "female",
          "True",
          "True",
          "no",
          "no",
          "no",
          "no",
          "no",
          "yes",
          "yes",
          "yes",
          "child",
          "child",
          "child",
          "man",
          "man",
          "woman",
          "Second",
          "True",
          "True",
          "male",
          "False",
          "False",
          "False",
          "False",
          "False",
          "False",
          "False",
          "False",
          "False",
          "False",
          "False",
          "False",
          "False",
          "False",
          "False",
          "False",
          "False",
          "yes",
          "yes",
          "yes",
          "yes",
          "yes",
          "yes",
          "yes",
          "yes",
          "yes",
          "yes",
          "yes",
          "yes",
          "yes",
          "yes",
          "False",
          "child",
          "Third",
          "Third",
          "Second",
          "First",
          "First",
          "woman",
          "woman",
          "woman",
          "woman",
          "yes",
          "woman",
          "man",
          "man",
          "man",
          "False",
          "False",
          "child",
          "False",
          "no",
          "False",
          "man",
          "child",
          "no",
          "no",
          "True",
          "False",
          "True",
          "True",
          "False",
          "True",
          "True",
          "True",
          "True",
          "True",
          "False",
          "False",
          "True",
          "False",
          "False",
          "True",
          "True",
          "False",
          "False",
          "False",
          "no",
          "True",
          "True",
          "False",
          "False",
          "no",
          "no",
          "no",
          "no",
          "no",
          "no",
          "no",
          "no",
          "no",
          "False",
          "True",
          "True",
          "False",
          "True",
          "True",
          "True",
          "True",
          "True",
          "False"
         ],
         "marker": {
          "colors": [
           "#636efa",
           "#636efa",
           "#EF553B",
           "#EF553B",
           "#00cc96",
           "#EF553B",
           "#00cc96",
           "#636efa",
           "#00cc96",
           "#00cc96",
           "#636efa",
           "#EF553B",
           "#636efa",
           "#636efa",
           "#00cc96",
           "#EF553B",
           "#00cc96",
           "#636efa",
           "#00cc96",
           "#636efa",
           "#00cc96",
           "#00cc96",
           "#636efa",
           "#EF553B",
           "#EF553B",
           "#EF553B",
           "#00cc96",
           "#EF553B",
           "#00cc96",
           "#636efa",
           "#00cc96",
           "#00cc96",
           "#EF553B",
           "#EF553B",
           "#EF553B",
           "#EF553B",
           "#636efa",
           "#00cc96",
           "#00cc96",
           "#00cc96",
           "#636efa",
           "#EF553B",
           "#00cc96",
           "#00cc96",
           "#636efa",
           "#00cc96",
           "#636efa",
           "#00cc96",
           "#00cc96",
           "#00cc96",
           "#636efa",
           "#00cc96",
           "#636efa",
           "#00cc96",
           "#636efa",
           "#EF553B",
           "#EF553B",
           "#EF553B",
           "#EF553B",
           "#636efa",
           "#EF553B",
           "#636efa",
           "#EF553B",
           "#00cc96",
           "#00cc96",
           "#636efa",
           "#EF553B",
           "#636efa",
           "#EF553B",
           "#EF553B",
           "#636efa",
           "#00cc96",
           "#636efa",
           "#636efa",
           "#00cc96",
           "#00cc96",
           "#636efa",
           "#EF553B",
           "#00cc96",
           "#EF553B",
           "#636efa",
           "#EF553B",
           "#636efa",
           "#00cc96",
           "#00cc96",
           "#EF553B",
           "#00cc96",
           "#636efa",
           "#EF553B",
           "#636efa",
           "#00cc96",
           "#EF553B",
           "#00cc96",
           "#00cc96",
           "#EF553B",
           "#00cc96",
           "#636efa",
           "#636efa",
           "#00cc96",
           "#EF553B",
           "#00cc96",
           "#EF553B",
           "#00cc96",
           "#EF553B",
           "#636efa",
           "#00cc96",
           "#00cc96",
           "#00cc96",
           "#636efa",
           "#636efa",
           "#00cc96",
           "#00cc96",
           "#00cc96",
           "#636efa",
           "#00cc96",
           "#EF553B",
           "#00cc96",
           "#00cc96",
           "#EF553B",
           "#636efa",
           "#00cc96",
           "#00cc96",
           "#00cc96",
           "#636efa",
           "#636efa",
           "#636efa",
           "#00cc96",
           "#00cc96",
           "#00cc96",
           "#EF553B",
           "#00cc96",
           "#EF553B",
           "#00cc96",
           "#636efa"
          ]
         },
         "name": "",
         "parents": [
          "female/First/woman/yes",
          "female/Third/child/no",
          "male/Third/child/no",
          "male/First/man/no",
          "female/Second/man/no",
          "male/Third/man/no",
          "male/First/woman/no",
          "female/Third/woman/no",
          "male/Third/woman/no",
          "female/Second/child/yes",
          "female/Third/child/yes",
          "male/First/man/yes",
          "",
          "female/Second/woman/yes",
          "male/Third/woman/yes",
          "male/First/man",
          "female/Third/man",
          "female/First/woman",
          "male/First/woman",
          "female/Third/woman",
          "female/Second/man",
          "female/Third/man",
          "female/Third/woman",
          "male/First",
          "male/Second",
          "male/Third",
          "female/First",
          "male/Third",
          "male/Second",
          "female",
          "male/Second/child/no",
          "female/Second/child/no",
          "",
          "male/Third/man/no",
          "male/First/child/yes",
          "male/Second/man/no",
          "female/Third/child/yes",
          "female/Third/man/no",
          "male/Second/child/no",
          "female/First/man/yes",
          "female/First/child/yes",
          "male/First/man/yes",
          "female/Second/child/no",
          "female/Second/man/no",
          "female/Second/woman/yes",
          "female/Third/man/yes",
          "female/Second/woman/no",
          "male/First/woman/yes",
          "male/First/child/no",
          "male/Second/woman/no",
          "female/First/child",
          "male/Second/woman",
          "female/Second/woman",
          "male/First/woman",
          "female/First/woman",
          "male/Third/man",
          "male/Second/child",
          "male/Second/man",
          "male/First/man",
          "female/Second/child",
          "male/Third/child",
          "female/Third/child",
          "male/First/child",
          "female/First/man",
          "male/Second/woman/yes",
          "female/First",
          "male",
          "female",
          "male",
          "male",
          "female",
          "male/Third",
          "female/Third",
          "female/Second",
          "male/First",
          "male/Third/woman",
          "female/First",
          "male/Second",
          "female/Second",
          "male/First",
          "female/Third/child/no",
          "male/Third/child/no",
          "female/Third",
          "female/First/man/no",
          "male/Third/woman",
          "male/First/man/no",
          "female/Third",
          "female/Second",
          "male/Third/man",
          "female/Second/woman",
          "male/Second/child/yes",
          "male/Second/child/yes",
          "male/First/child/yes",
          "female/First/child/yes",
          "male/Third/child/yes",
          "male/Second/woman/no",
          "female/Second/woman/no",
          "female/First/woman/no",
          "female/Third/man/no",
          "male/Second/man/no",
          "female/Second/man/yes",
          "male/Second/man/yes",
          "female/First/man/no",
          "male/Third/man/yes",
          "female/First/woman/yes",
          "male/First/child/no",
          "female/First/child/no",
          "male/Third/woman/yes",
          "female/Third/woman/yes",
          "female/Second/child/yes",
          "male/Second/woman",
          "male/Third/child/yes",
          "female/Second/man/yes",
          "female/First/woman/no",
          "male/First/woman/no",
          "male/Second/man",
          "female/Second/man",
          "female/First/man",
          "male/Third/child",
          "female/Third/child",
          "male/Second/child",
          "female/Second/child",
          "male/First/child",
          "female/First/child",
          "female/Third/woman/no",
          "female/Third/woman/yes",
          "male/Second/woman/yes",
          "male/Third/woman/no",
          "male/First/woman/yes",
          "male/Third/man/yes",
          "female/Third/man/yes",
          "male/Second/man/yes",
          "female/First/man/yes",
          "female/First/child/no"
         ],
         "type": "sunburst",
         "values": [
          33,
          0,
          0,
          0,
          0,
          0,
          0,
          0,
          0,
          0,
          4,
          25,
          233,
          29,
          0,
          0,
          0,
          0,
          0,
          0,
          0,
          0,
          56,
          3,
          9,
          9,
          0,
          38,
          0,
          70,
          0,
          0,
          109,
          0,
          3,
          0,
          12,
          0,
          0,
          0,
          2,
          17,
          0,
          0,
          31,
          0,
          0,
          0,
          0,
          0,
          2,
          0,
          60,
          0,
          89,
          38,
          9,
          8,
          42,
          10,
          9,
          16,
          3,
          0,
          0,
          2,
          47,
          72,
          17,
          45,
          91,
          0,
          56,
          60,
          0,
          0,
          89,
          8,
          0,
          42,
          0,
          0,
          16,
          0,
          0,
          0,
          0,
          10,
          0,
          0,
          0,
          9,
          0,
          0,
          9,
          0,
          0,
          0,
          0,
          0,
          0,
          1,
          0,
          6,
          56,
          0,
          0,
          0,
          23,
          10,
          0,
          0,
          0,
          0,
          0,
          0,
          0,
          0,
          0,
          0,
          0,
          0,
          0,
          0,
          0,
          33,
          0,
          0,
          0,
          32,
          0,
          7,
          0,
          0
         ]
        }
       ],
       "layout": {
        "legend": {
         "tracegroupgap": 0
        },
        "margin": {
         "t": 60
        },
        "template": {
         "data": {
          "bar": [
           {
            "error_x": {
             "color": "#2a3f5f"
            },
            "error_y": {
             "color": "#2a3f5f"
            },
            "marker": {
             "line": {
              "color": "#E5ECF6",
              "width": 0.5
             },
             "pattern": {
              "fillmode": "overlay",
              "size": 10,
              "solidity": 0.2
             }
            },
            "type": "bar"
           }
          ],
          "barpolar": [
           {
            "marker": {
             "line": {
              "color": "#E5ECF6",
              "width": 0.5
             },
             "pattern": {
              "fillmode": "overlay",
              "size": 10,
              "solidity": 0.2
             }
            },
            "type": "barpolar"
           }
          ],
          "carpet": [
           {
            "aaxis": {
             "endlinecolor": "#2a3f5f",
             "gridcolor": "white",
             "linecolor": "white",
             "minorgridcolor": "white",
             "startlinecolor": "#2a3f5f"
            },
            "baxis": {
             "endlinecolor": "#2a3f5f",
             "gridcolor": "white",
             "linecolor": "white",
             "minorgridcolor": "white",
             "startlinecolor": "#2a3f5f"
            },
            "type": "carpet"
           }
          ],
          "choropleth": [
           {
            "colorbar": {
             "outlinewidth": 0,
             "ticks": ""
            },
            "type": "choropleth"
           }
          ],
          "contour": [
           {
            "colorbar": {
             "outlinewidth": 0,
             "ticks": ""
            },
            "colorscale": [
             [
              0,
              "#0d0887"
             ],
             [
              0.1111111111111111,
              "#46039f"
             ],
             [
              0.2222222222222222,
              "#7201a8"
             ],
             [
              0.3333333333333333,
              "#9c179e"
             ],
             [
              0.4444444444444444,
              "#bd3786"
             ],
             [
              0.5555555555555556,
              "#d8576b"
             ],
             [
              0.6666666666666666,
              "#ed7953"
             ],
             [
              0.7777777777777778,
              "#fb9f3a"
             ],
             [
              0.8888888888888888,
              "#fdca26"
             ],
             [
              1,
              "#f0f921"
             ]
            ],
            "type": "contour"
           }
          ],
          "contourcarpet": [
           {
            "colorbar": {
             "outlinewidth": 0,
             "ticks": ""
            },
            "type": "contourcarpet"
           }
          ],
          "heatmap": [
           {
            "colorbar": {
             "outlinewidth": 0,
             "ticks": ""
            },
            "colorscale": [
             [
              0,
              "#0d0887"
             ],
             [
              0.1111111111111111,
              "#46039f"
             ],
             [
              0.2222222222222222,
              "#7201a8"
             ],
             [
              0.3333333333333333,
              "#9c179e"
             ],
             [
              0.4444444444444444,
              "#bd3786"
             ],
             [
              0.5555555555555556,
              "#d8576b"
             ],
             [
              0.6666666666666666,
              "#ed7953"
             ],
             [
              0.7777777777777778,
              "#fb9f3a"
             ],
             [
              0.8888888888888888,
              "#fdca26"
             ],
             [
              1,
              "#f0f921"
             ]
            ],
            "type": "heatmap"
           }
          ],
          "heatmapgl": [
           {
            "colorbar": {
             "outlinewidth": 0,
             "ticks": ""
            },
            "colorscale": [
             [
              0,
              "#0d0887"
             ],
             [
              0.1111111111111111,
              "#46039f"
             ],
             [
              0.2222222222222222,
              "#7201a8"
             ],
             [
              0.3333333333333333,
              "#9c179e"
             ],
             [
              0.4444444444444444,
              "#bd3786"
             ],
             [
              0.5555555555555556,
              "#d8576b"
             ],
             [
              0.6666666666666666,
              "#ed7953"
             ],
             [
              0.7777777777777778,
              "#fb9f3a"
             ],
             [
              0.8888888888888888,
              "#fdca26"
             ],
             [
              1,
              "#f0f921"
             ]
            ],
            "type": "heatmapgl"
           }
          ],
          "histogram": [
           {
            "marker": {
             "pattern": {
              "fillmode": "overlay",
              "size": 10,
              "solidity": 0.2
             }
            },
            "type": "histogram"
           }
          ],
          "histogram2d": [
           {
            "colorbar": {
             "outlinewidth": 0,
             "ticks": ""
            },
            "colorscale": [
             [
              0,
              "#0d0887"
             ],
             [
              0.1111111111111111,
              "#46039f"
             ],
             [
              0.2222222222222222,
              "#7201a8"
             ],
             [
              0.3333333333333333,
              "#9c179e"
             ],
             [
              0.4444444444444444,
              "#bd3786"
             ],
             [
              0.5555555555555556,
              "#d8576b"
             ],
             [
              0.6666666666666666,
              "#ed7953"
             ],
             [
              0.7777777777777778,
              "#fb9f3a"
             ],
             [
              0.8888888888888888,
              "#fdca26"
             ],
             [
              1,
              "#f0f921"
             ]
            ],
            "type": "histogram2d"
           }
          ],
          "histogram2dcontour": [
           {
            "colorbar": {
             "outlinewidth": 0,
             "ticks": ""
            },
            "colorscale": [
             [
              0,
              "#0d0887"
             ],
             [
              0.1111111111111111,
              "#46039f"
             ],
             [
              0.2222222222222222,
              "#7201a8"
             ],
             [
              0.3333333333333333,
              "#9c179e"
             ],
             [
              0.4444444444444444,
              "#bd3786"
             ],
             [
              0.5555555555555556,
              "#d8576b"
             ],
             [
              0.6666666666666666,
              "#ed7953"
             ],
             [
              0.7777777777777778,
              "#fb9f3a"
             ],
             [
              0.8888888888888888,
              "#fdca26"
             ],
             [
              1,
              "#f0f921"
             ]
            ],
            "type": "histogram2dcontour"
           }
          ],
          "mesh3d": [
           {
            "colorbar": {
             "outlinewidth": 0,
             "ticks": ""
            },
            "type": "mesh3d"
           }
          ],
          "parcoords": [
           {
            "line": {
             "colorbar": {
              "outlinewidth": 0,
              "ticks": ""
             }
            },
            "type": "parcoords"
           }
          ],
          "pie": [
           {
            "automargin": true,
            "type": "pie"
           }
          ],
          "scatter": [
           {
            "fillpattern": {
             "fillmode": "overlay",
             "size": 10,
             "solidity": 0.2
            },
            "type": "scatter"
           }
          ],
          "scatter3d": [
           {
            "line": {
             "colorbar": {
              "outlinewidth": 0,
              "ticks": ""
             }
            },
            "marker": {
             "colorbar": {
              "outlinewidth": 0,
              "ticks": ""
             }
            },
            "type": "scatter3d"
           }
          ],
          "scattercarpet": [
           {
            "marker": {
             "colorbar": {
              "outlinewidth": 0,
              "ticks": ""
             }
            },
            "type": "scattercarpet"
           }
          ],
          "scattergeo": [
           {
            "marker": {
             "colorbar": {
              "outlinewidth": 0,
              "ticks": ""
             }
            },
            "type": "scattergeo"
           }
          ],
          "scattergl": [
           {
            "marker": {
             "colorbar": {
              "outlinewidth": 0,
              "ticks": ""
             }
            },
            "type": "scattergl"
           }
          ],
          "scattermapbox": [
           {
            "marker": {
             "colorbar": {
              "outlinewidth": 0,
              "ticks": ""
             }
            },
            "type": "scattermapbox"
           }
          ],
          "scatterpolar": [
           {
            "marker": {
             "colorbar": {
              "outlinewidth": 0,
              "ticks": ""
             }
            },
            "type": "scatterpolar"
           }
          ],
          "scatterpolargl": [
           {
            "marker": {
             "colorbar": {
              "outlinewidth": 0,
              "ticks": ""
             }
            },
            "type": "scatterpolargl"
           }
          ],
          "scatterternary": [
           {
            "marker": {
             "colorbar": {
              "outlinewidth": 0,
              "ticks": ""
             }
            },
            "type": "scatterternary"
           }
          ],
          "surface": [
           {
            "colorbar": {
             "outlinewidth": 0,
             "ticks": ""
            },
            "colorscale": [
             [
              0,
              "#0d0887"
             ],
             [
              0.1111111111111111,
              "#46039f"
             ],
             [
              0.2222222222222222,
              "#7201a8"
             ],
             [
              0.3333333333333333,
              "#9c179e"
             ],
             [
              0.4444444444444444,
              "#bd3786"
             ],
             [
              0.5555555555555556,
              "#d8576b"
             ],
             [
              0.6666666666666666,
              "#ed7953"
             ],
             [
              0.7777777777777778,
              "#fb9f3a"
             ],
             [
              0.8888888888888888,
              "#fdca26"
             ],
             [
              1,
              "#f0f921"
             ]
            ],
            "type": "surface"
           }
          ],
          "table": [
           {
            "cells": {
             "fill": {
              "color": "#EBF0F8"
             },
             "line": {
              "color": "white"
             }
            },
            "header": {
             "fill": {
              "color": "#C8D4E3"
             },
             "line": {
              "color": "white"
             }
            },
            "type": "table"
           }
          ]
         },
         "layout": {
          "annotationdefaults": {
           "arrowcolor": "#2a3f5f",
           "arrowhead": 0,
           "arrowwidth": 1
          },
          "autotypenumbers": "strict",
          "coloraxis": {
           "colorbar": {
            "outlinewidth": 0,
            "ticks": ""
           }
          },
          "colorscale": {
           "diverging": [
            [
             0,
             "#8e0152"
            ],
            [
             0.1,
             "#c51b7d"
            ],
            [
             0.2,
             "#de77ae"
            ],
            [
             0.3,
             "#f1b6da"
            ],
            [
             0.4,
             "#fde0ef"
            ],
            [
             0.5,
             "#f7f7f7"
            ],
            [
             0.6,
             "#e6f5d0"
            ],
            [
             0.7,
             "#b8e186"
            ],
            [
             0.8,
             "#7fbc41"
            ],
            [
             0.9,
             "#4d9221"
            ],
            [
             1,
             "#276419"
            ]
           ],
           "sequential": [
            [
             0,
             "#0d0887"
            ],
            [
             0.1111111111111111,
             "#46039f"
            ],
            [
             0.2222222222222222,
             "#7201a8"
            ],
            [
             0.3333333333333333,
             "#9c179e"
            ],
            [
             0.4444444444444444,
             "#bd3786"
            ],
            [
             0.5555555555555556,
             "#d8576b"
            ],
            [
             0.6666666666666666,
             "#ed7953"
            ],
            [
             0.7777777777777778,
             "#fb9f3a"
            ],
            [
             0.8888888888888888,
             "#fdca26"
            ],
            [
             1,
             "#f0f921"
            ]
           ],
           "sequentialminus": [
            [
             0,
             "#0d0887"
            ],
            [
             0.1111111111111111,
             "#46039f"
            ],
            [
             0.2222222222222222,
             "#7201a8"
            ],
            [
             0.3333333333333333,
             "#9c179e"
            ],
            [
             0.4444444444444444,
             "#bd3786"
            ],
            [
             0.5555555555555556,
             "#d8576b"
            ],
            [
             0.6666666666666666,
             "#ed7953"
            ],
            [
             0.7777777777777778,
             "#fb9f3a"
            ],
            [
             0.8888888888888888,
             "#fdca26"
            ],
            [
             1,
             "#f0f921"
            ]
           ]
          },
          "colorway": [
           "#636efa",
           "#EF553B",
           "#00cc96",
           "#ab63fa",
           "#FFA15A",
           "#19d3f3",
           "#FF6692",
           "#B6E880",
           "#FF97FF",
           "#FECB52"
          ],
          "font": {
           "color": "#2a3f5f"
          },
          "geo": {
           "bgcolor": "white",
           "lakecolor": "white",
           "landcolor": "#E5ECF6",
           "showlakes": true,
           "showland": true,
           "subunitcolor": "white"
          },
          "hoverlabel": {
           "align": "left"
          },
          "hovermode": "closest",
          "mapbox": {
           "style": "light"
          },
          "paper_bgcolor": "white",
          "plot_bgcolor": "#E5ECF6",
          "polar": {
           "angularaxis": {
            "gridcolor": "white",
            "linecolor": "white",
            "ticks": ""
           },
           "bgcolor": "#E5ECF6",
           "radialaxis": {
            "gridcolor": "white",
            "linecolor": "white",
            "ticks": ""
           }
          },
          "scene": {
           "xaxis": {
            "backgroundcolor": "#E5ECF6",
            "gridcolor": "white",
            "gridwidth": 2,
            "linecolor": "white",
            "showbackground": true,
            "ticks": "",
            "zerolinecolor": "white"
           },
           "yaxis": {
            "backgroundcolor": "#E5ECF6",
            "gridcolor": "white",
            "gridwidth": 2,
            "linecolor": "white",
            "showbackground": true,
            "ticks": "",
            "zerolinecolor": "white"
           },
           "zaxis": {
            "backgroundcolor": "#E5ECF6",
            "gridcolor": "white",
            "gridwidth": 2,
            "linecolor": "white",
            "showbackground": true,
            "ticks": "",
            "zerolinecolor": "white"
           }
          },
          "shapedefaults": {
           "line": {
            "color": "#2a3f5f"
           }
          },
          "ternary": {
           "aaxis": {
            "gridcolor": "white",
            "linecolor": "white",
            "ticks": ""
           },
           "baxis": {
            "gridcolor": "white",
            "linecolor": "white",
            "ticks": ""
           },
           "bgcolor": "#E5ECF6",
           "caxis": {
            "gridcolor": "white",
            "linecolor": "white",
            "ticks": ""
           }
          },
          "title": {
           "x": 0.05
          },
          "xaxis": {
           "automargin": true,
           "gridcolor": "white",
           "linecolor": "white",
           "ticks": "",
           "title": {
            "standoff": 15
           },
           "zerolinecolor": "white",
           "zerolinewidth": 2
          },
          "yaxis": {
           "automargin": true,
           "gridcolor": "white",
           "linecolor": "white",
           "ticks": "",
           "title": {
            "standoff": 15
           },
           "zerolinecolor": "white",
           "zerolinewidth": 2
          }
         }
        }
       }
      }
     },
     "metadata": {},
     "output_type": "display_data"
    }
   ],
   "source": [
    "# create sunburst plot on titanic dataset\n",
    "import plotly.express as px\n",
    "import seaborn as sns\n",
    "# Load Titanic dataset\n",
    "df = sns.load_dataset('titanic')\n",
    "# Create a sunburst plot\n",
    "fig = px.sunburst(df, \n",
    "                  path=['sex','class', 'who', 'alive', 'alone'], \n",
    "                  values='survived' , color='sex')\n",
    "# Show the plot\n",
    "fig.show()"
   ]
  },
  {
   "cell_type": "code",
   "execution_count": 2,
   "metadata": {},
   "outputs": [
    {
     "data": {
      "text/html": [
       "<div>\n",
       "<style scoped>\n",
       "    .dataframe tbody tr th:only-of-type {\n",
       "        vertical-align: middle;\n",
       "    }\n",
       "\n",
       "    .dataframe tbody tr th {\n",
       "        vertical-align: top;\n",
       "    }\n",
       "\n",
       "    .dataframe thead th {\n",
       "        text-align: right;\n",
       "    }\n",
       "</style>\n",
       "<table border=\"1\" class=\"dataframe\">\n",
       "  <thead>\n",
       "    <tr style=\"text-align: right;\">\n",
       "      <th></th>\n",
       "      <th>total_bill</th>\n",
       "      <th>tip</th>\n",
       "      <th>sex</th>\n",
       "      <th>smoker</th>\n",
       "      <th>day</th>\n",
       "      <th>time</th>\n",
       "      <th>size</th>\n",
       "    </tr>\n",
       "  </thead>\n",
       "  <tbody>\n",
       "    <tr>\n",
       "      <th>0</th>\n",
       "      <td>16.99</td>\n",
       "      <td>1.01</td>\n",
       "      <td>Female</td>\n",
       "      <td>No</td>\n",
       "      <td>Sun</td>\n",
       "      <td>Dinner</td>\n",
       "      <td>2</td>\n",
       "    </tr>\n",
       "    <tr>\n",
       "      <th>1</th>\n",
       "      <td>10.34</td>\n",
       "      <td>1.66</td>\n",
       "      <td>Male</td>\n",
       "      <td>No</td>\n",
       "      <td>Sun</td>\n",
       "      <td>Dinner</td>\n",
       "      <td>3</td>\n",
       "    </tr>\n",
       "    <tr>\n",
       "      <th>2</th>\n",
       "      <td>21.01</td>\n",
       "      <td>3.50</td>\n",
       "      <td>Male</td>\n",
       "      <td>No</td>\n",
       "      <td>Sun</td>\n",
       "      <td>Dinner</td>\n",
       "      <td>3</td>\n",
       "    </tr>\n",
       "    <tr>\n",
       "      <th>3</th>\n",
       "      <td>23.68</td>\n",
       "      <td>3.31</td>\n",
       "      <td>Male</td>\n",
       "      <td>No</td>\n",
       "      <td>Sun</td>\n",
       "      <td>Dinner</td>\n",
       "      <td>2</td>\n",
       "    </tr>\n",
       "    <tr>\n",
       "      <th>4</th>\n",
       "      <td>24.59</td>\n",
       "      <td>3.61</td>\n",
       "      <td>Female</td>\n",
       "      <td>No</td>\n",
       "      <td>Sun</td>\n",
       "      <td>Dinner</td>\n",
       "      <td>4</td>\n",
       "    </tr>\n",
       "  </tbody>\n",
       "</table>\n",
       "</div>"
      ],
      "text/plain": [
       "   total_bill   tip     sex smoker  day    time  size\n",
       "0       16.99  1.01  Female     No  Sun  Dinner     2\n",
       "1       10.34  1.66    Male     No  Sun  Dinner     3\n",
       "2       21.01  3.50    Male     No  Sun  Dinner     3\n",
       "3       23.68  3.31    Male     No  Sun  Dinner     2\n",
       "4       24.59  3.61  Female     No  Sun  Dinner     4"
      ]
     },
     "execution_count": 2,
     "metadata": {},
     "output_type": "execute_result"
    }
   ],
   "source": [
    "# Importing 'Tips' dataset from seaborn\n",
    "tips = sns.load_dataset('tips')\n",
    "tips.head()"
   ]
  },
  {
   "cell_type": "markdown",
   "metadata": {},
   "source": [
    "* `Tips` is a hotel dataset "
   ]
  },
  {
   "cell_type": "code",
   "execution_count": 6,
   "metadata": {},
   "outputs": [
    {
     "name": "stderr",
     "output_type": "stream",
     "text": [
      "c:\\Users\\Hp\\miniconda3\\envs\\python_eda\\Lib\\site-packages\\plotly\\express\\_core.py:1619: FutureWarning:\n",
      "\n",
      "The default of observed=False is deprecated and will be changed to True in a future version of pandas. Pass observed=False to retain current behavior or observed=True to adopt the future default and silence this warning.\n",
      "\n",
      "c:\\Users\\Hp\\miniconda3\\envs\\python_eda\\Lib\\site-packages\\plotly\\express\\_core.py:1619: FutureWarning:\n",
      "\n",
      "The default of observed=False is deprecated and will be changed to True in a future version of pandas. Pass observed=False to retain current behavior or observed=True to adopt the future default and silence this warning.\n",
      "\n",
      "c:\\Users\\Hp\\miniconda3\\envs\\python_eda\\Lib\\site-packages\\plotly\\express\\_core.py:1619: FutureWarning:\n",
      "\n",
      "The default of observed=False is deprecated and will be changed to True in a future version of pandas. Pass observed=False to retain current behavior or observed=True to adopt the future default and silence this warning.\n",
      "\n",
      "c:\\Users\\Hp\\miniconda3\\envs\\python_eda\\Lib\\site-packages\\plotly\\express\\_core.py:1619: FutureWarning:\n",
      "\n",
      "The default of observed=False is deprecated and will be changed to True in a future version of pandas. Pass observed=False to retain current behavior or observed=True to adopt the future default and silence this warning.\n",
      "\n"
     ]
    },
    {
     "data": {
      "application/vnd.plotly.v1+json": {
       "config": {
        "plotlyServerURL": "https://plot.ly"
       },
       "data": [
        {
         "branchvalues": "total",
         "customdata": [
          [
           30.58,
           "Thur",
           "Lunch",
           "Male"
          ],
          [
           14,
           "Sun",
           "Dinner",
           "Female"
          ],
          [
           0,
           null,
           null,
           null
          ],
          [
           18.78,
           "Fri",
           "(?)",
           "Female"
          ],
          [
           0,
           null,
           null,
           null
          ],
          [
           10.8,
           "Fri",
           "Dinner",
           "Female"
          ],
          [
           5,
           "Fri",
           "Dinner",
           "Male"
          ],
          [
           0,
           null,
           null,
           null
          ],
          [
           0,
           null,
           null,
           null
          ],
          [
           485.07,
           "(?)",
           "(?)",
           "Male"
          ],
          [
           5.7,
           "Fri",
           "Lunch",
           "Male"
          ],
          [
           20.93,
           "Thur",
           "Lunch",
           "Female"
          ],
          [
           30.58,
           "Thur",
           "Lunch",
           "Male"
          ],
          [
           149.77,
           "(?)",
           "(?)",
           "Female"
          ],
          [
           58.83,
           "Thur",
           "Lunch",
           "Male"
          ],
          [
           5,
           "Fri",
           "Dinner",
           "Male"
          ],
          [
           61.49,
           "Thur",
           "(?)",
           "Female"
          ],
          [
           21.93,
           "Fri",
           "(?)",
           "Male"
          ],
          [
           77.74,
           "Sat",
           "Dinner",
           "Male"
          ],
          [
           43.03,
           "Sat",
           "Dinner",
           "Female"
          ],
          [
           104.21000000000001,
           "Sat",
           "Dinner",
           "Male"
          ],
          [
           35.42,
           "Sat",
           "Dinner",
           "Female"
          ],
          [
           52.82,
           "Sun",
           "Dinner",
           "Male"
          ],
          [
           14,
           "Sun",
           "Dinner",
           "Female"
          ],
          [
           133.96,
           "Sun",
           "Dinner",
           "Male"
          ],
          [
           46.61,
           "Sun",
           "Dinner",
           "Female"
          ],
          [
           183.07,
           "(?)",
           "(?)",
           "Male"
          ],
          [
           96.74,
           "(?)",
           "(?)",
           "Female"
          ],
          [
           302,
           "(?)",
           "(?)",
           "Male"
          ],
          [
           6.25,
           "Fri",
           "(?)",
           "Female"
          ],
          [
           46.61,
           "Sun",
           "Dinner",
           "Female"
          ],
          [
           104.21000000000001,
           "Sat",
           "Dinner",
           "Male"
          ],
          [
           52.82,
           "Sun",
           "Dinner",
           "Male"
          ],
          [
           20.93,
           "Thur",
           "Lunch",
           "Female"
          ],
          [
           58.83,
           "Thur",
           "Lunch",
           "Male"
          ],
          [
           58.49,
           "Thur",
           "Lunch",
           "Female"
          ],
          [
           7.98,
           "Fri",
           "Lunch",
           "Female"
          ],
          [
           0,
           null,
           null,
           null
          ],
          [
           3,
           "Fri",
           "Lunch",
           "Female"
          ],
          [
           0,
           null,
           null,
           null
          ],
          [
           0,
           null,
           null,
           null
          ],
          [
           0,
           null,
           null,
           null
          ],
          [
           0,
           null,
           null,
           null
          ],
          [
           0,
           null,
           null,
           null
          ],
          [
           0,
           null,
           null,
           null
          ],
          [
           0,
           null,
           null,
           null
          ],
          [
           3,
           "Thur",
           "Dinner",
           "Female"
          ],
          [
           16.23,
           "Fri",
           "Dinner",
           "Male"
          ],
          [
           3.25,
           "Fri",
           "Dinner",
           "Female"
          ],
          [
           77.74,
           "Sat",
           "Dinner",
           "Male"
          ],
          [
           43.03,
           "Sat",
           "Dinner",
           "Female"
          ],
          [
           35.42,
           "Sat",
           "Dinner",
           "Female"
          ],
          [
           133.96,
           "Sun",
           "Dinner",
           "Male"
          ],
          [
           246.51,
           "(?)",
           "(?)",
           "Female"
          ]
         ],
         "domain": {
          "x": [
           0,
           1
          ],
          "y": [
           0,
           1
          ]
         },
         "hovertemplate": "labels=%{label}<br>tip=%{customdata[0]}<br>parent=%{parent}<br>id=%{id}<br>day=%{customdata[1]}<br>time=%{customdata[2]}<br>sex=%{customdata[3]}<extra></extra>",
         "ids": [
          "Male/Yes/Thur/Lunch",
          "Female/Yes/Sun/Dinner",
          "Male/No/Sun/Lunch",
          "Female/Yes/Fri",
          "Female/No/Sat/Lunch",
          "Female/Yes/Fri/Dinner",
          "Male/No/Fri/Dinner",
          "Male/Yes/Thur/Dinner",
          "Male/No/Thur/Dinner",
          "Male",
          "Male/Yes/Fri/Lunch",
          "Female/Yes/Thur",
          "Male/Yes/Thur",
          "Female/No",
          "Male/No/Thur",
          "Male/No/Fri",
          "Female/No/Thur",
          "Male/Yes/Fri",
          "Male/Yes/Sat",
          "Female/Yes/Sat",
          "Male/No/Sat",
          "Female/No/Sat",
          "Male/Yes/Sun",
          "Female/Yes/Sun",
          "Male/No/Sun",
          "Female/No/Sun",
          "Male/Yes",
          "Female/Yes",
          "Male/No",
          "Female/No/Fri",
          "Female/No/Sun/Dinner",
          "Male/No/Sat/Dinner",
          "Male/Yes/Sun/Dinner",
          "Female/Yes/Thur/Lunch",
          "Male/No/Thur/Lunch",
          "Female/No/Thur/Lunch",
          "Female/Yes/Fri/Lunch",
          "Male/No/Fri/Lunch",
          "Female/No/Fri/Lunch",
          "Male/Yes/Sat/Lunch",
          "Female/Yes/Sat/Lunch",
          "Male/No/Sat/Lunch",
          "Male/Yes/Sun/Lunch",
          "Female/Yes/Sun/Lunch",
          "Female/No/Sun/Lunch",
          "Female/Yes/Thur/Dinner",
          "Female/No/Thur/Dinner",
          "Male/Yes/Fri/Dinner",
          "Female/No/Fri/Dinner",
          "Male/Yes/Sat/Dinner",
          "Female/Yes/Sat/Dinner",
          "Female/No/Sat/Dinner",
          "Male/No/Sun/Dinner",
          "Female"
         ],
         "labels": [
          "Lunch",
          "Dinner",
          "Lunch",
          "Fri",
          "Lunch",
          "Dinner",
          "Dinner",
          "Dinner",
          "Dinner",
          "Male",
          "Lunch",
          "Thur",
          "Thur",
          "No",
          "Thur",
          "Fri",
          "Thur",
          "Fri",
          "Sat",
          "Sat",
          "Sat",
          "Sat",
          "Sun",
          "Sun",
          "Sun",
          "Sun",
          "Yes",
          "Yes",
          "No",
          "Fri",
          "Dinner",
          "Dinner",
          "Dinner",
          "Lunch",
          "Lunch",
          "Lunch",
          "Lunch",
          "Lunch",
          "Lunch",
          "Lunch",
          "Lunch",
          "Lunch",
          "Lunch",
          "Lunch",
          "Lunch",
          "Dinner",
          "Dinner",
          "Dinner",
          "Dinner",
          "Dinner",
          "Dinner",
          "Dinner",
          "Dinner",
          "Female"
         ],
         "marker": {
          "colors": [
           "#636efa",
           "#EF553B",
           "#00cc96",
           "#EF553B",
           "#00cc96",
           "#EF553B",
           "#636efa",
           "#00cc96",
           "#00cc96",
           "#636efa",
           "#636efa",
           "#EF553B",
           "#636efa",
           "#EF553B",
           "#636efa",
           "#636efa",
           "#EF553B",
           "#636efa",
           "#636efa",
           "#EF553B",
           "#636efa",
           "#EF553B",
           "#636efa",
           "#EF553B",
           "#636efa",
           "#EF553B",
           "#636efa",
           "#EF553B",
           "#636efa",
           "#EF553B",
           "#EF553B",
           "#636efa",
           "#636efa",
           "#EF553B",
           "#636efa",
           "#EF553B",
           "#EF553B",
           "#00cc96",
           "#EF553B",
           "#00cc96",
           "#00cc96",
           "#00cc96",
           "#00cc96",
           "#00cc96",
           "#00cc96",
           "#00cc96",
           "#EF553B",
           "#636efa",
           "#EF553B",
           "#636efa",
           "#EF553B",
           "#EF553B",
           "#636efa",
           "#EF553B"
          ]
         },
         "name": "",
         "parents": [
          "Male/Yes/Thur",
          "Female/Yes/Sun",
          "Male/No/Sun",
          "Female/Yes",
          "Female/No/Sat",
          "Female/Yes/Fri",
          "Male/No/Fri",
          "Male/Yes/Thur",
          "Male/No/Thur",
          "",
          "Male/Yes/Fri",
          "Female/Yes",
          "Male/Yes",
          "Female",
          "Male/No",
          "Male/No",
          "Female/No",
          "Male/Yes",
          "Male/Yes",
          "Female/Yes",
          "Male/No",
          "Female/No",
          "Male/Yes",
          "Female/Yes",
          "Male/No",
          "Female/No",
          "Male",
          "Female",
          "Male",
          "Female/No",
          "Female/No/Sun",
          "Male/No/Sat",
          "Male/Yes/Sun",
          "Female/Yes/Thur",
          "Male/No/Thur",
          "Female/No/Thur",
          "Female/Yes/Fri",
          "Male/No/Fri",
          "Female/No/Fri",
          "Male/Yes/Sat",
          "Female/Yes/Sat",
          "Male/No/Sat",
          "Male/Yes/Sun",
          "Female/Yes/Sun",
          "Female/No/Sun",
          "Female/Yes/Thur",
          "Female/No/Thur",
          "Male/Yes/Fri",
          "Female/No/Fri",
          "Male/Yes/Sat",
          "Female/Yes/Sat",
          "Female/No/Sat",
          "Male/No/Sun",
          ""
         ],
         "type": "sunburst",
         "values": [
          30.58,
          14,
          0,
          18.78,
          0,
          10.8,
          5,
          0,
          0,
          485.07,
          5.7,
          20.93,
          30.58,
          149.77,
          58.83,
          5,
          61.49,
          21.93,
          77.74,
          43.03,
          104.21000000000001,
          35.42,
          52.82,
          14,
          133.96,
          46.61,
          183.07,
          96.74,
          302,
          6.25,
          46.61,
          104.21000000000001,
          52.82,
          20.93,
          58.83,
          58.49,
          7.98,
          0,
          3,
          0,
          0,
          0,
          0,
          0,
          0,
          0,
          3,
          16.23,
          3.25,
          77.74,
          43.03,
          35.42,
          133.96,
          246.51
         ]
        }
       ],
       "layout": {
        "legend": {
         "tracegroupgap": 0
        },
        "margin": {
         "t": 60
        },
        "template": {
         "data": {
          "bar": [
           {
            "error_x": {
             "color": "#2a3f5f"
            },
            "error_y": {
             "color": "#2a3f5f"
            },
            "marker": {
             "line": {
              "color": "#E5ECF6",
              "width": 0.5
             },
             "pattern": {
              "fillmode": "overlay",
              "size": 10,
              "solidity": 0.2
             }
            },
            "type": "bar"
           }
          ],
          "barpolar": [
           {
            "marker": {
             "line": {
              "color": "#E5ECF6",
              "width": 0.5
             },
             "pattern": {
              "fillmode": "overlay",
              "size": 10,
              "solidity": 0.2
             }
            },
            "type": "barpolar"
           }
          ],
          "carpet": [
           {
            "aaxis": {
             "endlinecolor": "#2a3f5f",
             "gridcolor": "white",
             "linecolor": "white",
             "minorgridcolor": "white",
             "startlinecolor": "#2a3f5f"
            },
            "baxis": {
             "endlinecolor": "#2a3f5f",
             "gridcolor": "white",
             "linecolor": "white",
             "minorgridcolor": "white",
             "startlinecolor": "#2a3f5f"
            },
            "type": "carpet"
           }
          ],
          "choropleth": [
           {
            "colorbar": {
             "outlinewidth": 0,
             "ticks": ""
            },
            "type": "choropleth"
           }
          ],
          "contour": [
           {
            "colorbar": {
             "outlinewidth": 0,
             "ticks": ""
            },
            "colorscale": [
             [
              0,
              "#0d0887"
             ],
             [
              0.1111111111111111,
              "#46039f"
             ],
             [
              0.2222222222222222,
              "#7201a8"
             ],
             [
              0.3333333333333333,
              "#9c179e"
             ],
             [
              0.4444444444444444,
              "#bd3786"
             ],
             [
              0.5555555555555556,
              "#d8576b"
             ],
             [
              0.6666666666666666,
              "#ed7953"
             ],
             [
              0.7777777777777778,
              "#fb9f3a"
             ],
             [
              0.8888888888888888,
              "#fdca26"
             ],
             [
              1,
              "#f0f921"
             ]
            ],
            "type": "contour"
           }
          ],
          "contourcarpet": [
           {
            "colorbar": {
             "outlinewidth": 0,
             "ticks": ""
            },
            "type": "contourcarpet"
           }
          ],
          "heatmap": [
           {
            "colorbar": {
             "outlinewidth": 0,
             "ticks": ""
            },
            "colorscale": [
             [
              0,
              "#0d0887"
             ],
             [
              0.1111111111111111,
              "#46039f"
             ],
             [
              0.2222222222222222,
              "#7201a8"
             ],
             [
              0.3333333333333333,
              "#9c179e"
             ],
             [
              0.4444444444444444,
              "#bd3786"
             ],
             [
              0.5555555555555556,
              "#d8576b"
             ],
             [
              0.6666666666666666,
              "#ed7953"
             ],
             [
              0.7777777777777778,
              "#fb9f3a"
             ],
             [
              0.8888888888888888,
              "#fdca26"
             ],
             [
              1,
              "#f0f921"
             ]
            ],
            "type": "heatmap"
           }
          ],
          "heatmapgl": [
           {
            "colorbar": {
             "outlinewidth": 0,
             "ticks": ""
            },
            "colorscale": [
             [
              0,
              "#0d0887"
             ],
             [
              0.1111111111111111,
              "#46039f"
             ],
             [
              0.2222222222222222,
              "#7201a8"
             ],
             [
              0.3333333333333333,
              "#9c179e"
             ],
             [
              0.4444444444444444,
              "#bd3786"
             ],
             [
              0.5555555555555556,
              "#d8576b"
             ],
             [
              0.6666666666666666,
              "#ed7953"
             ],
             [
              0.7777777777777778,
              "#fb9f3a"
             ],
             [
              0.8888888888888888,
              "#fdca26"
             ],
             [
              1,
              "#f0f921"
             ]
            ],
            "type": "heatmapgl"
           }
          ],
          "histogram": [
           {
            "marker": {
             "pattern": {
              "fillmode": "overlay",
              "size": 10,
              "solidity": 0.2
             }
            },
            "type": "histogram"
           }
          ],
          "histogram2d": [
           {
            "colorbar": {
             "outlinewidth": 0,
             "ticks": ""
            },
            "colorscale": [
             [
              0,
              "#0d0887"
             ],
             [
              0.1111111111111111,
              "#46039f"
             ],
             [
              0.2222222222222222,
              "#7201a8"
             ],
             [
              0.3333333333333333,
              "#9c179e"
             ],
             [
              0.4444444444444444,
              "#bd3786"
             ],
             [
              0.5555555555555556,
              "#d8576b"
             ],
             [
              0.6666666666666666,
              "#ed7953"
             ],
             [
              0.7777777777777778,
              "#fb9f3a"
             ],
             [
              0.8888888888888888,
              "#fdca26"
             ],
             [
              1,
              "#f0f921"
             ]
            ],
            "type": "histogram2d"
           }
          ],
          "histogram2dcontour": [
           {
            "colorbar": {
             "outlinewidth": 0,
             "ticks": ""
            },
            "colorscale": [
             [
              0,
              "#0d0887"
             ],
             [
              0.1111111111111111,
              "#46039f"
             ],
             [
              0.2222222222222222,
              "#7201a8"
             ],
             [
              0.3333333333333333,
              "#9c179e"
             ],
             [
              0.4444444444444444,
              "#bd3786"
             ],
             [
              0.5555555555555556,
              "#d8576b"
             ],
             [
              0.6666666666666666,
              "#ed7953"
             ],
             [
              0.7777777777777778,
              "#fb9f3a"
             ],
             [
              0.8888888888888888,
              "#fdca26"
             ],
             [
              1,
              "#f0f921"
             ]
            ],
            "type": "histogram2dcontour"
           }
          ],
          "mesh3d": [
           {
            "colorbar": {
             "outlinewidth": 0,
             "ticks": ""
            },
            "type": "mesh3d"
           }
          ],
          "parcoords": [
           {
            "line": {
             "colorbar": {
              "outlinewidth": 0,
              "ticks": ""
             }
            },
            "type": "parcoords"
           }
          ],
          "pie": [
           {
            "automargin": true,
            "type": "pie"
           }
          ],
          "scatter": [
           {
            "fillpattern": {
             "fillmode": "overlay",
             "size": 10,
             "solidity": 0.2
            },
            "type": "scatter"
           }
          ],
          "scatter3d": [
           {
            "line": {
             "colorbar": {
              "outlinewidth": 0,
              "ticks": ""
             }
            },
            "marker": {
             "colorbar": {
              "outlinewidth": 0,
              "ticks": ""
             }
            },
            "type": "scatter3d"
           }
          ],
          "scattercarpet": [
           {
            "marker": {
             "colorbar": {
              "outlinewidth": 0,
              "ticks": ""
             }
            },
            "type": "scattercarpet"
           }
          ],
          "scattergeo": [
           {
            "marker": {
             "colorbar": {
              "outlinewidth": 0,
              "ticks": ""
             }
            },
            "type": "scattergeo"
           }
          ],
          "scattergl": [
           {
            "marker": {
             "colorbar": {
              "outlinewidth": 0,
              "ticks": ""
             }
            },
            "type": "scattergl"
           }
          ],
          "scattermapbox": [
           {
            "marker": {
             "colorbar": {
              "outlinewidth": 0,
              "ticks": ""
             }
            },
            "type": "scattermapbox"
           }
          ],
          "scatterpolar": [
           {
            "marker": {
             "colorbar": {
              "outlinewidth": 0,
              "ticks": ""
             }
            },
            "type": "scatterpolar"
           }
          ],
          "scatterpolargl": [
           {
            "marker": {
             "colorbar": {
              "outlinewidth": 0,
              "ticks": ""
             }
            },
            "type": "scatterpolargl"
           }
          ],
          "scatterternary": [
           {
            "marker": {
             "colorbar": {
              "outlinewidth": 0,
              "ticks": ""
             }
            },
            "type": "scatterternary"
           }
          ],
          "surface": [
           {
            "colorbar": {
             "outlinewidth": 0,
             "ticks": ""
            },
            "colorscale": [
             [
              0,
              "#0d0887"
             ],
             [
              0.1111111111111111,
              "#46039f"
             ],
             [
              0.2222222222222222,
              "#7201a8"
             ],
             [
              0.3333333333333333,
              "#9c179e"
             ],
             [
              0.4444444444444444,
              "#bd3786"
             ],
             [
              0.5555555555555556,
              "#d8576b"
             ],
             [
              0.6666666666666666,
              "#ed7953"
             ],
             [
              0.7777777777777778,
              "#fb9f3a"
             ],
             [
              0.8888888888888888,
              "#fdca26"
             ],
             [
              1,
              "#f0f921"
             ]
            ],
            "type": "surface"
           }
          ],
          "table": [
           {
            "cells": {
             "fill": {
              "color": "#EBF0F8"
             },
             "line": {
              "color": "white"
             }
            },
            "header": {
             "fill": {
              "color": "#C8D4E3"
             },
             "line": {
              "color": "white"
             }
            },
            "type": "table"
           }
          ]
         },
         "layout": {
          "annotationdefaults": {
           "arrowcolor": "#2a3f5f",
           "arrowhead": 0,
           "arrowwidth": 1
          },
          "autotypenumbers": "strict",
          "coloraxis": {
           "colorbar": {
            "outlinewidth": 0,
            "ticks": ""
           }
          },
          "colorscale": {
           "diverging": [
            [
             0,
             "#8e0152"
            ],
            [
             0.1,
             "#c51b7d"
            ],
            [
             0.2,
             "#de77ae"
            ],
            [
             0.3,
             "#f1b6da"
            ],
            [
             0.4,
             "#fde0ef"
            ],
            [
             0.5,
             "#f7f7f7"
            ],
            [
             0.6,
             "#e6f5d0"
            ],
            [
             0.7,
             "#b8e186"
            ],
            [
             0.8,
             "#7fbc41"
            ],
            [
             0.9,
             "#4d9221"
            ],
            [
             1,
             "#276419"
            ]
           ],
           "sequential": [
            [
             0,
             "#0d0887"
            ],
            [
             0.1111111111111111,
             "#46039f"
            ],
            [
             0.2222222222222222,
             "#7201a8"
            ],
            [
             0.3333333333333333,
             "#9c179e"
            ],
            [
             0.4444444444444444,
             "#bd3786"
            ],
            [
             0.5555555555555556,
             "#d8576b"
            ],
            [
             0.6666666666666666,
             "#ed7953"
            ],
            [
             0.7777777777777778,
             "#fb9f3a"
            ],
            [
             0.8888888888888888,
             "#fdca26"
            ],
            [
             1,
             "#f0f921"
            ]
           ],
           "sequentialminus": [
            [
             0,
             "#0d0887"
            ],
            [
             0.1111111111111111,
             "#46039f"
            ],
            [
             0.2222222222222222,
             "#7201a8"
            ],
            [
             0.3333333333333333,
             "#9c179e"
            ],
            [
             0.4444444444444444,
             "#bd3786"
            ],
            [
             0.5555555555555556,
             "#d8576b"
            ],
            [
             0.6666666666666666,
             "#ed7953"
            ],
            [
             0.7777777777777778,
             "#fb9f3a"
            ],
            [
             0.8888888888888888,
             "#fdca26"
            ],
            [
             1,
             "#f0f921"
            ]
           ]
          },
          "colorway": [
           "#636efa",
           "#EF553B",
           "#00cc96",
           "#ab63fa",
           "#FFA15A",
           "#19d3f3",
           "#FF6692",
           "#B6E880",
           "#FF97FF",
           "#FECB52"
          ],
          "font": {
           "color": "#2a3f5f"
          },
          "geo": {
           "bgcolor": "white",
           "lakecolor": "white",
           "landcolor": "#E5ECF6",
           "showlakes": true,
           "showland": true,
           "subunitcolor": "white"
          },
          "hoverlabel": {
           "align": "left"
          },
          "hovermode": "closest",
          "mapbox": {
           "style": "light"
          },
          "paper_bgcolor": "white",
          "plot_bgcolor": "#E5ECF6",
          "polar": {
           "angularaxis": {
            "gridcolor": "white",
            "linecolor": "white",
            "ticks": ""
           },
           "bgcolor": "#E5ECF6",
           "radialaxis": {
            "gridcolor": "white",
            "linecolor": "white",
            "ticks": ""
           }
          },
          "scene": {
           "xaxis": {
            "backgroundcolor": "#E5ECF6",
            "gridcolor": "white",
            "gridwidth": 2,
            "linecolor": "white",
            "showbackground": true,
            "ticks": "",
            "zerolinecolor": "white"
           },
           "yaxis": {
            "backgroundcolor": "#E5ECF6",
            "gridcolor": "white",
            "gridwidth": 2,
            "linecolor": "white",
            "showbackground": true,
            "ticks": "",
            "zerolinecolor": "white"
           },
           "zaxis": {
            "backgroundcolor": "#E5ECF6",
            "gridcolor": "white",
            "gridwidth": 2,
            "linecolor": "white",
            "showbackground": true,
            "ticks": "",
            "zerolinecolor": "white"
           }
          },
          "shapedefaults": {
           "line": {
            "color": "#2a3f5f"
           }
          },
          "ternary": {
           "aaxis": {
            "gridcolor": "white",
            "linecolor": "white",
            "ticks": ""
           },
           "baxis": {
            "gridcolor": "white",
            "linecolor": "white",
            "ticks": ""
           },
           "bgcolor": "#E5ECF6",
           "caxis": {
            "gridcolor": "white",
            "linecolor": "white",
            "ticks": ""
           }
          },
          "title": {
           "x": 0.05
          },
          "xaxis": {
           "automargin": true,
           "gridcolor": "white",
           "linecolor": "white",
           "ticks": "",
           "title": {
            "standoff": 15
           },
           "zerolinecolor": "white",
           "zerolinewidth": 2
          },
          "yaxis": {
           "automargin": true,
           "gridcolor": "white",
           "linecolor": "white",
           "ticks": "",
           "title": {
            "standoff": 15
           },
           "zerolinecolor": "white",
           "zerolinewidth": 2
          }
         }
        }
       }
      }
     },
     "metadata": {},
     "output_type": "display_data"
    }
   ],
   "source": [
    "import plotly.express as px\n",
    "import seaborn as sns\n",
    "fig = px.sunburst(tips, \n",
    "                  path=['sex','smoker', 'day', 'time'], # categorical values \n",
    "                  values='tip' , color='sex',           # numerical value (tip)\n",
    "                  hover_data=['tip', 'day', 'time'])\n",
    "# how can we add more values when we hover the pointer on the plot?\n",
    "# Show the plot\n",
    "fig.show()\n",
    "\n",
    "# hover_data is a list of variables that are added to the hover label ('tip', 'day', 'time')"
   ]
  },
  {
   "cell_type": "code",
   "execution_count": 4,
   "metadata": {},
   "outputs": [
    {
     "name": "stderr",
     "output_type": "stream",
     "text": [
      "c:\\Users\\Hp\\miniconda3\\envs\\python_eda\\Lib\\site-packages\\plotly\\express\\_core.py:1619: FutureWarning:\n",
      "\n",
      "The default of observed=False is deprecated and will be changed to True in a future version of pandas. Pass observed=False to retain current behavior or observed=True to adopt the future default and silence this warning.\n",
      "\n",
      "c:\\Users\\Hp\\miniconda3\\envs\\python_eda\\Lib\\site-packages\\plotly\\express\\_core.py:1619: FutureWarning:\n",
      "\n",
      "The default of observed=False is deprecated and will be changed to True in a future version of pandas. Pass observed=False to retain current behavior or observed=True to adopt the future default and silence this warning.\n",
      "\n",
      "c:\\Users\\Hp\\miniconda3\\envs\\python_eda\\Lib\\site-packages\\plotly\\express\\_core.py:1619: FutureWarning:\n",
      "\n",
      "The default of observed=False is deprecated and will be changed to True in a future version of pandas. Pass observed=False to retain current behavior or observed=True to adopt the future default and silence this warning.\n",
      "\n",
      "c:\\Users\\Hp\\miniconda3\\envs\\python_eda\\Lib\\site-packages\\plotly\\express\\_core.py:1619: FutureWarning:\n",
      "\n",
      "The default of observed=False is deprecated and will be changed to True in a future version of pandas. Pass observed=False to retain current behavior or observed=True to adopt the future default and silence this warning.\n",
      "\n"
     ]
    },
    {
     "data": {
      "application/vnd.plotly.v1+json": {
       "config": {
        "plotlyServerURL": "https://plot.ly"
       },
       "data": [
        {
         "branchvalues": "total",
         "customdata": [
          [
           "(?)",
           "Thur",
           "Lunch",
           "Male"
          ],
          [
           "(?)",
           "Sun",
           "Dinner",
           "Female"
          ],
          [
           null,
           null,
           null,
           null
          ],
          [
           "(?)",
           "Fri",
           "(?)",
           "Female"
          ],
          [
           null,
           null,
           null,
           null
          ],
          [
           "(?)",
           "Fri",
           "Dinner",
           "Female"
          ],
          [
           "(?)",
           "Fri",
           "Dinner",
           "Male"
          ],
          [
           null,
           null,
           null,
           null
          ],
          [
           null,
           null,
           null,
           null
          ],
          [
           "(?)",
           "(?)",
           "(?)",
           "Male"
          ],
          [
           "(?)",
           "Fri",
           "Lunch",
           "Male"
          ],
          [
           "(?)",
           "Thur",
           "Lunch",
           "Female"
          ],
          [
           "(?)",
           "Thur",
           "Lunch",
           "Male"
          ],
          [
           "(?)",
           "(?)",
           "(?)",
           "Female"
          ],
          [
           "(?)",
           "Thur",
           "Lunch",
           "Male"
          ],
          [
           "(?)",
           "Fri",
           "Dinner",
           "Male"
          ],
          [
           "(?)",
           "Thur",
           "(?)",
           "Female"
          ],
          [
           "(?)",
           "Fri",
           "(?)",
           "Male"
          ],
          [
           "(?)",
           "Sat",
           "Dinner",
           "Male"
          ],
          [
           "(?)",
           "Sat",
           "Dinner",
           "Female"
          ],
          [
           "(?)",
           "Sat",
           "Dinner",
           "Male"
          ],
          [
           "(?)",
           "Sat",
           "Dinner",
           "Female"
          ],
          [
           "(?)",
           "Sun",
           "Dinner",
           "Male"
          ],
          [
           "(?)",
           "Sun",
           "Dinner",
           "Female"
          ],
          [
           "(?)",
           "Sun",
           "Dinner",
           "Male"
          ],
          [
           "(?)",
           "Sun",
           "Dinner",
           "Female"
          ],
          [
           "(?)",
           "(?)",
           "(?)",
           "Male"
          ],
          [
           "(?)",
           "(?)",
           "(?)",
           "Female"
          ],
          [
           "(?)",
           "(?)",
           "(?)",
           "Male"
          ],
          [
           "(?)",
           "Fri",
           "(?)",
           "Female"
          ],
          [
           "(?)",
           "Sun",
           "Dinner",
           "Female"
          ],
          [
           "(?)",
           "Sat",
           "Dinner",
           "Male"
          ],
          [
           "(?)",
           "Sun",
           "Dinner",
           "Male"
          ],
          [
           "(?)",
           "Thur",
           "Lunch",
           "Female"
          ],
          [
           "(?)",
           "Thur",
           "Lunch",
           "Male"
          ],
          [
           "(?)",
           "Thur",
           "Lunch",
           "Female"
          ],
          [
           "(?)",
           "Fri",
           "Lunch",
           "Female"
          ],
          [
           null,
           null,
           null,
           null
          ],
          [
           3,
           "Fri",
           "Lunch",
           "Female"
          ],
          [
           null,
           null,
           null,
           null
          ],
          [
           null,
           null,
           null,
           null
          ],
          [
           null,
           null,
           null,
           null
          ],
          [
           null,
           null,
           null,
           null
          ],
          [
           null,
           null,
           null,
           null
          ],
          [
           null,
           null,
           null,
           null
          ],
          [
           null,
           null,
           null,
           null
          ],
          [
           3,
           "Thur",
           "Dinner",
           "Female"
          ],
          [
           "(?)",
           "Fri",
           "Dinner",
           "Male"
          ],
          [
           3.25,
           "Fri",
           "Dinner",
           "Female"
          ],
          [
           "(?)",
           "Sat",
           "Dinner",
           "Male"
          ],
          [
           "(?)",
           "Sat",
           "Dinner",
           "Female"
          ],
          [
           "(?)",
           "Sat",
           "Dinner",
           "Female"
          ],
          [
           "(?)",
           "Sun",
           "Dinner",
           "Male"
          ],
          [
           "(?)",
           "(?)",
           "(?)",
           "Female"
          ]
         ],
         "domain": {
          "x": [
           0,
           1
          ],
          "y": [
           0,
           1
          ]
         },
         "hovertemplate": "labels=%{label}<br>total_bill=%{value}<br>parent=%{parent}<br>id=%{id}<br>tip=%{customdata[0]}<br>day=%{customdata[1]}<br>time=%{customdata[2]}<br>sex=%{customdata[3]}<extra></extra>",
         "ids": [
          "Male/Yes/Thur/Lunch",
          "Female/Yes/Sun/Dinner",
          "Male/No/Sun/Lunch",
          "Female/Yes/Fri",
          "Female/No/Sat/Lunch",
          "Female/Yes/Fri/Dinner",
          "Male/No/Fri/Dinner",
          "Male/Yes/Thur/Dinner",
          "Male/No/Thur/Dinner",
          "Male",
          "Male/Yes/Fri/Lunch",
          "Female/Yes/Thur",
          "Male/Yes/Thur",
          "Female/No",
          "Male/No/Thur",
          "Male/No/Fri",
          "Female/No/Thur",
          "Male/Yes/Fri",
          "Male/Yes/Sat",
          "Female/Yes/Sat",
          "Male/No/Sat",
          "Female/No/Sat",
          "Male/Yes/Sun",
          "Female/Yes/Sun",
          "Male/No/Sun",
          "Female/No/Sun",
          "Male/Yes",
          "Female/Yes",
          "Male/No",
          "Female/No/Fri",
          "Female/No/Sun/Dinner",
          "Male/No/Sat/Dinner",
          "Male/Yes/Sun/Dinner",
          "Female/Yes/Thur/Lunch",
          "Male/No/Thur/Lunch",
          "Female/No/Thur/Lunch",
          "Female/Yes/Fri/Lunch",
          "Male/No/Fri/Lunch",
          "Female/No/Fri/Lunch",
          "Male/Yes/Sat/Lunch",
          "Female/Yes/Sat/Lunch",
          "Male/No/Sat/Lunch",
          "Male/Yes/Sun/Lunch",
          "Female/Yes/Sun/Lunch",
          "Female/No/Sun/Lunch",
          "Female/Yes/Thur/Dinner",
          "Female/No/Thur/Dinner",
          "Male/Yes/Fri/Dinner",
          "Female/No/Fri/Dinner",
          "Male/Yes/Sat/Dinner",
          "Female/Yes/Sat/Dinner",
          "Female/No/Sat/Dinner",
          "Male/No/Sun/Dinner",
          "Female"
         ],
         "labels": [
          "Lunch",
          "Dinner",
          "Lunch",
          "Fri",
          "Lunch",
          "Dinner",
          "Dinner",
          "Dinner",
          "Dinner",
          "Male",
          "Lunch",
          "Thur",
          "Thur",
          "No",
          "Thur",
          "Fri",
          "Thur",
          "Fri",
          "Sat",
          "Sat",
          "Sat",
          "Sat",
          "Sun",
          "Sun",
          "Sun",
          "Sun",
          "Yes",
          "Yes",
          "No",
          "Fri",
          "Dinner",
          "Dinner",
          "Dinner",
          "Lunch",
          "Lunch",
          "Lunch",
          "Lunch",
          "Lunch",
          "Lunch",
          "Lunch",
          "Lunch",
          "Lunch",
          "Lunch",
          "Lunch",
          "Lunch",
          "Dinner",
          "Dinner",
          "Dinner",
          "Dinner",
          "Dinner",
          "Dinner",
          "Dinner",
          "Dinner",
          "Female"
         ],
         "marker": {
          "colors": [
           "#636efa",
           "#EF553B",
           "#00cc96",
           "#EF553B",
           "#00cc96",
           "#EF553B",
           "#636efa",
           "#00cc96",
           "#00cc96",
           "#636efa",
           "#636efa",
           "#EF553B",
           "#636efa",
           "#EF553B",
           "#636efa",
           "#636efa",
           "#EF553B",
           "#636efa",
           "#636efa",
           "#EF553B",
           "#636efa",
           "#EF553B",
           "#636efa",
           "#EF553B",
           "#636efa",
           "#EF553B",
           "#636efa",
           "#EF553B",
           "#636efa",
           "#EF553B",
           "#EF553B",
           "#636efa",
           "#636efa",
           "#EF553B",
           "#636efa",
           "#EF553B",
           "#EF553B",
           "#00cc96",
           "#EF553B",
           "#00cc96",
           "#00cc96",
           "#00cc96",
           "#00cc96",
           "#00cc96",
           "#00cc96",
           "#00cc96",
           "#EF553B",
           "#636efa",
           "#EF553B",
           "#636efa",
           "#EF553B",
           "#EF553B",
           "#636efa",
           "#EF553B"
          ]
         },
         "name": "",
         "parents": [
          "Male/Yes/Thur",
          "Female/Yes/Sun",
          "Male/No/Sun",
          "Female/Yes",
          "Female/No/Sat",
          "Female/Yes/Fri",
          "Male/No/Fri",
          "Male/Yes/Thur",
          "Male/No/Thur",
          "",
          "Male/Yes/Fri",
          "Female/Yes",
          "Male/Yes",
          "Female",
          "Male/No",
          "Male/No",
          "Female/No",
          "Male/Yes",
          "Male/Yes",
          "Female/Yes",
          "Male/No",
          "Female/No",
          "Male/Yes",
          "Female/Yes",
          "Male/No",
          "Female/No",
          "Male",
          "Female",
          "Male",
          "Female/No",
          "Female/No/Sun",
          "Male/No/Sat",
          "Male/Yes/Sun",
          "Female/Yes/Thur",
          "Male/No/Thur",
          "Female/No/Thur",
          "Female/Yes/Fri",
          "Male/No/Fri",
          "Female/No/Fri",
          "Male/Yes/Sat",
          "Female/Yes/Sat",
          "Male/No/Sat",
          "Male/Yes/Sun",
          "Female/Yes/Sun",
          "Female/No/Sun",
          "Female/Yes/Thur",
          "Female/No/Thur",
          "Male/Yes/Fri",
          "Female/No/Fri",
          "Male/Yes/Sat",
          "Female/Yes/Sat",
          "Female/No/Sat",
          "Male/No/Sun",
          ""
         ],
         "type": "sunburst",
         "values": [
          191.71,
          66.16,
          0,
          88.58,
          0,
          48.8,
          34.95,
          0,
          0,
          3256.82,
          34.16,
          134.53,
          191.71,
          977.6800000000001,
          369.73,
          34.95,
          400.36,
          163.62,
          589.62,
          304,
          637.73,
          247.05,
          392.12,
          66.16,
          877.34,
          291.54,
          1337.07,
          593.27,
          1919.75,
          38.730000000000004,
          291.54,
          637.73,
          392.12,
          134.53,
          369.73,
          381.58,
          39.78,
          0,
          15.98,
          0,
          0,
          0,
          0,
          0,
          0,
          0,
          18.78,
          129.46,
          22.75,
          589.62,
          304,
          247.05,
          877.34,
          1570.95
         ]
        }
       ],
       "layout": {
        "legend": {
         "tracegroupgap": 0
        },
        "margin": {
         "t": 60
        },
        "template": {
         "data": {
          "bar": [
           {
            "error_x": {
             "color": "#2a3f5f"
            },
            "error_y": {
             "color": "#2a3f5f"
            },
            "marker": {
             "line": {
              "color": "#E5ECF6",
              "width": 0.5
             },
             "pattern": {
              "fillmode": "overlay",
              "size": 10,
              "solidity": 0.2
             }
            },
            "type": "bar"
           }
          ],
          "barpolar": [
           {
            "marker": {
             "line": {
              "color": "#E5ECF6",
              "width": 0.5
             },
             "pattern": {
              "fillmode": "overlay",
              "size": 10,
              "solidity": 0.2
             }
            },
            "type": "barpolar"
           }
          ],
          "carpet": [
           {
            "aaxis": {
             "endlinecolor": "#2a3f5f",
             "gridcolor": "white",
             "linecolor": "white",
             "minorgridcolor": "white",
             "startlinecolor": "#2a3f5f"
            },
            "baxis": {
             "endlinecolor": "#2a3f5f",
             "gridcolor": "white",
             "linecolor": "white",
             "minorgridcolor": "white",
             "startlinecolor": "#2a3f5f"
            },
            "type": "carpet"
           }
          ],
          "choropleth": [
           {
            "colorbar": {
             "outlinewidth": 0,
             "ticks": ""
            },
            "type": "choropleth"
           }
          ],
          "contour": [
           {
            "colorbar": {
             "outlinewidth": 0,
             "ticks": ""
            },
            "colorscale": [
             [
              0,
              "#0d0887"
             ],
             [
              0.1111111111111111,
              "#46039f"
             ],
             [
              0.2222222222222222,
              "#7201a8"
             ],
             [
              0.3333333333333333,
              "#9c179e"
             ],
             [
              0.4444444444444444,
              "#bd3786"
             ],
             [
              0.5555555555555556,
              "#d8576b"
             ],
             [
              0.6666666666666666,
              "#ed7953"
             ],
             [
              0.7777777777777778,
              "#fb9f3a"
             ],
             [
              0.8888888888888888,
              "#fdca26"
             ],
             [
              1,
              "#f0f921"
             ]
            ],
            "type": "contour"
           }
          ],
          "contourcarpet": [
           {
            "colorbar": {
             "outlinewidth": 0,
             "ticks": ""
            },
            "type": "contourcarpet"
           }
          ],
          "heatmap": [
           {
            "colorbar": {
             "outlinewidth": 0,
             "ticks": ""
            },
            "colorscale": [
             [
              0,
              "#0d0887"
             ],
             [
              0.1111111111111111,
              "#46039f"
             ],
             [
              0.2222222222222222,
              "#7201a8"
             ],
             [
              0.3333333333333333,
              "#9c179e"
             ],
             [
              0.4444444444444444,
              "#bd3786"
             ],
             [
              0.5555555555555556,
              "#d8576b"
             ],
             [
              0.6666666666666666,
              "#ed7953"
             ],
             [
              0.7777777777777778,
              "#fb9f3a"
             ],
             [
              0.8888888888888888,
              "#fdca26"
             ],
             [
              1,
              "#f0f921"
             ]
            ],
            "type": "heatmap"
           }
          ],
          "heatmapgl": [
           {
            "colorbar": {
             "outlinewidth": 0,
             "ticks": ""
            },
            "colorscale": [
             [
              0,
              "#0d0887"
             ],
             [
              0.1111111111111111,
              "#46039f"
             ],
             [
              0.2222222222222222,
              "#7201a8"
             ],
             [
              0.3333333333333333,
              "#9c179e"
             ],
             [
              0.4444444444444444,
              "#bd3786"
             ],
             [
              0.5555555555555556,
              "#d8576b"
             ],
             [
              0.6666666666666666,
              "#ed7953"
             ],
             [
              0.7777777777777778,
              "#fb9f3a"
             ],
             [
              0.8888888888888888,
              "#fdca26"
             ],
             [
              1,
              "#f0f921"
             ]
            ],
            "type": "heatmapgl"
           }
          ],
          "histogram": [
           {
            "marker": {
             "pattern": {
              "fillmode": "overlay",
              "size": 10,
              "solidity": 0.2
             }
            },
            "type": "histogram"
           }
          ],
          "histogram2d": [
           {
            "colorbar": {
             "outlinewidth": 0,
             "ticks": ""
            },
            "colorscale": [
             [
              0,
              "#0d0887"
             ],
             [
              0.1111111111111111,
              "#46039f"
             ],
             [
              0.2222222222222222,
              "#7201a8"
             ],
             [
              0.3333333333333333,
              "#9c179e"
             ],
             [
              0.4444444444444444,
              "#bd3786"
             ],
             [
              0.5555555555555556,
              "#d8576b"
             ],
             [
              0.6666666666666666,
              "#ed7953"
             ],
             [
              0.7777777777777778,
              "#fb9f3a"
             ],
             [
              0.8888888888888888,
              "#fdca26"
             ],
             [
              1,
              "#f0f921"
             ]
            ],
            "type": "histogram2d"
           }
          ],
          "histogram2dcontour": [
           {
            "colorbar": {
             "outlinewidth": 0,
             "ticks": ""
            },
            "colorscale": [
             [
              0,
              "#0d0887"
             ],
             [
              0.1111111111111111,
              "#46039f"
             ],
             [
              0.2222222222222222,
              "#7201a8"
             ],
             [
              0.3333333333333333,
              "#9c179e"
             ],
             [
              0.4444444444444444,
              "#bd3786"
             ],
             [
              0.5555555555555556,
              "#d8576b"
             ],
             [
              0.6666666666666666,
              "#ed7953"
             ],
             [
              0.7777777777777778,
              "#fb9f3a"
             ],
             [
              0.8888888888888888,
              "#fdca26"
             ],
             [
              1,
              "#f0f921"
             ]
            ],
            "type": "histogram2dcontour"
           }
          ],
          "mesh3d": [
           {
            "colorbar": {
             "outlinewidth": 0,
             "ticks": ""
            },
            "type": "mesh3d"
           }
          ],
          "parcoords": [
           {
            "line": {
             "colorbar": {
              "outlinewidth": 0,
              "ticks": ""
             }
            },
            "type": "parcoords"
           }
          ],
          "pie": [
           {
            "automargin": true,
            "type": "pie"
           }
          ],
          "scatter": [
           {
            "fillpattern": {
             "fillmode": "overlay",
             "size": 10,
             "solidity": 0.2
            },
            "type": "scatter"
           }
          ],
          "scatter3d": [
           {
            "line": {
             "colorbar": {
              "outlinewidth": 0,
              "ticks": ""
             }
            },
            "marker": {
             "colorbar": {
              "outlinewidth": 0,
              "ticks": ""
             }
            },
            "type": "scatter3d"
           }
          ],
          "scattercarpet": [
           {
            "marker": {
             "colorbar": {
              "outlinewidth": 0,
              "ticks": ""
             }
            },
            "type": "scattercarpet"
           }
          ],
          "scattergeo": [
           {
            "marker": {
             "colorbar": {
              "outlinewidth": 0,
              "ticks": ""
             }
            },
            "type": "scattergeo"
           }
          ],
          "scattergl": [
           {
            "marker": {
             "colorbar": {
              "outlinewidth": 0,
              "ticks": ""
             }
            },
            "type": "scattergl"
           }
          ],
          "scattermapbox": [
           {
            "marker": {
             "colorbar": {
              "outlinewidth": 0,
              "ticks": ""
             }
            },
            "type": "scattermapbox"
           }
          ],
          "scatterpolar": [
           {
            "marker": {
             "colorbar": {
              "outlinewidth": 0,
              "ticks": ""
             }
            },
            "type": "scatterpolar"
           }
          ],
          "scatterpolargl": [
           {
            "marker": {
             "colorbar": {
              "outlinewidth": 0,
              "ticks": ""
             }
            },
            "type": "scatterpolargl"
           }
          ],
          "scatterternary": [
           {
            "marker": {
             "colorbar": {
              "outlinewidth": 0,
              "ticks": ""
             }
            },
            "type": "scatterternary"
           }
          ],
          "surface": [
           {
            "colorbar": {
             "outlinewidth": 0,
             "ticks": ""
            },
            "colorscale": [
             [
              0,
              "#0d0887"
             ],
             [
              0.1111111111111111,
              "#46039f"
             ],
             [
              0.2222222222222222,
              "#7201a8"
             ],
             [
              0.3333333333333333,
              "#9c179e"
             ],
             [
              0.4444444444444444,
              "#bd3786"
             ],
             [
              0.5555555555555556,
              "#d8576b"
             ],
             [
              0.6666666666666666,
              "#ed7953"
             ],
             [
              0.7777777777777778,
              "#fb9f3a"
             ],
             [
              0.8888888888888888,
              "#fdca26"
             ],
             [
              1,
              "#f0f921"
             ]
            ],
            "type": "surface"
           }
          ],
          "table": [
           {
            "cells": {
             "fill": {
              "color": "#EBF0F8"
             },
             "line": {
              "color": "white"
             }
            },
            "header": {
             "fill": {
              "color": "#C8D4E3"
             },
             "line": {
              "color": "white"
             }
            },
            "type": "table"
           }
          ]
         },
         "layout": {
          "annotationdefaults": {
           "arrowcolor": "#2a3f5f",
           "arrowhead": 0,
           "arrowwidth": 1
          },
          "autotypenumbers": "strict",
          "coloraxis": {
           "colorbar": {
            "outlinewidth": 0,
            "ticks": ""
           }
          },
          "colorscale": {
           "diverging": [
            [
             0,
             "#8e0152"
            ],
            [
             0.1,
             "#c51b7d"
            ],
            [
             0.2,
             "#de77ae"
            ],
            [
             0.3,
             "#f1b6da"
            ],
            [
             0.4,
             "#fde0ef"
            ],
            [
             0.5,
             "#f7f7f7"
            ],
            [
             0.6,
             "#e6f5d0"
            ],
            [
             0.7,
             "#b8e186"
            ],
            [
             0.8,
             "#7fbc41"
            ],
            [
             0.9,
             "#4d9221"
            ],
            [
             1,
             "#276419"
            ]
           ],
           "sequential": [
            [
             0,
             "#0d0887"
            ],
            [
             0.1111111111111111,
             "#46039f"
            ],
            [
             0.2222222222222222,
             "#7201a8"
            ],
            [
             0.3333333333333333,
             "#9c179e"
            ],
            [
             0.4444444444444444,
             "#bd3786"
            ],
            [
             0.5555555555555556,
             "#d8576b"
            ],
            [
             0.6666666666666666,
             "#ed7953"
            ],
            [
             0.7777777777777778,
             "#fb9f3a"
            ],
            [
             0.8888888888888888,
             "#fdca26"
            ],
            [
             1,
             "#f0f921"
            ]
           ],
           "sequentialminus": [
            [
             0,
             "#0d0887"
            ],
            [
             0.1111111111111111,
             "#46039f"
            ],
            [
             0.2222222222222222,
             "#7201a8"
            ],
            [
             0.3333333333333333,
             "#9c179e"
            ],
            [
             0.4444444444444444,
             "#bd3786"
            ],
            [
             0.5555555555555556,
             "#d8576b"
            ],
            [
             0.6666666666666666,
             "#ed7953"
            ],
            [
             0.7777777777777778,
             "#fb9f3a"
            ],
            [
             0.8888888888888888,
             "#fdca26"
            ],
            [
             1,
             "#f0f921"
            ]
           ]
          },
          "colorway": [
           "#636efa",
           "#EF553B",
           "#00cc96",
           "#ab63fa",
           "#FFA15A",
           "#19d3f3",
           "#FF6692",
           "#B6E880",
           "#FF97FF",
           "#FECB52"
          ],
          "font": {
           "color": "#2a3f5f"
          },
          "geo": {
           "bgcolor": "white",
           "lakecolor": "white",
           "landcolor": "#E5ECF6",
           "showlakes": true,
           "showland": true,
           "subunitcolor": "white"
          },
          "hoverlabel": {
           "align": "left"
          },
          "hovermode": "closest",
          "mapbox": {
           "style": "light"
          },
          "paper_bgcolor": "white",
          "plot_bgcolor": "#E5ECF6",
          "polar": {
           "angularaxis": {
            "gridcolor": "white",
            "linecolor": "white",
            "ticks": ""
           },
           "bgcolor": "#E5ECF6",
           "radialaxis": {
            "gridcolor": "white",
            "linecolor": "white",
            "ticks": ""
           }
          },
          "scene": {
           "xaxis": {
            "backgroundcolor": "#E5ECF6",
            "gridcolor": "white",
            "gridwidth": 2,
            "linecolor": "white",
            "showbackground": true,
            "ticks": "",
            "zerolinecolor": "white"
           },
           "yaxis": {
            "backgroundcolor": "#E5ECF6",
            "gridcolor": "white",
            "gridwidth": 2,
            "linecolor": "white",
            "showbackground": true,
            "ticks": "",
            "zerolinecolor": "white"
           },
           "zaxis": {
            "backgroundcolor": "#E5ECF6",
            "gridcolor": "white",
            "gridwidth": 2,
            "linecolor": "white",
            "showbackground": true,
            "ticks": "",
            "zerolinecolor": "white"
           }
          },
          "shapedefaults": {
           "line": {
            "color": "#2a3f5f"
           }
          },
          "ternary": {
           "aaxis": {
            "gridcolor": "white",
            "linecolor": "white",
            "ticks": ""
           },
           "baxis": {
            "gridcolor": "white",
            "linecolor": "white",
            "ticks": ""
           },
           "bgcolor": "#E5ECF6",
           "caxis": {
            "gridcolor": "white",
            "linecolor": "white",
            "ticks": ""
           }
          },
          "title": {
           "x": 0.05
          },
          "xaxis": {
           "automargin": true,
           "gridcolor": "white",
           "linecolor": "white",
           "ticks": "",
           "title": {
            "standoff": 15
           },
           "zerolinecolor": "white",
           "zerolinewidth": 2
          },
          "yaxis": {
           "automargin": true,
           "gridcolor": "white",
           "linecolor": "white",
           "ticks": "",
           "title": {
            "standoff": 15
           },
           "zerolinecolor": "white",
           "zerolinewidth": 2
          }
         }
        }
       }
      }
     },
     "metadata": {},
     "output_type": "display_data"
    }
   ],
   "source": [
    "# Total_Bill Data in the Sunburst Plot:\n",
    "import plotly.express as px\n",
    "import seaborn as sns\n",
    "fig = px.sunburst(tips, \n",
    "                  path=['sex','smoker', 'day', 'time'], \n",
    "                  values='total_bill' , color='sex',\n",
    "                  hover_data=['tip', 'day', 'time'])\n",
    "# how can we add more values when we hover the pointer on the plot?\n",
    "# Show the plot\n",
    "fig.show()"
   ]
  },
  {
   "cell_type": "code",
   "execution_count": 2,
   "metadata": {},
   "outputs": [
    {
     "data": {
      "text/html": [
       "<div>\n",
       "<style scoped>\n",
       "    .dataframe tbody tr th:only-of-type {\n",
       "        vertical-align: middle;\n",
       "    }\n",
       "\n",
       "    .dataframe tbody tr th {\n",
       "        vertical-align: top;\n",
       "    }\n",
       "\n",
       "    .dataframe thead th {\n",
       "        text-align: right;\n",
       "    }\n",
       "</style>\n",
       "<table border=\"1\" class=\"dataframe\">\n",
       "  <thead>\n",
       "    <tr style=\"text-align: right;\">\n",
       "      <th></th>\n",
       "      <th>country</th>\n",
       "      <th>continent</th>\n",
       "      <th>year</th>\n",
       "      <th>lifeExp</th>\n",
       "      <th>pop</th>\n",
       "      <th>gdpPercap</th>\n",
       "      <th>iso_alpha</th>\n",
       "      <th>iso_num</th>\n",
       "    </tr>\n",
       "  </thead>\n",
       "  <tbody>\n",
       "    <tr>\n",
       "      <th>0</th>\n",
       "      <td>Afghanistan</td>\n",
       "      <td>Asia</td>\n",
       "      <td>1952</td>\n",
       "      <td>28.801</td>\n",
       "      <td>8425333</td>\n",
       "      <td>779.445314</td>\n",
       "      <td>AFG</td>\n",
       "      <td>4</td>\n",
       "    </tr>\n",
       "    <tr>\n",
       "      <th>1</th>\n",
       "      <td>Afghanistan</td>\n",
       "      <td>Asia</td>\n",
       "      <td>1957</td>\n",
       "      <td>30.332</td>\n",
       "      <td>9240934</td>\n",
       "      <td>820.853030</td>\n",
       "      <td>AFG</td>\n",
       "      <td>4</td>\n",
       "    </tr>\n",
       "    <tr>\n",
       "      <th>2</th>\n",
       "      <td>Afghanistan</td>\n",
       "      <td>Asia</td>\n",
       "      <td>1962</td>\n",
       "      <td>31.997</td>\n",
       "      <td>10267083</td>\n",
       "      <td>853.100710</td>\n",
       "      <td>AFG</td>\n",
       "      <td>4</td>\n",
       "    </tr>\n",
       "    <tr>\n",
       "      <th>3</th>\n",
       "      <td>Afghanistan</td>\n",
       "      <td>Asia</td>\n",
       "      <td>1967</td>\n",
       "      <td>34.020</td>\n",
       "      <td>11537966</td>\n",
       "      <td>836.197138</td>\n",
       "      <td>AFG</td>\n",
       "      <td>4</td>\n",
       "    </tr>\n",
       "    <tr>\n",
       "      <th>4</th>\n",
       "      <td>Afghanistan</td>\n",
       "      <td>Asia</td>\n",
       "      <td>1972</td>\n",
       "      <td>36.088</td>\n",
       "      <td>13079460</td>\n",
       "      <td>739.981106</td>\n",
       "      <td>AFG</td>\n",
       "      <td>4</td>\n",
       "    </tr>\n",
       "  </tbody>\n",
       "</table>\n",
       "</div>"
      ],
      "text/plain": [
       "       country continent  year  lifeExp       pop   gdpPercap iso_alpha  \\\n",
       "0  Afghanistan      Asia  1952   28.801   8425333  779.445314       AFG   \n",
       "1  Afghanistan      Asia  1957   30.332   9240934  820.853030       AFG   \n",
       "2  Afghanistan      Asia  1962   31.997  10267083  853.100710       AFG   \n",
       "3  Afghanistan      Asia  1967   34.020  11537966  836.197138       AFG   \n",
       "4  Afghanistan      Asia  1972   36.088  13079460  739.981106       AFG   \n",
       "\n",
       "   iso_num  \n",
       "0        4  \n",
       "1        4  \n",
       "2        4  \n",
       "3        4  \n",
       "4        4  "
      ]
     },
     "execution_count": 2,
     "metadata": {},
     "output_type": "execute_result"
    }
   ],
   "source": [
    "import plotly.express as px\n",
    "df = px.data.gapminder()\n",
    "df.head()"
   ]
  },
  {
   "cell_type": "code",
   "execution_count": 3,
   "metadata": {},
   "outputs": [
    {
     "data": {
      "application/vnd.plotly.v1+json": {
       "config": {
        "plotlyServerURL": "https://plot.ly"
       },
       "data": [
        {
         "branchvalues": "total",
         "customdata": [
          [
           "Africa"
          ],
          [
           "Africa"
          ],
          [
           "Africa"
          ],
          [
           "Europe"
          ],
          [
           "Americas"
          ],
          [
           "Europe"
          ],
          [
           "Europe"
          ],
          [
           "Africa"
          ],
          [
           "Americas"
          ],
          [
           "Americas"
          ],
          [
           "Africa"
          ],
          [
           "Americas"
          ],
          [
           "Africa"
          ],
          [
           "Africa"
          ],
          [
           "Americas"
          ],
          [
           "Africa"
          ],
          [
           "Asia"
          ],
          [
           "Europe"
          ],
          [
           "Africa"
          ],
          [
           "Europe"
          ],
          [
           "Africa"
          ],
          [
           "Asia"
          ],
          [
           "Asia"
          ],
          [
           "Asia"
          ],
          [
           "Europe"
          ],
          [
           "Africa"
          ],
          [
           "Americas"
          ],
          [
           "Europe"
          ],
          [
           "Africa"
          ],
          [
           "Americas"
          ],
          [
           "Europe"
          ],
          [
           "Africa"
          ],
          [
           "Africa"
          ],
          [
           "Asia"
          ],
          [
           "Africa"
          ],
          [
           "Americas"
          ],
          [
           "Africa"
          ],
          [
           "Africa"
          ],
          [
           "Americas"
          ],
          [
           "Americas"
          ],
          [
           "Europe"
          ],
          [
           "Africa"
          ],
          [
           "Europe"
          ],
          [
           "Asia"
          ],
          [
           "Asia"
          ],
          [
           "Africa"
          ],
          [
           "Africa"
          ],
          [
           "Africa"
          ],
          [
           "Africa"
          ],
          [
           "Africa"
          ],
          [
           "Asia"
          ],
          [
           "Africa"
          ],
          [
           "Africa"
          ],
          [
           "Africa"
          ],
          [
           "Americas"
          ],
          [
           "Asia"
          ],
          [
           "Europe"
          ],
          [
           "Africa"
          ],
          [
           "Africa"
          ],
          [
           "Asia"
          ],
          [
           "Asia"
          ],
          [
           "Africa"
          ],
          [
           "Asia"
          ],
          [
           "Asia"
          ],
          [
           "Asia"
          ],
          [
           "Africa"
          ],
          [
           "Africa"
          ],
          [
           "Europe"
          ],
          [
           "Americas"
          ],
          [
           "Asia"
          ],
          [
           "Europe"
          ],
          [
           "Europe"
          ],
          [
           "Asia"
          ],
          [
           "Asia"
          ],
          [
           "Asia"
          ],
          [
           "Asia"
          ],
          [
           "Europe"
          ],
          [
           "Asia"
          ],
          [
           "Europe"
          ],
          [
           "Americas"
          ],
          [
           "Asia"
          ],
          [
           "Africa"
          ],
          [
           "Africa"
          ],
          [
           "Americas"
          ],
          [
           "Americas"
          ],
          [
           "Africa"
          ],
          [
           "Asia"
          ],
          [
           "Africa"
          ],
          [
           "Asia"
          ],
          [
           "Asia"
          ],
          [
           "Europe"
          ],
          [
           "Europe"
          ],
          [
           "Africa"
          ],
          [
           "Africa"
          ],
          [
           "Asia"
          ],
          [
           "Europe"
          ],
          [
           "Africa"
          ],
          [
           "Africa"
          ],
          [
           "Africa"
          ],
          [
           "Asia"
          ],
          [
           "Asia"
          ],
          [
           "Africa"
          ],
          [
           "Africa"
          ],
          [
           "Asia"
          ],
          [
           "Europe"
          ],
          [
           "Americas"
          ],
          [
           "Americas"
          ],
          [
           "Americas"
          ],
          [
           "Asia"
          ],
          [
           "Europe"
          ],
          [
           "Europe"
          ],
          [
           "Asia"
          ],
          [
           "Europe"
          ],
          [
           "Asia"
          ],
          [
           "Asia"
          ],
          [
           "Europe"
          ],
          [
           "Asia"
          ],
          [
           "Africa"
          ],
          [
           "Africa"
          ],
          [
           "Asia"
          ],
          [
           "Africa"
          ],
          [
           "Africa"
          ],
          [
           "Africa"
          ],
          [
           "Asia"
          ],
          [
           "Oceania"
          ],
          [
           "Africa"
          ],
          [
           "Africa"
          ],
          [
           "Asia"
          ],
          [
           "Asia"
          ],
          [
           "Europe"
          ],
          [
           "Africa"
          ],
          [
           "Africa"
          ],
          [
           "Americas"
          ],
          [
           "Americas"
          ],
          [
           "Americas"
          ],
          [
           "Asia"
          ],
          [
           "Asia"
          ],
          [
           "Asia"
          ],
          [
           "Africa"
          ],
          [
           "Africa"
          ],
          [
           "Asia"
          ],
          [
           "Europe"
          ],
          [
           "Africa"
          ],
          [
           "Africa"
          ],
          [
           "Americas"
          ],
          [
           "Americas"
          ],
          [
           "Americas"
          ],
          [
           "Asia"
          ],
          [
           "Europe"
          ],
          [
           "Africa"
          ],
          [
           "Europe"
          ],
          [
           "Americas"
          ],
          [
           "Africa"
          ],
          [
           "Americas"
          ],
          [
           "Africa"
          ],
          [
           "Americas"
          ],
          [
           "Americas"
          ],
          [
           "Africa"
          ],
          [
           "Europe"
          ],
          [
           "Europe"
          ],
          [
           "Americas"
          ],
          [
           "Europe"
          ],
          [
           "Africa"
          ],
          [
           "Europe"
          ],
          [
           "Europe"
          ],
          [
           "Americas"
          ],
          [
           "Africa"
          ],
          [
           "Asia"
          ],
          [
           "Africa"
          ],
          [
           "Asia"
          ],
          [
           "Europe"
          ],
          [
           "Europe"
          ],
          [
           "Asia"
          ],
          [
           "Asia"
          ],
          [
           "Asia"
          ],
          [
           "Asia"
          ],
          [
           "Europe"
          ],
          [
           "Asia"
          ],
          [
           "Europe"
          ],
          [
           "Americas"
          ],
          [
           "Asia"
          ],
          [
           "Asia"
          ],
          [
           "Americas"
          ],
          [
           "Asia"
          ],
          [
           "Asia"
          ],
          [
           "Africa"
          ],
          [
           "Americas"
          ],
          [
           "Asia"
          ],
          [
           "Americas"
          ],
          [
           "Africa"
          ],
          [
           "Europe"
          ],
          [
           "Europe"
          ],
          [
           "Africa"
          ],
          [
           "Africa"
          ],
          [
           "Europe"
          ],
          [
           "Africa"
          ],
          [
           "Europe"
          ],
          [
           "Americas"
          ],
          [
           "Africa"
          ],
          [
           "Africa"
          ],
          [
           "Europe"
          ],
          [
           "Africa"
          ],
          [
           "Africa"
          ],
          [
           "Europe"
          ],
          [
           "Africa"
          ],
          [
           "Europe"
          ],
          [
           "Americas"
          ],
          [
           "Africa"
          ],
          [
           "Africa"
          ],
          [
           "Asia"
          ],
          [
           "Asia"
          ],
          [
           "Asia"
          ],
          [
           "Africa"
          ],
          [
           "Asia"
          ],
          [
           "Americas"
          ],
          [
           "Americas"
          ],
          [
           "Americas"
          ],
          [
           "Europe"
          ],
          [
           "Africa"
          ],
          [
           "Europe"
          ],
          [
           "Africa"
          ],
          [
           "Americas"
          ],
          [
           "Africa"
          ],
          [
           "Asia"
          ],
          [
           "Africa"
          ],
          [
           "Asia"
          ],
          [
           "Asia"
          ],
          [
           "Europe"
          ],
          [
           "Europe"
          ],
          [
           "Asia"
          ],
          [
           "Africa"
          ],
          [
           "Europe"
          ],
          [
           "Africa"
          ],
          [
           "Africa"
          ],
          [
           "Africa"
          ],
          [
           "Africa"
          ],
          [
           "Africa"
          ],
          [
           "Asia"
          ],
          [
           "Asia"
          ],
          [
           "Africa"
          ],
          [
           "Asia"
          ],
          [
           "Africa"
          ],
          [
           "Americas"
          ],
          [
           "Africa"
          ],
          [
           "Europe"
          ],
          [
           "Europe"
          ],
          [
           "Africa"
          ],
          [
           "Africa"
          ],
          [
           "Europe"
          ],
          [
           "Africa"
          ],
          [
           "Africa"
          ],
          [
           "Europe"
          ],
          [
           "Americas"
          ],
          [
           "Europe"
          ],
          [
           "Europe"
          ],
          [
           "Europe"
          ],
          [
           "Africa"
          ],
          [
           "Africa"
          ],
          [
           "Europe"
          ],
          [
           "Asia"
          ],
          [
           "Africa"
          ],
          [
           "Africa"
          ],
          [
           "Europe"
          ],
          [
           "Europe"
          ],
          [
           "Asia"
          ],
          [
           "Asia"
          ],
          [
           "Africa"
          ],
          [
           "Asia"
          ],
          [
           "Africa"
          ],
          [
           "Americas"
          ],
          [
           "Africa"
          ],
          [
           "Africa"
          ],
          [
           "Africa"
          ],
          [
           "Asia"
          ],
          [
           "Africa"
          ],
          [
           "Europe"
          ],
          [
           "Europe"
          ],
          [
           "Asia"
          ],
          [
           "Asia"
          ],
          [
           "Africa"
          ],
          [
           "Asia"
          ],
          [
           "Africa"
          ],
          [
           "Americas"
          ],
          [
           "Africa"
          ],
          [
           "Europe"
          ],
          [
           "Africa"
          ],
          [
           "Europe"
          ],
          [
           "Americas"
          ],
          [
           "Americas"
          ],
          [
           "Americas"
          ],
          [
           "Asia"
          ],
          [
           "Asia"
          ],
          [
           "Asia"
          ],
          [
           "Europe"
          ],
          [
           "Europe"
          ],
          [
           "Africa"
          ],
          [
           "Americas"
          ],
          [
           "Europe"
          ],
          [
           "Africa"
          ],
          [
           "Africa"
          ],
          [
           "Asia"
          ],
          [
           "Africa"
          ],
          [
           "Africa"
          ],
          [
           "Americas"
          ],
          [
           "Africa"
          ],
          [
           "Africa"
          ],
          [
           "Africa"
          ],
          [
           "Americas"
          ],
          [
           "Asia"
          ],
          [
           "Americas"
          ],
          [
           "Africa"
          ],
          [
           "Africa"
          ],
          [
           "Europe"
          ],
          [
           "Africa"
          ],
          [
           "Americas"
          ],
          [
           "Europe"
          ],
          [
           "Americas"
          ],
          [
           "Americas"
          ],
          [
           "Americas"
          ],
          [
           "Asia"
          ],
          [
           "Africa"
          ],
          [
           "Africa"
          ],
          [
           "Africa"
          ],
          [
           "Americas"
          ],
          [
           "Africa"
          ],
          [
           "Americas"
          ],
          [
           "Americas"
          ],
          [
           "Africa"
          ],
          [
           "Europe"
          ],
          [
           "Europe"
          ],
          [
           "Americas"
          ],
          [
           "Europe"
          ],
          [
           "Asia"
          ],
          [
           "Africa"
          ],
          [
           "Africa"
          ],
          [
           "Asia"
          ],
          [
           "Europe"
          ],
          [
           "Europe"
          ],
          [
           "Africa"
          ],
          [
           "Africa"
          ],
          [
           "Europe"
          ],
          [
           "Europe"
          ],
          [
           "Africa"
          ],
          [
           "Africa"
          ],
          [
           "Africa"
          ],
          [
           "Africa"
          ],
          [
           "Africa"
          ],
          [
           "Americas"
          ],
          [
           "Americas"
          ],
          [
           "Africa"
          ],
          [
           "Europe"
          ],
          [
           "Europe"
          ],
          [
           "Americas"
          ],
          [
           "Americas"
          ],
          [
           "Europe"
          ],
          [
           "Europe"
          ],
          [
           "Africa"
          ],
          [
           "Asia"
          ],
          [
           "Asia"
          ],
          [
           "Europe"
          ],
          [
           "Europe"
          ],
          [
           "Europe"
          ],
          [
           "Africa"
          ],
          [
           "Europe"
          ],
          [
           "Americas"
          ],
          [
           "Africa"
          ],
          [
           "Europe"
          ],
          [
           "Europe"
          ],
          [
           "Africa"
          ],
          [
           "Asia"
          ],
          [
           "Americas"
          ],
          [
           "Americas"
          ],
          [
           "Africa"
          ],
          [
           "Africa"
          ],
          [
           "Africa"
          ],
          [
           "Africa"
          ],
          [
           "Europe"
          ],
          [
           "Americas"
          ],
          [
           "Europe"
          ],
          [
           "Africa"
          ],
          [
           "Africa"
          ],
          [
           "Asia"
          ],
          [
           "Africa"
          ],
          [
           "Americas"
          ],
          [
           "Europe"
          ],
          [
           "Africa"
          ],
          [
           "Americas"
          ],
          [
           "Asia"
          ],
          [
           "Americas"
          ],
          [
           "Africa"
          ],
          [
           "Americas"
          ],
          [
           "Americas"
          ],
          [
           "Europe"
          ],
          [
           "Africa"
          ],
          [
           "Americas"
          ],
          [
           "Americas"
          ],
          [
           "Asia"
          ],
          [
           "Europe"
          ],
          [
           "Asia"
          ],
          [
           "Asia"
          ],
          [
           "Africa"
          ],
          [
           "Asia"
          ],
          [
           "Africa"
          ],
          [
           "Americas"
          ],
          [
           "Africa"
          ],
          [
           "Europe"
          ],
          [
           "Africa"
          ],
          [
           "Americas"
          ],
          [
           "Africa"
          ],
          [
           "Africa"
          ],
          [
           "Africa"
          ],
          [
           "Americas"
          ],
          [
           "Asia"
          ],
          [
           "Asia"
          ],
          [
           "Asia"
          ],
          [
           "Asia"
          ],
          [
           "Europe"
          ],
          [
           "Asia"
          ],
          [
           "Europe"
          ],
          [
           "Asia"
          ],
          [
           "Asia"
          ],
          [
           "Americas"
          ],
          [
           "Africa"
          ],
          [
           "Africa"
          ],
          [
           "Africa"
          ],
          [
           "Asia"
          ],
          [
           "Americas"
          ],
          [
           "Europe"
          ],
          [
           "Americas"
          ],
          [
           "Europe"
          ],
          [
           "Europe"
          ],
          [
           "Africa"
          ],
          [
           "Americas"
          ],
          [
           "Americas"
          ],
          [
           "Africa"
          ],
          [
           "Africa"
          ],
          [
           "Africa"
          ],
          [
           "Europe"
          ],
          [
           "Asia"
          ],
          [
           "Asia"
          ],
          [
           "Asia"
          ],
          [
           "Americas"
          ],
          [
           "Americas"
          ],
          [
           "Americas"
          ],
          [
           "Europe"
          ],
          [
           "Africa"
          ],
          [
           "Europe"
          ],
          [
           "Africa"
          ],
          [
           "Americas"
          ],
          [
           "Africa"
          ],
          [
           "Asia"
          ],
          [
           "Africa"
          ],
          [
           "Asia"
          ],
          [
           "Asia"
          ],
          [
           "Europe"
          ],
          [
           "Africa"
          ],
          [
           "Africa"
          ],
          [
           "Americas"
          ],
          [
           "Africa"
          ],
          [
           "Africa"
          ],
          [
           "Asia"
          ],
          [
           "Asia"
          ],
          [
           "Asia"
          ],
          [
           "Asia"
          ],
          [
           "Africa"
          ],
          [
           "Asia"
          ],
          [
           "Africa"
          ],
          [
           "Asia"
          ],
          [
           "Europe"
          ],
          [
           "Asia"
          ],
          [
           "Europe"
          ],
          [
           "Asia"
          ],
          [
           "Asia"
          ],
          [
           "Americas"
          ],
          [
           "Europe"
          ],
          [
           "Americas"
          ],
          [
           "Asia"
          ],
          [
           "Asia"
          ],
          [
           "Asia"
          ],
          [
           "Africa"
          ],
          [
           "Europe"
          ],
          [
           "Europe"
          ],
          [
           "Africa"
          ],
          [
           "Africa"
          ],
          [
           "Europe"
          ],
          [
           "Americas"
          ],
          [
           "Africa"
          ],
          [
           "Africa"
          ],
          [
           "Africa"
          ],
          [
           "Asia"
          ],
          [
           "Africa"
          ],
          [
           "Africa"
          ],
          [
           "Africa"
          ],
          [
           "Africa"
          ],
          [
           "Africa"
          ],
          [
           "Asia"
          ],
          [
           "Africa"
          ],
          [
           "Americas"
          ],
          [
           "Africa"
          ],
          [
           "Africa"
          ],
          [
           "Asia"
          ],
          [
           "Africa"
          ],
          [
           "Americas"
          ],
          [
           "Africa"
          ],
          [
           "Europe"
          ],
          [
           "Africa"
          ],
          [
           "Africa"
          ],
          [
           "Europe"
          ],
          [
           "Europe"
          ],
          [
           "Europe"
          ],
          [
           "Asia"
          ],
          [
           "Africa"
          ],
          [
           "Europe"
          ],
          [
           "Africa"
          ],
          [
           "Africa"
          ],
          [
           "Asia"
          ],
          [
           "Asia"
          ],
          [
           "Europe"
          ],
          [
           "Asia"
          ],
          [
           "Africa"
          ],
          [
           "Africa"
          ],
          [
           "Europe"
          ],
          [
           "Africa"
          ],
          [
           "Asia"
          ],
          [
           "Europe"
          ],
          [
           "Africa"
          ],
          [
           "Africa"
          ],
          [
           "Africa"
          ],
          [
           "Europe"
          ],
          [
           "Asia"
          ],
          [
           "Africa"
          ],
          [
           "Africa"
          ],
          [
           "Europe"
          ],
          [
           "Asia"
          ],
          [
           "Africa"
          ],
          [
           "Africa"
          ],
          [
           "Europe"
          ],
          [
           "Europe"
          ],
          [
           "Africa"
          ],
          [
           "Americas"
          ],
          [
           "Americas"
          ],
          [
           "Africa"
          ],
          [
           "Americas"
          ],
          [
           "Africa"
          ],
          [
           "Africa"
          ],
          [
           "Africa"
          ],
          [
           "Europe"
          ],
          [
           "Europe"
          ],
          [
           "Africa"
          ],
          [
           "Africa"
          ],
          [
           "Europe"
          ],
          [
           "Africa"
          ],
          [
           "Europe"
          ],
          [
           "Asia"
          ],
          [
           "Americas"
          ],
          [
           "Africa"
          ],
          [
           "Americas"
          ],
          [
           "Asia"
          ],
          [
           "Europe"
          ],
          [
           "Europe"
          ],
          [
           "Americas"
          ],
          [
           "Africa"
          ],
          [
           "Europe"
          ],
          [
           "Africa"
          ],
          [
           "Africa"
          ],
          [
           "Asia"
          ],
          [
           "Africa"
          ],
          [
           "Asia"
          ],
          [
           "Europe"
          ],
          [
           "Africa"
          ],
          [
           "Americas"
          ],
          [
           "Europe"
          ],
          [
           "Europe"
          ],
          [
           "Europe"
          ],
          [
           "Africa"
          ],
          [
           "Asia"
          ],
          [
           "Asia"
          ],
          [
           "Asia"
          ],
          [
           "Africa"
          ],
          [
           "Asia"
          ],
          [
           "Asia"
          ],
          [
           "Americas"
          ],
          [
           "Europe"
          ],
          [
           "Asia"
          ],
          [
           "Europe"
          ],
          [
           "Africa"
          ],
          [
           "Asia"
          ],
          [
           "Asia"
          ],
          [
           "Asia"
          ],
          [
           "Asia"
          ],
          [
           "Europe"
          ],
          [
           "Asia"
          ],
          [
           "Americas"
          ],
          [
           "Americas"
          ],
          [
           "Africa"
          ],
          [
           "Africa"
          ],
          [
           "Americas"
          ],
          [
           "Europe"
          ],
          [
           "Africa"
          ],
          [
           "Americas"
          ],
          [
           "Asia"
          ],
          [
           "Americas"
          ],
          [
           "Africa"
          ],
          [
           "Europe"
          ],
          [
           "Africa"
          ],
          [
           "Asia"
          ],
          [
           "Asia"
          ],
          [
           "Asia"
          ],
          [
           "Africa"
          ],
          [
           "Asia"
          ],
          [
           "Africa"
          ],
          [
           "Asia"
          ],
          [
           "Europe"
          ],
          [
           "Americas"
          ],
          [
           "Africa"
          ],
          [
           "Oceania"
          ],
          [
           "Asia"
          ],
          [
           "Europe"
          ],
          [
           "Oceania"
          ],
          [
           "Americas"
          ],
          [
           "Europe"
          ],
          [
           "Africa"
          ],
          [
           "Africa"
          ],
          [
           "Africa"
          ],
          [
           "Africa"
          ],
          [
           "Africa"
          ],
          [
           "Africa"
          ],
          [
           "Asia"
          ],
          [
           "Asia"
          ],
          [
           "Americas"
          ],
          [
           "Asia"
          ],
          [
           "Americas"
          ],
          [
           "Americas"
          ],
          [
           "Europe"
          ],
          [
           "Africa"
          ],
          [
           "Africa"
          ],
          [
           "Asia"
          ],
          [
           "Africa"
          ],
          [
           "Asia"
          ],
          [
           "Africa"
          ],
          [
           "Africa"
          ],
          [
           "Africa"
          ],
          [
           "Asia"
          ],
          [
           "Europe"
          ],
          [
           "Europe"
          ],
          [
           "Asia"
          ],
          [
           "Asia"
          ],
          [
           "Asia"
          ],
          [
           "Asia"
          ],
          [
           "Europe"
          ],
          [
           "Americas"
          ],
          [
           "Europe"
          ],
          [
           "Africa"
          ],
          [
           "Asia"
          ],
          [
           "Africa"
          ],
          [
           "Asia"
          ],
          [
           "Asia"
          ],
          [
           "Africa"
          ],
          [
           "Africa"
          ],
          [
           "Africa"
          ],
          [
           "Europe"
          ],
          [
           "Europe"
          ],
          [
           "Africa"
          ],
          [
           "Africa"
          ],
          [
           "Africa"
          ],
          [
           "Europe"
          ],
          [
           "Africa"
          ],
          [
           "Europe"
          ],
          [
           "Americas"
          ],
          [
           "Africa"
          ],
          [
           "Africa"
          ],
          [
           "Europe"
          ],
          [
           "Africa"
          ],
          [
           "Asia"
          ],
          [
           "Europe"
          ],
          [
           "Europe"
          ],
          [
           "Africa"
          ],
          [
           "Africa"
          ],
          [
           "Europe"
          ],
          [
           "Asia"
          ],
          [
           "Africa"
          ],
          [
           "Europe"
          ],
          [
           "Africa"
          ],
          [
           "Asia"
          ],
          [
           "Asia"
          ],
          [
           "Asia"
          ],
          [
           "Africa"
          ],
          [
           "Americas"
          ],
          [
           "Africa"
          ],
          [
           "Asia"
          ],
          [
           "Asia"
          ],
          [
           "Americas"
          ],
          [
           "Americas"
          ],
          [
           "Africa"
          ],
          [
           "Europe"
          ],
          [
           "Europe"
          ],
          [
           "Americas"
          ],
          [
           "Europe"
          ],
          [
           "Africa"
          ],
          [
           "Americas"
          ],
          [
           "Africa"
          ],
          [
           "Africa"
          ],
          [
           "Africa"
          ],
          [
           "Africa"
          ],
          [
           "Europe"
          ],
          [
           "Africa"
          ],
          [
           "Europe"
          ],
          [
           "Americas"
          ],
          [
           "Africa"
          ],
          [
           "Africa"
          ],
          [
           "Americas"
          ],
          [
           "Americas"
          ],
          [
           "Asia"
          ],
          [
           "Europe"
          ],
          [
           "Europe"
          ],
          [
           "Americas"
          ],
          [
           "Americas"
          ],
          [
           "Americas"
          ],
          [
           "Asia"
          ],
          [
           "Europe"
          ],
          [
           "Americas"
          ],
          [
           "Americas"
          ],
          [
           "Americas"
          ],
          [
           "Americas"
          ],
          [
           "Asia"
          ],
          [
           "Africa"
          ],
          [
           "Africa"
          ],
          [
           "Europe"
          ],
          [
           "Asia"
          ],
          [
           "Africa"
          ],
          [
           "Africa"
          ],
          [
           "Asia"
          ],
          [
           "Asia"
          ],
          [
           "Asia"
          ],
          [
           "Americas"
          ],
          [
           "Americas"
          ],
          [
           "Americas"
          ],
          [
           "Asia"
          ],
          [
           "Africa"
          ],
          [
           "Africa"
          ],
          [
           "Europe"
          ],
          [
           "Africa"
          ],
          [
           "Americas"
          ],
          [
           "Europe"
          ],
          [
           "Europe"
          ],
          [
           "Asia"
          ],
          [
           "Africa"
          ],
          [
           "Africa"
          ],
          [
           "Asia"
          ],
          [
           "Africa"
          ],
          [
           "Africa"
          ],
          [
           "Africa"
          ],
          [
           "Africa"
          ],
          [
           "Asia"
          ],
          [
           "Europe"
          ],
          [
           "Africa"
          ],
          [
           "Africa"
          ],
          [
           "Europe"
          ],
          [
           "Europe"
          ],
          [
           "Asia"
          ],
          [
           "Africa"
          ],
          [
           "Africa"
          ],
          [
           "Europe"
          ],
          [
           "Asia"
          ],
          [
           "Asia"
          ],
          [
           "Europe"
          ],
          [
           "Europe"
          ],
          [
           "Asia"
          ],
          [
           "Americas"
          ],
          [
           "Americas"
          ],
          [
           "Africa"
          ],
          [
           "Africa"
          ],
          [
           "Americas"
          ],
          [
           "Europe"
          ],
          [
           "Africa"
          ],
          [
           "Africa"
          ],
          [
           "Africa"
          ],
          [
           "Asia"
          ],
          [
           "Africa"
          ],
          [
           "Asia"
          ],
          [
           "Asia"
          ],
          [
           "Americas"
          ],
          [
           "Americas"
          ],
          [
           "Americas"
          ],
          [
           "Europe"
          ],
          [
           "Africa"
          ],
          [
           "Europe"
          ],
          [
           "Asia"
          ],
          [
           "Asia"
          ],
          [
           "Asia"
          ],
          [
           "Asia"
          ],
          [
           "Africa"
          ],
          [
           "Europe"
          ],
          [
           "Europe"
          ],
          [
           "Americas"
          ],
          [
           "Asia"
          ],
          [
           "Asia"
          ],
          [
           "Africa"
          ],
          [
           "Asia"
          ],
          [
           "Asia"
          ],
          [
           "Asia"
          ],
          [
           "Asia"
          ],
          [
           "Africa"
          ],
          [
           "Africa"
          ],
          [
           "Africa"
          ],
          [
           "Asia"
          ],
          [
           "Europe"
          ],
          [
           "Asia"
          ],
          [
           "Americas"
          ],
          [
           "Africa"
          ],
          [
           "Europe"
          ],
          [
           "Europe"
          ],
          [
           "Americas"
          ],
          [
           "Americas"
          ],
          [
           "Africa"
          ],
          [
           "Africa"
          ],
          [
           "Americas"
          ],
          [
           "Europe"
          ],
          [
           "Africa"
          ],
          [
           "Europe"
          ],
          [
           "Africa"
          ],
          [
           "Africa"
          ],
          [
           "Europe"
          ],
          [
           "Europe"
          ],
          [
           "Oceania"
          ],
          [
           "Americas"
          ],
          [
           "Africa"
          ],
          [
           "Europe"
          ],
          [
           "Asia"
          ],
          [
           "Africa"
          ],
          [
           "Africa"
          ],
          [
           "Africa"
          ],
          [
           "Asia"
          ],
          [
           "Asia"
          ],
          [
           "Americas"
          ],
          [
           "Africa"
          ],
          [
           "Americas"
          ],
          [
           "Americas"
          ],
          [
           "Africa"
          ],
          [
           "Asia"
          ],
          [
           "Europe"
          ],
          [
           "Africa"
          ],
          [
           "Europe"
          ],
          [
           "Asia"
          ],
          [
           "Americas"
          ],
          [
           "Africa"
          ],
          [
           "Africa"
          ],
          [
           "Africa"
          ],
          [
           "Asia"
          ],
          [
           "Africa"
          ],
          [
           "Africa"
          ],
          [
           "Africa"
          ],
          [
           "Africa"
          ],
          [
           "Africa"
          ],
          [
           "Asia"
          ],
          [
           "Asia"
          ],
          [
           "Asia"
          ],
          [
           "Asia"
          ],
          [
           "Africa"
          ],
          [
           "Europe"
          ],
          [
           "Africa"
          ],
          [
           "Africa"
          ],
          [
           "Africa"
          ],
          [
           "Africa"
          ],
          [
           "Africa"
          ],
          [
           "Africa"
          ],
          [
           "Asia"
          ],
          [
           "Americas"
          ],
          [
           "Africa"
          ],
          [
           "Africa"
          ],
          [
           "Africa"
          ],
          [
           "Asia"
          ],
          [
           "Asia"
          ],
          [
           "Asia"
          ],
          [
           "Asia"
          ],
          [
           "Africa"
          ],
          [
           "Asia"
          ],
          [
           "Asia"
          ],
          [
           "Americas"
          ],
          [
           "Asia"
          ],
          [
           "Europe"
          ],
          [
           "Africa"
          ],
          [
           "Americas"
          ],
          [
           "Asia"
          ],
          [
           "Americas"
          ],
          [
           "Africa"
          ],
          [
           "Africa"
          ],
          [
           "Americas"
          ],
          [
           "Africa"
          ],
          [
           "Asia"
          ],
          [
           "Africa"
          ],
          [
           "Africa"
          ],
          [
           "Africa"
          ],
          [
           "Africa"
          ],
          [
           "Americas"
          ],
          [
           "Europe"
          ],
          [
           "Americas"
          ],
          [
           "Americas"
          ],
          [
           "Africa"
          ],
          [
           "Africa"
          ],
          [
           "Americas"
          ],
          [
           "Africa"
          ],
          [
           "Asia"
          ],
          [
           "Africa"
          ],
          [
           "Africa"
          ],
          [
           "Europe"
          ],
          [
           "Americas"
          ],
          [
           "Africa"
          ],
          [
           "Europe"
          ],
          [
           "Europe"
          ],
          [
           "Africa"
          ],
          [
           "Europe"
          ],
          [
           "Asia"
          ],
          [
           "Asia"
          ],
          [
           "Europe"
          ],
          [
           "Europe"
          ],
          [
           "Africa"
          ],
          [
           "Asia"
          ],
          [
           "Africa"
          ],
          [
           "Africa"
          ],
          [
           "Europe"
          ],
          [
           "Africa"
          ],
          [
           "Americas"
          ],
          [
           "Asia"
          ],
          [
           "Americas"
          ],
          [
           "Americas"
          ],
          [
           "Europe"
          ],
          [
           "Africa"
          ],
          [
           "Asia"
          ],
          [
           "Americas"
          ],
          [
           "Africa"
          ],
          [
           "Africa"
          ],
          [
           "Africa"
          ],
          [
           "Asia"
          ],
          [
           "Africa"
          ],
          [
           "Africa"
          ],
          [
           "Asia"
          ],
          [
           "Americas"
          ],
          [
           "Asia"
          ],
          [
           "Africa"
          ],
          [
           "Asia"
          ],
          [
           "Americas"
          ],
          [
           "Europe"
          ],
          [
           "Europe"
          ],
          [
           "Asia"
          ],
          [
           "Africa"
          ],
          [
           "Europe"
          ],
          [
           "Africa"
          ],
          [
           "Asia"
          ],
          [
           "Africa"
          ],
          [
           "Africa"
          ],
          [
           "Europe"
          ],
          [
           "Africa"
          ],
          [
           "Americas"
          ],
          [
           "Europe"
          ],
          [
           "Oceania"
          ],
          [
           "Asia"
          ],
          [
           "Africa"
          ],
          [
           "Asia"
          ],
          [
           "Africa"
          ],
          [
           "Africa"
          ],
          [
           "Europe"
          ],
          [
           "Asia"
          ],
          [
           "Americas"
          ],
          [
           "Africa"
          ],
          [
           "Africa"
          ],
          [
           "Africa"
          ],
          [
           "Asia"
          ],
          [
           "Africa"
          ],
          [
           "Africa"
          ],
          [
           "Europe"
          ],
          [
           "Africa"
          ],
          [
           "Africa"
          ],
          [
           "Asia"
          ],
          [
           "Africa"
          ],
          [
           "Africa"
          ],
          [
           "Europe"
          ],
          [
           "Europe"
          ],
          [
           "Asia"
          ],
          [
           "Africa"
          ],
          [
           "Europe"
          ],
          [
           "Africa"
          ],
          [
           "Asia"
          ],
          [
           "Africa"
          ],
          [
           "Africa"
          ],
          [
           "Europe"
          ],
          [
           "Africa"
          ],
          [
           "Americas"
          ],
          [
           "Africa"
          ],
          [
           "Europe"
          ],
          [
           "Asia"
          ],
          [
           "Americas"
          ],
          [
           "Americas"
          ],
          [
           "Americas"
          ],
          [
           "Asia"
          ],
          [
           "Asia"
          ],
          [
           "Europe"
          ],
          [
           "Africa"
          ],
          [
           "Africa"
          ],
          [
           "Americas"
          ],
          [
           "Oceania"
          ],
          [
           "Europe"
          ],
          [
           "Asia"
          ],
          [
           "Africa"
          ],
          [
           "Europe"
          ],
          [
           "Africa"
          ],
          [
           "Africa"
          ],
          [
           "Asia"
          ],
          [
           "Africa"
          ],
          [
           "Europe"
          ],
          [
           "Europe"
          ],
          [
           "Americas"
          ],
          [
           "Europe"
          ],
          [
           "Africa"
          ],
          [
           "Asia"
          ],
          [
           "Africa"
          ],
          [
           "Africa"
          ],
          [
           "Europe"
          ],
          [
           "Asia"
          ],
          [
           "Americas"
          ],
          [
           "Africa"
          ],
          [
           "Africa"
          ],
          [
           "Americas"
          ],
          [
           "Africa"
          ],
          [
           "Africa"
          ],
          [
           "Africa"
          ],
          [
           "Americas"
          ],
          [
           "Africa"
          ],
          [
           "Americas"
          ],
          [
           "Americas"
          ],
          [
           "Africa"
          ],
          [
           "Europe"
          ],
          [
           "Europe"
          ],
          [
           "Americas"
          ],
          [
           "Europe"
          ],
          [
           "Africa"
          ],
          [
           "Americas"
          ],
          [
           "Africa"
          ],
          [
           "Asia"
          ],
          [
           "Africa"
          ],
          [
           "Americas"
          ],
          [
           "Americas"
          ],
          [
           "Asia"
          ],
          [
           "Africa"
          ],
          [
           "Asia"
          ],
          [
           "Africa"
          ],
          [
           "Africa"
          ],
          [
           "Asia"
          ],
          [
           "Africa"
          ],
          [
           "Africa"
          ],
          [
           "Europe"
          ],
          [
           "Americas"
          ],
          [
           "Africa"
          ],
          [
           "Europe"
          ],
          [
           "Americas"
          ],
          [
           "Africa"
          ],
          [
           "Africa"
          ],
          [
           "Europe"
          ],
          [
           "Asia"
          ],
          [
           "Africa"
          ],
          [
           "Asia"
          ],
          [
           "Africa"
          ],
          [
           "Africa"
          ],
          [
           "Europe"
          ],
          [
           "Asia"
          ],
          [
           "Americas"
          ],
          [
           "Africa"
          ],
          [
           "Africa"
          ],
          [
           "Africa"
          ],
          [
           "Asia"
          ],
          [
           "Africa"
          ],
          [
           "Africa"
          ],
          [
           "Asia"
          ],
          [
           "Africa"
          ],
          [
           "Asia"
          ],
          [
           "Asia"
          ],
          [
           "Europe"
          ],
          [
           "Asia"
          ],
          [
           "Asia"
          ],
          [
           "Europe"
          ],
          [
           "Africa"
          ],
          [
           "Americas"
          ],
          [
           "Oceania"
          ],
          [
           "Europe"
          ],
          [
           "Americas"
          ],
          [
           "Europe"
          ],
          [
           "Africa"
          ],
          [
           "Africa"
          ],
          [
           "Asia"
          ],
          [
           "Africa"
          ],
          [
           "Africa"
          ],
          [
           "Americas"
          ],
          [
           "Americas"
          ],
          [
           "Africa"
          ],
          [
           "Africa"
          ],
          [
           "Europe"
          ],
          [
           "Africa"
          ],
          [
           "Europe"
          ],
          [
           "Americas"
          ],
          [
           "Americas"
          ],
          [
           "Africa"
          ],
          [
           "Americas"
          ],
          [
           "Asia"
          ],
          [
           "Asia"
          ],
          [
           "Africa"
          ],
          [
           "Africa"
          ],
          [
           "Asia"
          ],
          [
           "Europe"
          ],
          [
           "Asia"
          ],
          [
           "Africa"
          ],
          [
           "Africa"
          ],
          [
           "Americas"
          ],
          [
           "Asia"
          ],
          [
           "Europe"
          ],
          [
           "Europe"
          ],
          [
           "Americas"
          ],
          [
           "Asia"
          ],
          [
           "Europe"
          ],
          [
           "Americas"
          ],
          [
           "Africa"
          ],
          [
           "Asia"
          ],
          [
           "Africa"
          ],
          [
           "Asia"
          ],
          [
           "Europe"
          ],
          [
           "Oceania"
          ],
          [
           "Americas"
          ],
          [
           "Africa"
          ],
          [
           "Americas"
          ],
          [
           "Africa"
          ],
          [
           "Africa"
          ],
          [
           "Asia"
          ],
          [
           "Americas"
          ],
          [
           "Africa"
          ],
          [
           "Africa"
          ],
          [
           "Africa"
          ],
          [
           "Americas"
          ],
          [
           "Africa"
          ],
          [
           "Europe"
          ],
          [
           "Americas"
          ],
          [
           "Europe"
          ],
          [
           "Africa"
          ],
          [
           "Europe"
          ],
          [
           "Africa"
          ],
          [
           "Europe"
          ],
          [
           "Americas"
          ],
          [
           "Americas"
          ],
          [
           "Africa"
          ],
          [
           "Africa"
          ],
          [
           "Europe"
          ],
          [
           "Americas"
          ],
          [
           "Africa"
          ],
          [
           "Africa"
          ],
          [
           "Europe"
          ],
          [
           "Asia"
          ],
          [
           "Asia"
          ],
          [
           "Oceania"
          ],
          [
           "Americas"
          ],
          [
           "Americas"
          ],
          [
           "Asia"
          ],
          [
           "Europe"
          ],
          [
           "Europe"
          ],
          [
           "Americas"
          ],
          [
           "Africa"
          ],
          [
           "Americas"
          ],
          [
           "Europe"
          ],
          [
           "Asia"
          ],
          [
           "Africa"
          ],
          [
           "Europe"
          ],
          [
           "Africa"
          ],
          [
           "Africa"
          ],
          [
           "Americas"
          ],
          [
           "Oceania"
          ],
          [
           "Europe"
          ],
          [
           "Asia"
          ],
          [
           "Asia"
          ],
          [
           "Europe"
          ],
          [
           "Africa"
          ],
          [
           "Americas"
          ],
          [
           "Europe"
          ],
          [
           "Africa"
          ],
          [
           "Africa"
          ],
          [
           "Asia"
          ],
          [
           "Europe"
          ],
          [
           "Africa"
          ],
          [
           "Africa"
          ],
          [
           "Africa"
          ],
          [
           "Africa"
          ],
          [
           "Americas"
          ],
          [
           "Europe"
          ],
          [
           "Americas"
          ],
          [
           "Africa"
          ],
          [
           "Africa"
          ],
          [
           "Europe"
          ],
          [
           "Europe"
          ],
          [
           "Asia"
          ],
          [
           "Americas"
          ],
          [
           "Americas"
          ],
          [
           "Americas"
          ],
          [
           "Asia"
          ],
          [
           "Europe"
          ],
          [
           "Asia"
          ],
          [
           "Americas"
          ],
          [
           "Africa"
          ],
          [
           "Europe"
          ],
          [
           "Africa"
          ],
          [
           "Africa"
          ],
          [
           "Asia"
          ],
          [
           "Africa"
          ],
          [
           "Africa"
          ],
          [
           "Africa"
          ],
          [
           "Americas"
          ],
          [
           "Asia"
          ],
          [
           "Europe"
          ],
          [
           "Africa"
          ],
          [
           "Americas"
          ],
          [
           "Oceania"
          ],
          [
           "Europe"
          ],
          [
           "Asia"
          ],
          [
           "Asia"
          ],
          [
           "Africa"
          ],
          [
           "Africa"
          ],
          [
           "Africa"
          ],
          [
           "Asia"
          ],
          [
           "Asia"
          ],
          [
           "Africa"
          ],
          [
           "Africa"
          ],
          [
           "Europe"
          ],
          [
           "Americas"
          ],
          [
           "Africa"
          ],
          [
           "Europe"
          ],
          [
           "Americas"
          ],
          [
           "Africa"
          ],
          [
           "Europe"
          ],
          [
           "Asia"
          ],
          [
           "Asia"
          ],
          [
           "Europe"
          ],
          [
           "Oceania"
          ],
          [
           "Africa"
          ],
          [
           "Americas"
          ],
          [
           "Africa"
          ],
          [
           "Europe"
          ],
          [
           "Asia"
          ],
          [
           "Africa"
          ],
          [
           "Asia"
          ],
          [
           "Asia"
          ],
          [
           "Asia"
          ],
          [
           "Americas"
          ],
          [
           "Americas"
          ],
          [
           "Americas"
          ],
          [
           "Europe"
          ],
          [
           "Africa"
          ],
          [
           "Europe"
          ],
          [
           "Africa"
          ],
          [
           "Africa"
          ],
          [
           "Americas"
          ],
          [
           "Americas"
          ],
          [
           "Africa"
          ],
          [
           "Europe"
          ],
          [
           "Europe"
          ],
          [
           "Oceania"
          ],
          [
           "Americas"
          ],
          [
           "Africa"
          ],
          [
           "Africa"
          ],
          [
           "Asia"
          ],
          [
           "Asia"
          ],
          [
           "Europe"
          ],
          [
           "Africa"
          ],
          [
           "Americas"
          ],
          [
           "Europe"
          ],
          [
           "Africa"
          ],
          [
           "Americas"
          ],
          [
           "Africa"
          ],
          [
           "Africa"
          ],
          [
           "Americas"
          ],
          [
           "Americas"
          ],
          [
           "Europe"
          ],
          [
           "Africa"
          ],
          [
           "Africa"
          ],
          [
           "Americas"
          ],
          [
           "Oceania"
          ],
          [
           "Europe"
          ],
          [
           "Asia"
          ],
          [
           "Africa"
          ],
          [
           "Africa"
          ],
          [
           "Africa"
          ],
          [
           "Europe"
          ],
          [
           "Americas"
          ],
          [
           "Africa"
          ],
          [
           "Africa"
          ],
          [
           "Asia"
          ],
          [
           "Africa"
          ],
          [
           "Asia"
          ],
          [
           "Africa"
          ],
          [
           "Asia"
          ],
          [
           "Asia"
          ],
          [
           "Europe"
          ],
          [
           "Africa"
          ],
          [
           "Americas"
          ],
          [
           "Europe"
          ],
          [
           "Asia"
          ],
          [
           "Europe"
          ],
          [
           "Americas"
          ],
          [
           "Americas"
          ],
          [
           "Americas"
          ],
          [
           "Africa"
          ],
          [
           "Africa"
          ],
          [
           "Africa"
          ],
          [
           "Africa"
          ],
          [
           "Asia"
          ],
          [
           "Asia"
          ],
          [
           "Asia"
          ],
          [
           "Africa"
          ],
          [
           "Europe"
          ],
          [
           "Europe"
          ],
          [
           "Asia"
          ],
          [
           "Europe"
          ],
          [
           "Europe"
          ],
          [
           "Asia"
          ],
          [
           "Asia"
          ],
          [
           "Asia"
          ],
          [
           "Asia"
          ],
          [
           "Europe"
          ],
          [
           "Oceania"
          ],
          [
           "Americas"
          ],
          [
           "Africa"
          ],
          [
           "Africa"
          ],
          [
           "Europe"
          ],
          [
           "Americas"
          ],
          [
           "Asia"
          ],
          [
           "Americas"
          ],
          [
           "Africa"
          ],
          [
           "Africa"
          ],
          [
           "Africa"
          ],
          [
           "Asia"
          ],
          [
           "Asia"
          ],
          [
           "Africa"
          ],
          [
           "Africa"
          ],
          [
           "Asia"
          ],
          [
           "Africa"
          ],
          [
           "Americas"
          ],
          [
           "Asia"
          ],
          [
           "Americas"
          ],
          [
           "Africa"
          ],
          [
           "Africa"
          ],
          [
           "Americas"
          ],
          [
           "Africa"
          ],
          [
           "Asia"
          ],
          [
           "Africa"
          ],
          [
           "Africa"
          ],
          [
           "Europe"
          ],
          [
           "Americas"
          ],
          [
           "Europe"
          ],
          [
           "Americas"
          ],
          [
           "Oceania"
          ],
          [
           "Europe"
          ],
          [
           "Asia"
          ],
          [
           "Europe"
          ],
          [
           "Asia"
          ],
          [
           "Africa"
          ],
          [
           "Americas"
          ],
          [
           "Africa"
          ],
          [
           "Europe"
          ],
          [
           "Africa"
          ],
          [
           "Europe"
          ],
          [
           "Americas"
          ],
          [
           "Americas"
          ],
          [
           "Americas"
          ],
          [
           "Europe"
          ],
          [
           "Oceania"
          ],
          [
           "Americas"
          ],
          [
           "Africa"
          ],
          [
           "Americas"
          ],
          [
           "Africa"
          ],
          [
           "Europe"
          ],
          [
           "Asia"
          ],
          [
           "Asia"
          ],
          [
           "Africa"
          ],
          [
           "Asia"
          ],
          [
           "Africa"
          ],
          [
           "Asia"
          ],
          [
           "Africa"
          ],
          [
           "Africa"
          ],
          [
           "Europe"
          ],
          [
           "Africa"
          ],
          [
           "Americas"
          ],
          [
           "Europe"
          ],
          [
           "Europe"
          ],
          [
           "Asia"
          ],
          [
           "Europe"
          ],
          [
           "Americas"
          ],
          [
           "Africa"
          ],
          [
           "Europe"
          ],
          [
           "Asia"
          ],
          [
           "Africa"
          ],
          [
           "Africa"
          ],
          [
           "Europe"
          ],
          [
           "Europe"
          ],
          [
           "Asia"
          ],
          [
           "Americas"
          ],
          [
           "Europe"
          ],
          [
           "Asia"
          ],
          [
           "Africa"
          ],
          [
           "Africa"
          ],
          [
           "Asia"
          ],
          [
           "Africa"
          ],
          [
           "Africa"
          ],
          [
           "Africa"
          ],
          [
           "Africa"
          ],
          [
           "Africa"
          ],
          [
           "Africa"
          ],
          [
           "Americas"
          ],
          [
           "Oceania"
          ],
          [
           "Europe"
          ],
          [
           "Asia"
          ],
          [
           "Asia"
          ],
          [
           "Europe"
          ],
          [
           "Africa"
          ],
          [
           "Americas"
          ],
          [
           "Europe"
          ],
          [
           "Africa"
          ],
          [
           "Africa"
          ],
          [
           "Americas"
          ],
          [
           "Asia"
          ],
          [
           "Asia"
          ],
          [
           "Africa"
          ],
          [
           "Europe"
          ],
          [
           "Africa"
          ],
          [
           "Asia"
          ],
          [
           "Europe"
          ],
          [
           "Europe"
          ],
          [
           "Africa"
          ],
          [
           "Africa"
          ],
          [
           "Africa"
          ],
          [
           "Asia"
          ],
          [
           "Africa"
          ],
          [
           "Africa"
          ],
          [
           "Asia"
          ],
          [
           "Asia"
          ],
          [
           "Europe"
          ],
          [
           "Africa"
          ],
          [
           "Africa"
          ],
          [
           "Europe"
          ],
          [
           "Europe"
          ],
          [
           "Europe"
          ],
          [
           "Asia"
          ],
          [
           "Europe"
          ],
          [
           "Europe"
          ],
          [
           "Africa"
          ],
          [
           "Africa"
          ],
          [
           "Europe"
          ],
          [
           "Africa"
          ],
          [
           "Africa"
          ],
          [
           "Americas"
          ],
          [
           "Africa"
          ],
          [
           "Africa"
          ],
          [
           "Africa"
          ],
          [
           "Europe"
          ],
          [
           "Americas"
          ],
          [
           "Africa"
          ],
          [
           "Europe"
          ],
          [
           "Americas"
          ],
          [
           "Africa"
          ],
          [
           "Europe"
          ],
          [
           "Africa"
          ],
          [
           "Africa"
          ],
          [
           "Africa"
          ],
          [
           "Americas"
          ],
          [
           "Americas"
          ],
          [
           "Africa"
          ],
          [
           "Africa"
          ],
          [
           "Americas"
          ],
          [
           "Africa"
          ],
          [
           "Asia"
          ],
          [
           "Europe"
          ],
          [
           "Africa"
          ],
          [
           "Africa"
          ],
          [
           "Africa"
          ],
          [
           "Americas"
          ],
          [
           "Africa"
          ],
          [
           "Americas"
          ],
          [
           "Americas"
          ],
          [
           "Africa"
          ],
          [
           "Europe"
          ],
          [
           "Africa"
          ],
          [
           "Africa"
          ],
          [
           "Africa"
          ],
          [
           "Africa"
          ],
          [
           "Asia"
          ],
          [
           "Asia"
          ],
          [
           "Asia"
          ],
          [
           "Asia"
          ],
          [
           "Asia"
          ],
          [
           "Asia"
          ],
          [
           "Europe"
          ],
          [
           "Europe"
          ],
          [
           "Asia"
          ],
          [
           "Americas"
          ],
          [
           "Europe"
          ],
          [
           "Europe"
          ],
          [
           "Africa"
          ],
          [
           "Americas"
          ],
          [
           "Africa"
          ],
          [
           "Americas"
          ],
          [
           "Africa"
          ],
          [
           "Africa"
          ],
          [
           "Africa"
          ],
          [
           "Europe"
          ],
          [
           "Europe"
          ],
          [
           "Africa"
          ],
          [
           "Americas"
          ],
          [
           "Oceania"
          ],
          [
           "Asia"
          ],
          [
           "Americas"
          ],
          [
           "Americas"
          ],
          [
           "Europe"
          ],
          [
           "Europe"
          ],
          [
           "Asia"
          ],
          [
           "Americas"
          ],
          [
           "Americas"
          ],
          [
           "Americas"
          ],
          [
           "Asia"
          ],
          [
           "Asia"
          ],
          [
           "Europe"
          ],
          [
           "Asia"
          ],
          [
           "Africa"
          ],
          [
           "Americas"
          ],
          [
           "Oceania"
          ],
          [
           "Europe"
          ],
          [
           "Asia"
          ],
          [
           "Europe"
          ],
          [
           "Africa"
          ],
          [
           "Americas"
          ],
          [
           "Europe"
          ],
          [
           "Africa"
          ],
          [
           "Africa"
          ],
          [
           "Americas"
          ],
          [
           "Africa"
          ],
          [
           "Africa"
          ],
          [
           "Europe"
          ],
          [
           "Africa"
          ],
          [
           "Americas"
          ],
          [
           "Europe"
          ],
          [
           "Europe"
          ],
          [
           "Asia"
          ],
          [
           "Americas"
          ],
          [
           "Americas"
          ],
          [
           "Africa"
          ],
          [
           "Americas"
          ],
          [
           "Asia"
          ],
          [
           "Europe"
          ],
          [
           "Africa"
          ],
          [
           "Africa"
          ],
          [
           "Americas"
          ],
          [
           "Oceania"
          ],
          [
           "Europe"
          ],
          [
           "Asia"
          ],
          [
           "Africa"
          ],
          [
           "Asia"
          ],
          [
           "Africa"
          ],
          [
           "Asia"
          ],
          [
           "Europe"
          ],
          [
           "Europe"
          ],
          [
           "Asia"
          ],
          [
           "Africa"
          ],
          [
           "Africa"
          ],
          [
           "Asia"
          ],
          [
           "Asia"
          ],
          [
           "Asia"
          ],
          [
           "Americas"
          ],
          [
           "Asia"
          ],
          [
           "Africa"
          ],
          [
           "Asia"
          ],
          [
           "Asia"
          ],
          [
           "Europe"
          ],
          [
           "Asia"
          ],
          [
           "Europe"
          ],
          [
           "Americas"
          ],
          [
           "Asia"
          ],
          [
           "Asia"
          ],
          [
           "Africa"
          ],
          [
           "Asia"
          ],
          [
           "Asia"
          ],
          [
           "Europe"
          ],
          [
           "Europe"
          ],
          [
           "Africa"
          ],
          [
           "Africa"
          ],
          [
           "Asia"
          ],
          [
           "Europe"
          ],
          [
           "Africa"
          ],
          [
           "Africa"
          ],
          [
           "Americas"
          ],
          [
           "Oceania"
          ],
          [
           "Europe"
          ],
          [
           "Asia"
          ],
          [
           "Africa"
          ],
          [
           "Americas"
          ],
          [
           "Africa"
          ],
          [
           "Americas"
          ],
          [
           "Asia"
          ],
          [
           "Americas"
          ],
          [
           "Africa"
          ],
          [
           "Africa"
          ],
          [
           "Africa"
          ],
          [
           "Africa"
          ],
          [
           "Americas"
          ],
          [
           "Africa"
          ],
          [
           "Asia"
          ],
          [
           "Asia"
          ],
          [
           "Europe"
          ],
          [
           "Americas"
          ],
          [
           "Europe"
          ],
          [
           "Asia"
          ],
          [
           "Europe"
          ],
          [
           "Asia"
          ],
          [
           "Asia"
          ],
          [
           "Asia"
          ],
          [
           "Asia"
          ],
          [
           "Europe"
          ],
          [
           "Europe"
          ],
          [
           "Asia"
          ],
          [
           "Americas"
          ],
          [
           "Americas"
          ],
          [
           "Africa"
          ],
          [
           "Africa"
          ],
          [
           "Americas"
          ],
          [
           "Europe"
          ],
          [
           "Africa"
          ],
          [
           "Europe"
          ],
          [
           "Africa"
          ],
          [
           "Africa"
          ],
          [
           "Africa"
          ],
          [
           "Europe"
          ],
          [
           "Europe"
          ],
          [
           "Oceania"
          ],
          [
           "Africa"
          ],
          [
           "Asia"
          ],
          [
           "Asia"
          ],
          [
           "Africa"
          ],
          [
           "Americas"
          ],
          [
           "Africa"
          ],
          [
           "Europe"
          ],
          [
           "Africa"
          ],
          [
           "Africa"
          ],
          [
           "Africa"
          ],
          [
           "Africa"
          ],
          [
           "Asia"
          ],
          [
           "Europe"
          ],
          [
           "Africa"
          ],
          [
           "Africa"
          ],
          [
           "Europe"
          ],
          [
           "Europe"
          ],
          [
           "Asia"
          ],
          [
           "Africa"
          ],
          [
           "Europe"
          ],
          [
           "Americas"
          ],
          [
           "Africa"
          ],
          [
           "Asia"
          ],
          [
           "Africa"
          ],
          [
           "Europe"
          ],
          [
           "Asia"
          ],
          [
           "Asia"
          ],
          [
           "Europe"
          ],
          [
           "Asia"
          ],
          [
           "Africa"
          ],
          [
           "Americas"
          ],
          [
           "Africa"
          ],
          [
           "Asia"
          ],
          [
           "Europe"
          ],
          [
           "Asia"
          ],
          [
           "Asia"
          ],
          [
           "Asia"
          ],
          [
           "Europe"
          ],
          [
           "Europe"
          ],
          [
           "Africa"
          ],
          [
           "Europe"
          ],
          [
           "Oceania"
          ],
          [
           "Americas"
          ],
          [
           "Africa"
          ],
          [
           "Africa"
          ],
          [
           "Asia"
          ],
          [
           "Asia"
          ],
          [
           "Asia"
          ],
          [
           "Asia"
          ],
          [
           "Africa"
          ],
          [
           "Africa"
          ],
          [
           "Europe"
          ],
          [
           "Africa"
          ],
          [
           "Europe"
          ],
          [
           "Europe"
          ],
          [
           "Asia"
          ],
          [
           "Americas"
          ],
          [
           "Asia"
          ],
          [
           "Americas"
          ],
          [
           "Asia"
          ],
          [
           "Asia"
          ],
          [
           "Africa"
          ],
          [
           "Asia"
          ],
          [
           "Asia"
          ],
          [
           "Americas"
          ],
          [
           "Europe"
          ],
          [
           "Asia"
          ],
          [
           "Europe"
          ],
          [
           "Americas"
          ],
          [
           "Americas"
          ],
          [
           "Asia"
          ],
          [
           "Europe"
          ],
          [
           "Africa"
          ],
          [
           "Africa"
          ],
          [
           "Americas"
          ],
          [
           "Oceania"
          ],
          [
           "Europe"
          ],
          [
           "Asia"
          ],
          [
           "Asia"
          ],
          [
           "Europe"
          ],
          [
           "Africa"
          ],
          [
           "Americas"
          ],
          [
           "Europe"
          ],
          [
           "Africa"
          ],
          [
           "Americas"
          ],
          [
           "Europe"
          ],
          [
           "Africa"
          ],
          [
           "Africa"
          ],
          [
           "Asia"
          ],
          [
           "Africa"
          ],
          [
           "Americas"
          ],
          [
           "Africa"
          ],
          [
           "Africa"
          ],
          [
           "Americas"
          ],
          [
           "Asia"
          ],
          [
           "Americas"
          ],
          [
           "Africa"
          ],
          [
           "Africa"
          ],
          [
           "Africa"
          ],
          [
           "Americas"
          ],
          [
           "Africa"
          ],
          [
           "Europe"
          ],
          [
           "Americas"
          ],
          [
           "Europe"
          ],
          [
           "Europe"
          ],
          [
           "Africa"
          ],
          [
           "Americas"
          ],
          [
           "Americas"
          ],
          [
           "Africa"
          ],
          [
           "Americas"
          ],
          [
           "Africa"
          ],
          [
           "Africa"
          ],
          [
           "Africa"
          ],
          [
           "Europe"
          ],
          [
           "Europe"
          ],
          [
           "Africa"
          ],
          [
           "Africa"
          ],
          [
           "Europe"
          ],
          [
           "Africa"
          ],
          [
           "Europe"
          ],
          [
           "Americas"
          ],
          [
           "Africa"
          ],
          [
           "Africa"
          ],
          [
           "Americas"
          ],
          [
           "Americas"
          ],
          [
           "Asia"
          ],
          [
           "Europe"
          ],
          [
           "Europe"
          ],
          [
           "Asia"
          ],
          [
           "Asia"
          ],
          [
           "Asia"
          ],
          [
           "Asia"
          ],
          [
           "Europe"
          ],
          [
           "Asia"
          ],
          [
           "Europe"
          ],
          [
           "Americas"
          ],
          [
           "Asia"
          ],
          [
           "Asia"
          ],
          [
           "Africa"
          ],
          [
           "Asia"
          ],
          [
           "Asia"
          ],
          [
           "Asia"
          ],
          [
           "Asia"
          ],
          [
           "Africa"
          ],
          [
           "Africa"
          ],
          [
           "Africa"
          ],
          [
           "Africa"
          ],
          [
           "Africa"
          ],
          [
           "Asia"
          ],
          [
           "Africa"
          ],
          [
           "Africa"
          ],
          [
           "Africa"
          ],
          [
           "Americas"
          ],
          [
           "Asia"
          ],
          [
           "Europe"
          ],
          [
           "Africa"
          ],
          [
           "Africa"
          ],
          [
           "Asia"
          ],
          [
           "Africa"
          ],
          [
           "Asia"
          ],
          [
           "Europe"
          ],
          [
           "Oceania"
          ],
          [
           "Americas"
          ],
          [
           "Africa"
          ],
          [
           "Africa"
          ],
          [
           "Europe"
          ],
          [
           "Asia"
          ],
          [
           "Asia"
          ],
          [
           "Americas"
          ],
          [
           "Americas"
          ],
          [
           "Americas"
          ],
          [
           "Asia"
          ],
          [
           "Europe"
          ],
          [
           "Europe"
          ],
          [
           "Americas"
          ],
          [
           "Africa"
          ],
          [
           "Europe"
          ],
          [
           "Africa"
          ],
          [
           "Africa"
          ],
          [
           "Asia"
          ],
          [
           "Africa"
          ],
          [
           "Europe"
          ],
          [
           "Africa"
          ],
          [
           "Asia"
          ],
          [
           "Europe"
          ],
          [
           "Europe"
          ],
          [
           "Africa"
          ],
          [
           "Africa"
          ],
          [
           "Europe"
          ],
          [
           "Asia"
          ],
          [
           "Africa"
          ],
          [
           "Africa"
          ],
          [
           "Europe"
          ],
          [
           "Europe"
          ],
          [
           "Asia"
          ],
          [
           "Asia"
          ],
          [
           "Africa"
          ],
          [
           "Asia"
          ],
          [
           "Africa"
          ],
          [
           "Americas"
          ],
          [
           "Africa"
          ],
          [
           "Europe"
          ],
          [
           "Africa"
          ],
          [
           "Europe"
          ],
          [
           "Americas"
          ],
          [
           "Americas"
          ],
          [
           "Americas"
          ],
          [
           "Asia"
          ],
          [
           "Asia"
          ],
          [
           "Asia"
          ],
          [
           "Africa"
          ],
          [
           "Africa"
          ],
          [
           "Africa"
          ],
          [
           "Americas"
          ],
          [
           "Asia"
          ],
          [
           "Europe"
          ],
          [
           "Oceania"
          ]
         ],
         "domain": {
          "x": [
           0,
           1
          ],
          "y": [
           0,
           1
          ]
         },
         "hovertemplate": "labels=%{label}<br>pop=%{value}<br>parent=%{parent}<br>id=%{id}<br>continent=%{customdata[0]}<extra></extra>",
         "ids": [
          "Africa/Zimbabwe/2007",
          "Africa/Congo, Rep./1997",
          "Africa/Cote d'Ivoire/1967",
          "Europe/Croatia/1967",
          "Americas/Cuba/1967",
          "Europe/Czech Republic/1967",
          "Europe/Denmark/1967",
          "Africa/Djibouti/1967",
          "Americas/Dominican Republic/1967",
          "Americas/Ecuador/1967",
          "Africa/Egypt/1967",
          "Americas/El Salvador/1967",
          "Africa/Equatorial Guinea/1967",
          "Africa/Eritrea/1967",
          "Americas/Costa Rica/1997",
          "Africa/Sierra Leone/1982",
          "Asia/Singapore/1982",
          "Europe/Slovak Republic/1982",
          "Africa/Congo, Dem. Rep./1997",
          "Europe/Slovenia/1982",
          "Africa/Comoros/1997",
          "Asia/China/1997",
          "Asia/Bahrain/1997",
          "Asia/Bangladesh/1997",
          "Europe/Belgium/1997",
          "Africa/Benin/1997",
          "Americas/Bolivia/1997",
          "Europe/Bosnia and Herzegovina/1997",
          "Africa/Botswana/1997",
          "Americas/Brazil/1997",
          "Europe/Bulgaria/1997",
          "Africa/Burkina Faso/1997",
          "Africa/Burundi/1997",
          "Asia/Cambodia/1997",
          "Africa/Cameroon/1997",
          "Americas/Canada/1997",
          "Africa/Central African Republic/1997",
          "Africa/Chad/1997",
          "Americas/Chile/1997",
          "Americas/Colombia/1997",
          "Europe/Austria/1997",
          "Africa/Somalia/1982",
          "Europe/Spain/1982",
          "Asia/Kuwait/1967",
          "Asia/Lebanon/1967",
          "Africa/Lesotho/1967",
          "Africa/Liberia/1967",
          "Africa/Libya/1967",
          "Africa/Madagascar/1967",
          "Africa/Malawi/1967",
          "Asia/Malaysia/1967",
          "Africa/Mali/1967",
          "Africa/Mauritania/1967",
          "Africa/Mauritius/1967",
          "Americas/Mexico/1967",
          "Asia/Mongolia/1967",
          "Europe/Montenegro/1967",
          "Africa/Morocco/1967",
          "Africa/Mozambique/1967",
          "Asia/Myanmar/1967",
          "Asia/Korea, Rep./1967",
          "Africa/South Africa/1982",
          "Asia/Korea, Dem. Rep./1967",
          "Asia/Jordan/1967",
          "Asia/Sri Lanka/1982",
          "Africa/Sudan/1982",
          "Africa/Swaziland/1982",
          "Europe/Sweden/1982",
          "Americas/Honduras/1967",
          "Asia/Hong Kong, China/1967",
          "Europe/Hungary/1967",
          "Europe/Iceland/1967",
          "Asia/India/1967",
          "Asia/Indonesia/1967",
          "Asia/Iran/1967",
          "Asia/Iraq/1967",
          "Europe/Ireland/1967",
          "Asia/Israel/1967",
          "Europe/Italy/1967",
          "Americas/Jamaica/1967",
          "Asia/Japan/1967",
          "Africa/Kenya/1967",
          "Africa/Namibia/1967",
          "Americas/Uruguay/1992",
          "Americas/Argentina/1967",
          "Africa/Mozambique/1962",
          "Asia/Myanmar/1962",
          "Africa/Tanzania/2002",
          "Asia/Taiwan/2002",
          "Asia/Syria/2002",
          "Europe/Switzerland/2002",
          "Europe/Sweden/2002",
          "Africa/Swaziland/2002",
          "Africa/Sudan/2002",
          "Asia/Sri Lanka/2002",
          "Europe/Spain/2002",
          "Africa/South Africa/2002",
          "Africa/Somalia/2002",
          "Africa/Eritrea/1987",
          "Asia/Syria/1992",
          "Asia/Taiwan/1992",
          "Africa/Tanzania/1992",
          "Africa/Morocco/1962",
          "Asia/Thailand/1992",
          "Europe/Montenegro/1962",
          "Americas/Mexico/1962",
          "Americas/Haiti/1962",
          "Americas/Honduras/1962",
          "Asia/Hong Kong, China/1962",
          "Europe/Hungary/1962",
          "Europe/Iceland/1962",
          "Asia/India/1962",
          "Europe/Sweden/1997",
          "Asia/Iran/1962",
          "Asia/Iraq/1962",
          "Europe/Ireland/1962",
          "Asia/Israel/1962",
          "Africa/Madagascar/1962",
          "Africa/Malawi/1962",
          "Asia/Malaysia/1962",
          "Africa/Mali/1962",
          "Africa/Mauritania/1962",
          "Africa/Mauritius/1962",
          "Asia/Mongolia/1962",
          "Oceania/Australia/1967",
          "Africa/Togo/1992",
          "Africa/Tunisia/1992",
          "Asia/Pakistan/2002",
          "Asia/Oman/2002",
          "Europe/Norway/2002",
          "Africa/Nigeria/2002",
          "Africa/Niger/2002",
          "Americas/Nicaragua/2002",
          "Americas/Costa Rica/1987",
          "Americas/Venezuela/1962",
          "Asia/Vietnam/1962",
          "Asia/West Bank and Gaza/1962",
          "Asia/Yemen, Rep./1962",
          "Africa/Zambia/1962",
          "Africa/Zimbabwe/1962",
          "Asia/Afghanistan/1967",
          "Europe/Albania/1967",
          "Africa/Algeria/1967",
          "Africa/Angola/1967",
          "Americas/Panama/2002",
          "Americas/Trinidad and Tobago/1992",
          "Americas/Paraguay/2002",
          "Asia/Philippines/2002",
          "Europe/Turkey/1992",
          "Africa/Uganda/1992",
          "Europe/United Kingdom/1992",
          "Americas/United States/1992",
          "Africa/Equatorial Guinea/1987",
          "Americas/El Salvador/1987",
          "Africa/Egypt/1987",
          "Americas/Ecuador/1987",
          "Americas/Dominican Republic/1987",
          "Africa/Djibouti/1987",
          "Europe/Denmark/1987",
          "Europe/Czech Republic/1987",
          "Americas/Cuba/1987",
          "Europe/Croatia/1987",
          "Africa/Cote d'Ivoire/1987",
          "Europe/Portugal/2002",
          "Europe/Poland/2002",
          "Americas/Peru/2002",
          "Africa/Guinea-Bissau/1962",
          "Asia/Nepal/1967",
          "Africa/Congo, Dem. Rep./1987",
          "Asia/Hong Kong, China/1972",
          "Europe/Hungary/1972",
          "Europe/Iceland/1972",
          "Asia/India/1972",
          "Asia/Indonesia/1972",
          "Asia/Iran/1972",
          "Asia/Iraq/1972",
          "Europe/Ireland/1972",
          "Asia/Israel/1972",
          "Europe/Italy/1972",
          "Americas/Jamaica/1972",
          "Asia/Japan/1972",
          "Asia/Jordan/1972",
          "Americas/Haiti/1997",
          "Asia/Japan/1997",
          "Asia/Jordan/1997",
          "Africa/Kenya/1997",
          "Americas/Honduras/1972",
          "Asia/Korea, Dem. Rep./1997",
          "Americas/Haiti/1972",
          "Africa/Guinea/1972",
          "Europe/Finland/1997",
          "Europe/France/1997",
          "Africa/Gabon/1997",
          "Africa/Gambia/1997",
          "Europe/Germany/1997",
          "Africa/Ghana/1997",
          "Europe/Greece/1997",
          "Americas/Guatemala/1997",
          "Africa/Guinea/1997",
          "Africa/Guinea-Bissau/1997",
          "Europe/France/1972",
          "Africa/Gabon/1972",
          "Africa/Gambia/1972",
          "Europe/Germany/1972",
          "Africa/Ghana/1972",
          "Europe/Greece/1972",
          "Americas/Guatemala/1972",
          "Africa/Guinea-Bissau/1972",
          "Africa/Ethiopia/1997",
          "Asia/Korea, Rep./1997",
          "Asia/Lebanon/1997",
          "Asia/Sri Lanka/1997",
          "Africa/Sudan/1997",
          "Asia/Vietnam/1997",
          "Americas/Venezuela/1997",
          "Americas/Uruguay/1997",
          "Americas/United States/1997",
          "Europe/United Kingdom/1997",
          "Africa/Uganda/1997",
          "Europe/Turkey/1997",
          "Africa/Tunisia/1997",
          "Americas/Trinidad and Tobago/1997",
          "Africa/Togo/1997",
          "Asia/Thailand/1997",
          "Africa/Tanzania/1997",
          "Asia/Taiwan/1997",
          "Asia/Syria/1997",
          "Europe/Switzerland/1997",
          "Europe/Spain/1997",
          "Asia/Kuwait/1997",
          "Africa/South Africa/1997",
          "Europe/Slovenia/1997",
          "Africa/Lesotho/1997",
          "Africa/Liberia/1997",
          "Africa/Libya/1997",
          "Africa/Madagascar/1997",
          "Africa/Malawi/1997",
          "Asia/Syria/1982",
          "Asia/Taiwan/1982",
          "Africa/Tanzania/1982",
          "Asia/Thailand/1982",
          "Africa/Togo/1982",
          "Americas/Trinidad and Tobago/1982",
          "Africa/Tunisia/1982",
          "Europe/Turkey/1982",
          "Europe/Albania/1992",
          "Africa/Algeria/1992",
          "Africa/Angola/1992",
          "Europe/Slovak Republic/1997",
          "Africa/Somalia/1997",
          "Africa/Congo, Rep./1987",
          "Europe/Switzerland/1982",
          "Americas/Canada/2002",
          "Europe/Finland/2002",
          "Europe/Slovak Republic/1967",
          "Europe/Slovenia/1967",
          "Africa/Somalia/1967",
          "Africa/South Africa/1967",
          "Europe/Spain/1967",
          "Asia/Sri Lanka/1967",
          "Africa/Sudan/1967",
          "Africa/Swaziland/1967",
          "Europe/Sweden/1967",
          "Europe/Switzerland/1967",
          "Asia/Syria/1967",
          "Asia/Taiwan/1967",
          "Africa/Tanzania/1967",
          "Asia/Thailand/1967",
          "Africa/Togo/1967",
          "Americas/Trinidad and Tobago/1967",
          "Africa/Zimbabwe/1987",
          "Africa/Tunisia/1967",
          "Africa/Zambia/1987",
          "Asia/West Bank and Gaza/1987",
          "Africa/Comoros/1987",
          "Europe/Sweden/1987",
          "Europe/Switzerland/1987",
          "Asia/Syria/1987",
          "Asia/Taiwan/1987",
          "Africa/Tanzania/1987",
          "Asia/Thailand/1987",
          "Africa/Togo/1987",
          "Americas/Trinidad and Tobago/1987",
          "Africa/Tunisia/1987",
          "Europe/Turkey/1987",
          "Africa/Uganda/1987",
          "Europe/United Kingdom/1987",
          "Americas/United States/1987",
          "Americas/Uruguay/1987",
          "Americas/Venezuela/1987",
          "Asia/Vietnam/1987",
          "Asia/Yemen, Rep./1987",
          "Asia/Afghanistan/1992",
          "Europe/Turkey/1967",
          "Europe/United Kingdom/1967",
          "Africa/Botswana/1972",
          "Americas/Brazil/1972",
          "Europe/Bulgaria/1972",
          "Africa/Burkina Faso/1972",
          "Africa/Burundi/1972",
          "Asia/Cambodia/1972",
          "Africa/Cameroon/1972",
          "Africa/Cote d'Ivoire/2002",
          "Americas/Costa Rica/2002",
          "Africa/Congo, Rep./2002",
          "Africa/Congo, Dem. Rep./2002",
          "Africa/Comoros/2002",
          "Americas/Colombia/2002",
          "Asia/China/2002",
          "Americas/Chile/2002",
          "Africa/Chad/2002",
          "Africa/Central African Republic/2002",
          "Europe/Bosnia and Herzegovina/1972",
          "Africa/Uganda/1967",
          "Americas/Bolivia/1972",
          "Europe/Belgium/1972",
          "Americas/United States/1967",
          "Americas/Uruguay/1967",
          "Americas/Venezuela/1967",
          "Asia/Vietnam/1967",
          "Africa/Ethiopia/2002",
          "Africa/Eritrea/2002",
          "Africa/Equatorial Guinea/2002",
          "Americas/El Salvador/2002",
          "Africa/Egypt/2002",
          "Americas/Ecuador/2002",
          "Americas/Dominican Republic/2002",
          "Africa/Djibouti/2002",
          "Europe/Denmark/2002",
          "Europe/Czech Republic/2002",
          "Americas/Cuba/2002",
          "Europe/Croatia/2002",
          "Asia/Bangladesh/1972",
          "Africa/Benin/1972",
          "Africa/Guinea/1962",
          "Asia/Indonesia/1962",
          "Europe/Greece/1962",
          "Europe/Germany/1982",
          "Africa/Gambia/1982",
          "Africa/Gabon/1982",
          "Europe/France/1982",
          "Europe/Finland/1982",
          "Africa/Ethiopia/1982",
          "Africa/Eritrea/1982",
          "Africa/Ghana/1982",
          "Africa/Equatorial Guinea/1982",
          "Africa/Egypt/1982",
          "Americas/Ecuador/1982",
          "Americas/Dominican Republic/1982",
          "Africa/Djibouti/1982",
          "Europe/Denmark/1982",
          "Europe/Czech Republic/1982",
          "Americas/Cuba/1982",
          "Americas/El Salvador/1982",
          "Europe/Croatia/1982",
          "Europe/Greece/1982",
          "Africa/Guinea/1982",
          "Asia/Indonesia/1982",
          "Asia/India/1982",
          "Europe/Iceland/1982",
          "Europe/Hungary/1982",
          "Europe/Greece/1987",
          "Africa/Ghana/1987",
          "Europe/Germany/1987",
          "Americas/Guatemala/1982",
          "Africa/Gambia/1987",
          "Europe/France/1987",
          "Europe/Finland/1987",
          "Africa/Ethiopia/1987",
          "Asia/Hong Kong, China/1982",
          "Americas/Honduras/1982",
          "Americas/Haiti/1982",
          "Africa/Guinea-Bissau/1982",
          "Africa/Gabon/1987",
          "Africa/Sudan/1952",
          "Africa/Swaziland/1952",
          "Europe/Sweden/1952",
          "Americas/Brazil/1957",
          "Europe/Bulgaria/1957",
          "Africa/Burkina Faso/1957",
          "Africa/Burundi/1957",
          "Asia/Cambodia/1957",
          "Africa/Cameroon/1957",
          "Americas/Canada/1957",
          "Europe/Czech Republic/2007",
          "Africa/Central African Republic/1957",
          "Americas/Chile/1957",
          "Asia/China/1957",
          "Americas/Colombia/1957",
          "Africa/Zambia/2007",
          "Americas/Guatemala/1962",
          "Americas/Cuba/2007",
          "Europe/Croatia/2007",
          "Africa/Chad/1957",
          "Americas/Paraguay/1982",
          "Americas/Panama/1982",
          "Asia/Pakistan/1982",
          "Europe/Switzerland/1952",
          "Asia/Syria/1952",
          "Asia/Taiwan/1952",
          "Africa/Tanzania/1952",
          "Asia/Thailand/1952",
          "Africa/Togo/1952",
          "Americas/Trinidad and Tobago/1952",
          "Africa/Tunisia/1952",
          "Europe/Turkey/1952",
          "Africa/Cote d'Ivoire/1982",
          "Americas/Costa Rica/1982",
          "Africa/Congo, Rep./1982",
          "Africa/Congo, Dem. Rep./1982",
          "Africa/Comoros/1982",
          "Americas/Colombia/1982",
          "Asia/China/1982",
          "Asia/Oman/1982",
          "Asia/Iran/1982",
          "Asia/Iraq/1982",
          "Europe/Ireland/1982",
          "Asia/Israel/1982",
          "Europe/Spain/2007",
          "Asia/Mongolia/1982",
          "Asia/China/1952",
          "Americas/Colombia/1952",
          "Africa/Comoros/1952",
          "Africa/Congo, Dem. Rep./1952",
          "Africa/Congo, Rep./1952",
          "Asia/Sri Lanka/2007",
          "Americas/Costa Rica/1952",
          "Europe/Croatia/1952",
          "Americas/Cuba/1952",
          "Europe/Czech Republic/1952",
          "Europe/Denmark/1952",
          "Africa/Djibouti/1952",
          "Americas/Dominican Republic/1952",
          "Americas/Ecuador/1952",
          "Africa/Cote d'Ivoire/1952",
          "Africa/Sudan/2007",
          "Africa/Swaziland/2007",
          "Europe/Sweden/2007",
          "Asia/Yemen, Rep./2007",
          "Asia/West Bank and Gaza/2007",
          "Asia/Vietnam/2007",
          "Americas/Venezuela/2007",
          "Americas/Uruguay/2007",
          "Americas/United States/2007",
          "Europe/United Kingdom/2007",
          "Africa/Uganda/2007",
          "Europe/Turkey/2007",
          "Africa/Tunisia/2007",
          "Americas/Trinidad and Tobago/2007",
          "Africa/Togo/2007",
          "Asia/Thailand/2007",
          "Africa/Tanzania/2007",
          "Asia/Taiwan/2007",
          "Asia/Syria/2007",
          "Europe/Switzerland/2007",
          "Africa/Egypt/1952",
          "Africa/Cote d'Ivoire/2007",
          "Americas/El Salvador/1952",
          "Africa/Eritrea/1952",
          "Africa/Lesotho/1987",
          "Asia/Lebanon/1987",
          "Asia/Kuwait/1987",
          "Asia/Korea, Rep./1987",
          "Asia/Korea, Dem. Rep./1987",
          "Africa/Kenya/1987",
          "Asia/Jordan/1987",
          "Africa/Kenya/1982",
          "Asia/Japan/1987",
          "Europe/Italy/1987",
          "Asia/Israel/1987",
          "Europe/Ireland/1987",
          "Asia/Jordan/1982",
          "Asia/Japan/1982",
          "Americas/Jamaica/1982",
          "Europe/Italy/1982",
          "Americas/Jamaica/1987",
          "Asia/Korea, Dem. Rep./1982",
          "Asia/Korea, Rep./1982",
          "Asia/Kuwait/1982",
          "Africa/Ethiopia/1952",
          "Europe/Finland/1952",
          "Europe/France/1952",
          "Africa/Gabon/1952",
          "Africa/Gambia/1952",
          "Europe/Germany/1952",
          "Americas/Mexico/1982",
          "Africa/Mauritius/1982",
          "Africa/Mauritania/1982",
          "Africa/Mali/1982",
          "Asia/Malaysia/1982",
          "Africa/Malawi/1982",
          "Africa/Madagascar/1982",
          "Africa/Libya/1982",
          "Africa/Liberia/1982",
          "Africa/Lesotho/1982",
          "Asia/Lebanon/1982",
          "Africa/Equatorial Guinea/1952",
          "Americas/Costa Rica/2007",
          "Africa/Swaziland/1997",
          "Africa/Congo, Dem. Rep./2007",
          "Asia/Thailand/1957",
          "Africa/Togo/1957",
          "Americas/Trinidad and Tobago/1957",
          "Africa/Tunisia/1957",
          "Europe/Turkey/1957",
          "Africa/Uganda/1957",
          "Africa/Tanzania/1957",
          "Europe/United Kingdom/1957",
          "Europe/Slovenia/1977",
          "Europe/Slovak Republic/1977",
          "Asia/Singapore/1977",
          "Africa/Sierra Leone/1977",
          "Europe/Serbia/1977",
          "Africa/Senegal/1977",
          "Africa/Somalia/1977",
          "Asia/Taiwan/1957",
          "Asia/Syria/1957",
          "Europe/Switzerland/1957",
          "Asia/Pakistan/1957",
          "Africa/South Africa/1977",
          "Africa/Senegal/1957",
          "Europe/Serbia/1957",
          "Africa/Sierra Leone/1957",
          "Asia/Singapore/1957",
          "Europe/Slovak Republic/1957",
          "Africa/Congo, Rep./2007",
          "Africa/Somalia/1957",
          "Africa/South Africa/1957",
          "Europe/Spain/1957",
          "Asia/Sri Lanka/1957",
          "Africa/Sudan/1957",
          "Africa/Swaziland/1957",
          "Europe/Sweden/1957",
          "Asia/Saudi Arabia/1977",
          "Africa/Sao Tome and Principe/1977",
          "Africa/Rwanda/1977",
          "Europe/Romania/1977",
          "Europe/Denmark/1962",
          "Africa/Djibouti/1962",
          "Americas/Dominican Republic/1962",
          "Americas/Ecuador/1962",
          "Africa/Egypt/1962",
          "Americas/El Salvador/1962",
          "Africa/Equatorial Guinea/1962",
          "Africa/Eritrea/1962",
          "Africa/Ethiopia/1962",
          "Europe/Finland/1962",
          "Europe/France/1962",
          "Africa/Gabon/1962",
          "Africa/Gambia/1962",
          "Europe/Germany/1962",
          "Africa/Ghana/1962",
          "Europe/Czech Republic/1962",
          "Asia/Oman/1957",
          "Americas/Cuba/1962",
          "Africa/Cote d'Ivoire/1962",
          "Americas/Peru/1982",
          "Asia/Philippines/1982",
          "Europe/Poland/1982",
          "Europe/Portugal/1982",
          "Americas/Puerto Rico/1982",
          "Africa/Reunion/1982",
          "Europe/Romania/1982",
          "Africa/Rwanda/1982",
          "Africa/Sao Tome and Principe/1982",
          "Asia/Saudi Arabia/1982",
          "Africa/Senegal/1982",
          "Asia/Thailand/2002",
          "Europe/Serbia/1982",
          "Africa/Congo, Rep./1962",
          "Americas/Costa Rica/1962",
          "Europe/Croatia/1962",
          "Europe/Norway/1957",
          "Europe/Slovenia/1957",
          "Africa/Niger/1957",
          "Asia/Kuwait/1957",
          "Asia/Korea, Rep./1957",
          "Asia/Korea, Dem. Rep./1957",
          "Africa/Kenya/1957",
          "Asia/Jordan/1957",
          "Asia/Japan/1957",
          "Americas/Jamaica/1957",
          "Europe/Italy/1957",
          "Asia/Israel/1957",
          "Europe/Ireland/1957",
          "Africa/Nigeria/1957",
          "Asia/Iran/1957",
          "Asia/Indonesia/1957",
          "Asia/Lebanon/1957",
          "Asia/India/1957",
          "Europe/Hungary/1957",
          "Asia/Hong Kong, China/1957",
          "Americas/Honduras/1957",
          "Americas/Haiti/1957",
          "Africa/Guinea-Bissau/1957",
          "Africa/Guinea/1957",
          "Americas/Guatemala/1957",
          "Europe/Belgium/2007",
          "Africa/Chad/2007",
          "Americas/Chile/2007",
          "Asia/China/2007",
          "Americas/Colombia/2007",
          "Africa/Comoros/2007",
          "Europe/Iceland/1957",
          "Africa/Lesotho/1957",
          "Asia/Iraq/1957",
          "Asia/Bahrain/2007",
          "Asia/Nepal/1957",
          "Africa/Namibia/1957",
          "Asia/Myanmar/1957",
          "Africa/Mozambique/1957",
          "Asia/Bangladesh/2007",
          "Europe/Netherlands/1957",
          "Americas/Nicaragua/1957",
          "Africa/Zambia/2002",
          "Oceania/New Zealand/1957",
          "Asia/Afghanistan/2007",
          "Europe/Austria/2007",
          "Oceania/Australia/2007",
          "Americas/Argentina/2007",
          "Europe/Albania/2007",
          "Africa/Algeria/2007",
          "Africa/Angola/2007",
          "Africa/Zimbabwe/2002",
          "Africa/Madagascar/1977",
          "Africa/Libya/1977",
          "Africa/Liberia/1977",
          "Asia/Lebanon/1977",
          "Asia/Kuwait/1977",
          "Americas/Uruguay/1982",
          "Asia/Korea, Rep./1977",
          "Americas/Haiti/1992",
          "Americas/United States/1982",
          "Europe/United Kingdom/1982",
          "Africa/Uganda/1982",
          "Africa/Lesotho/1977",
          "Asia/Japan/1992",
          "Africa/Mali/1977",
          "Asia/Malaysia/1977",
          "Africa/Guinea-Bissau/1992",
          "Africa/Mauritania/1977",
          "Africa/Mauritius/1977",
          "Asia/Hong Kong, China/1992",
          "Europe/Hungary/1992",
          "Europe/Iceland/1992",
          "Asia/India/1992",
          "Asia/Indonesia/1992",
          "Asia/Iran/1992",
          "Asia/Iraq/1992",
          "Europe/Ireland/1992",
          "Americas/Jamaica/1992",
          "Europe/Italy/1992",
          "Africa/Malawi/1977",
          "Asia/Jordan/1992",
          "Africa/Sudan/1992",
          "Asia/Korea, Dem. Rep./1992",
          "Asia/Israel/1992",
          "Africa/Equatorial Guinea/1992",
          "Africa/Eritrea/1992",
          "Africa/Ethiopia/1992",
          "Europe/Finland/1992",
          "Europe/France/1992",
          "Africa/Gabon/1992",
          "Africa/Libya/1992",
          "Africa/Gambia/1992",
          "Europe/Germany/1992",
          "Africa/Ghana/1992",
          "Europe/Greece/1992",
          "Americas/Guatemala/1992",
          "Africa/Guinea/1992",
          "Africa/Kenya/1992",
          "Europe/Switzerland/1992",
          "Africa/Sierra Leone/1992",
          "Asia/Singapore/1992",
          "Europe/Slovak Republic/1992",
          "Europe/Slovenia/1992",
          "Africa/Somalia/1992",
          "Africa/South Africa/1992",
          "Europe/Spain/1992",
          "Asia/Sri Lanka/1992",
          "Africa/Swaziland/1992",
          "Europe/Sweden/1992",
          "Africa/Lesotho/1992",
          "Asia/Lebanon/1992",
          "Asia/Kuwait/1992",
          "Asia/Korea, Rep./1992",
          "Africa/Liberia/1992",
          "Americas/Honduras/1992",
          "Africa/Ethiopia/1967",
          "Asia/Vietnam/1982",
          "Asia/Yemen, Rep./2002",
          "Americas/Ecuador/1957",
          "Americas/Dominican Republic/1957",
          "Africa/Djibouti/1957",
          "Europe/Denmark/1957",
          "Europe/Czech Republic/1957",
          "Americas/Cuba/1957",
          "Europe/Croatia/1957",
          "Africa/Cote d'Ivoire/1957",
          "Americas/Costa Rica/1957",
          "Africa/Congo, Rep./1957",
          "Africa/Congo, Dem. Rep./1957",
          "Africa/Comoros/1957",
          "Africa/Gambia/2007",
          "Europe/Germany/2007",
          "Africa/Ghana/2007",
          "Europe/Greece/2007",
          "Americas/Guatemala/2007",
          "Africa/Guinea/2007",
          "Africa/Guinea-Bissau/2007",
          "Americas/Haiti/2007",
          "Americas/Honduras/2007",
          "Asia/Hong Kong, China/2007",
          "Europe/Hungary/2007",
          "Europe/Albania/1957",
          "Americas/Panama/1957",
          "Americas/Paraguay/1957",
          "Americas/Peru/1957",
          "Asia/Philippines/1957",
          "Europe/United Kingdom/2002",
          "Americas/United States/2002",
          "Americas/Uruguay/2002",
          "Americas/Venezuela/2002",
          "Americas/Venezuela/1982",
          "Asia/West Bank and Gaza/2002",
          "Africa/Angola/1962",
          "Africa/Algeria/1962",
          "Europe/Albania/1962",
          "Asia/Afghanistan/1962",
          "Africa/Zimbabwe/1957",
          "Africa/Zambia/1957",
          "Asia/Afghanistan/1957",
          "Asia/Yemen, Rep./1957",
          "Asia/Vietnam/1957",
          "Americas/Venezuela/1957",
          "Americas/Uruguay/1957",
          "Americas/United States/1957",
          "Asia/Saudi Arabia/1957",
          "Africa/Sao Tome and Principe/1957",
          "Africa/Rwanda/1957",
          "Europe/Romania/1957",
          "Africa/Reunion/1957",
          "Americas/Puerto Rico/1957",
          "Europe/Portugal/1957",
          "Europe/Poland/1957",
          "Asia/West Bank and Gaza/1957",
          "Africa/Zimbabwe/1952",
          "Africa/Zambia/1952",
          "Asia/Yemen, Rep./1952",
          "Africa/Mauritania/2007",
          "Africa/Mauritius/2007",
          "Africa/Swaziland/1987",
          "Africa/Sudan/1987",
          "Asia/Sri Lanka/1987",
          "Europe/Spain/1987",
          "Africa/South Africa/1987",
          "Africa/Somalia/1987",
          "Europe/Slovenia/1987",
          "Europe/Slovak Republic/1987",
          "Asia/Singapore/1987",
          "Africa/Sierra Leone/1987",
          "Africa/Mali/2007",
          "Europe/Serbia/1987",
          "Asia/Indonesia/1952",
          "Asia/India/1952",
          "Europe/Iceland/1952",
          "Europe/Hungary/1952",
          "Asia/Hong Kong, China/1952",
          "Americas/Honduras/1952",
          "Americas/Haiti/1952",
          "Africa/Guinea-Bissau/1952",
          "Africa/Guinea/1952",
          "Americas/Guatemala/1952",
          "Europe/Greece/1952",
          "Africa/Ghana/1952",
          "Africa/Senegal/1987",
          "Africa/Uganda/2002",
          "Asia/Malaysia/2007",
          "Africa/Madagascar/2007",
          "Asia/West Bank and Gaza/1952",
          "Asia/Vietnam/1952",
          "Americas/Venezuela/1952",
          "Americas/Uruguay/1952",
          "Americas/United States/1952",
          "Europe/United Kingdom/1952",
          "Africa/Uganda/1952",
          "Europe/Iceland/2007",
          "Asia/India/2007",
          "Asia/Indonesia/2007",
          "Asia/Iran/2007",
          "Asia/Iraq/2007",
          "Africa/Malawi/2007",
          "Europe/Ireland/2007",
          "Europe/Italy/2007",
          "Americas/Jamaica/2007",
          "Asia/Japan/2007",
          "Asia/Jordan/2007",
          "Africa/Kenya/2007",
          "Asia/Korea, Dem. Rep./2007",
          "Asia/Korea, Rep./2007",
          "Asia/Kuwait/2007",
          "Asia/Lebanon/2007",
          "Africa/Lesotho/2007",
          "Africa/Liberia/2007",
          "Africa/Libya/2007",
          "Asia/Israel/2007",
          "Europe/Turkey/2002",
          "Asia/Vietnam/2002",
          "Americas/Trinidad and Tobago/2002",
          "Africa/Djibouti/1972",
          "Europe/Denmark/1972",
          "Europe/Czech Republic/1972",
          "Americas/Cuba/1972",
          "Americas/Haiti/1967",
          "Africa/Guinea-Bissau/1967",
          "Africa/Guinea/1967",
          "Americas/Guatemala/1967",
          "Europe/Greece/1967",
          "Africa/Ghana/1967",
          "Europe/Germany/1967",
          "Africa/Gambia/1967",
          "Africa/Gabon/1967",
          "Europe/France/1967",
          "Europe/Finland/1967",
          "Oceania/New Zealand/1972",
          "Americas/Costa Rica/1967",
          "Africa/Congo, Rep./1967",
          "Europe/Albania/1987",
          "Asia/Afghanistan/1987",
          "Africa/Zimbabwe/1982",
          "Africa/Tunisia/2002",
          "Africa/Zambia/1982",
          "Asia/Yemen, Rep./1982",
          "Asia/West Bank and Gaza/1982",
          "Americas/Dominican Republic/1972",
          "Africa/Congo, Dem. Rep./1967",
          "Americas/Ecuador/1972",
          "Americas/El Salvador/1972",
          "Africa/Namibia/1972",
          "Asia/Nepal/1972",
          "Europe/Netherlands/1972",
          "Africa/Morocco/1972",
          "Europe/Montenegro/1972",
          "Asia/Mongolia/1972",
          "Americas/Mexico/1972",
          "Africa/Mauritius/1972",
          "Africa/Mauritania/1972",
          "Africa/Mali/1972",
          "Asia/Malaysia/1972",
          "Africa/Malawi/1972",
          "Africa/Madagascar/1972",
          "Africa/Libya/1972",
          "Africa/Liberia/1972",
          "Africa/Lesotho/1972",
          "Asia/Lebanon/1972",
          "Asia/Kuwait/1972",
          "Asia/Korea, Rep./1972",
          "Asia/Korea, Dem. Rep./1972",
          "Africa/Kenya/1972",
          "Europe/Finland/1972",
          "Africa/Ethiopia/1972",
          "Africa/Eritrea/1972",
          "Africa/Equatorial Guinea/1972",
          "Africa/Egypt/1972",
          "Africa/Mozambique/1972",
          "Africa/Comoros/1967",
          "Asia/China/1967",
          "Americas/Peru/1962",
          "Africa/Libya/1962",
          "Africa/Liberia/1962",
          "Africa/Lesotho/1962",
          "Asia/Lebanon/1962",
          "Asia/Kuwait/1962",
          "Asia/Korea, Rep./1962",
          "Asia/Korea, Dem. Rep./1962",
          "Africa/Kenya/1962",
          "Asia/Jordan/1962",
          "Asia/Japan/1962",
          "Americas/Jamaica/1962",
          "Asia/Philippines/1962",
          "Europe/Italy/1962",
          "Africa/Comoros/1962",
          "Americas/Colombia/1962",
          "Asia/China/1962",
          "Americas/Chile/1962",
          "Africa/Chad/1962",
          "Africa/Central African Republic/1962",
          "Americas/Canada/1962",
          "Africa/Cameroon/1962",
          "Asia/Cambodia/1962",
          "Africa/Burundi/1962",
          "Africa/Burkina Faso/1962",
          "Africa/Togo/2002",
          "Africa/Congo, Dem. Rep./1962",
          "Americas/Colombia/1967",
          "Europe/Poland/1962",
          "Americas/Puerto Rico/1962",
          "Americas/Chile/1967",
          "Africa/Chad/1967",
          "Africa/Central African Republic/1967",
          "Americas/Canada/1967",
          "Africa/Cameroon/1967",
          "Asia/Cambodia/1967",
          "Africa/Burundi/1967",
          "Africa/Burkina Faso/1967",
          "Europe/Bulgaria/1967",
          "Americas/Brazil/1967",
          "Africa/Botswana/1967",
          "Europe/Portugal/1962",
          "Europe/Bosnia and Herzegovina/1967",
          "Africa/Benin/1967",
          "Europe/Belgium/1967",
          "Asia/Bangladesh/1967",
          "Asia/Bahrain/1967",
          "Europe/Austria/1967",
          "Europe/Serbia/1962",
          "Africa/Senegal/1962",
          "Asia/Saudi Arabia/1962",
          "Africa/Sao Tome and Principe/1962",
          "Africa/Rwanda/1962",
          "Europe/Romania/1962",
          "Africa/Reunion/1962",
          "Americas/Bolivia/1967",
          "Asia/Myanmar/1972",
          "Americas/Mexico/1987",
          "Americas/Canada/1992",
          "Europe/Montenegro/1987",
          "Africa/Morocco/1987",
          "Asia/China/1992",
          "Americas/Chile/1992",
          "Africa/Chad/1992",
          "Africa/Central African Republic/1992",
          "Africa/Cameroon/1992",
          "Asia/Cambodia/1992",
          "Africa/Burundi/1992",
          "Africa/Burkina Faso/1992",
          "Asia/Mongolia/1987",
          "Americas/Colombia/1992",
          "Asia/Korea, Rep./2002",
          "Africa/Congo, Dem. Rep./1992",
          "Asia/Mongolia/2007",
          "Americas/Mexico/2007",
          "Europe/Slovenia/2002",
          "Europe/Slovak Republic/2002",
          "Asia/Singapore/2002",
          "Africa/Sierra Leone/2002",
          "Europe/Serbia/2002",
          "Africa/Senegal/2002",
          "Asia/Saudi Arabia/2002",
          "Africa/Sao Tome and Principe/2002",
          "Africa/Rwanda/2002",
          "Europe/Romania/2002",
          "Africa/Reunion/2002",
          "Americas/Puerto Rico/2002",
          "Europe/Montenegro/2007",
          "Oceania/New Zealand/2002",
          "Asia/Nepal/2002",
          "Africa/Namibia/2002",
          "Asia/Myanmar/2002",
          "Africa/Mozambique/2002",
          "Africa/Morocco/2002",
          "Europe/Montenegro/2002",
          "Asia/Mongolia/2002",
          "Americas/Mexico/2002",
          "Africa/Mauritius/2002",
          "Africa/Mauritania/2002",
          "Africa/Mali/2002",
          "Asia/Malaysia/2002",
          "Africa/Malawi/2002",
          "Africa/Madagascar/2002",
          "Europe/Netherlands/2002",
          "Africa/Libya/2002",
          "Africa/Morocco/2007",
          "Asia/Myanmar/2007",
          "Africa/South Africa/2007",
          "Africa/Somalia/2007",
          "Europe/Slovenia/2007",
          "Europe/Slovak Republic/2007",
          "Asia/Singapore/2007",
          "Africa/Sierra Leone/2007",
          "Europe/Serbia/2007",
          "Africa/Senegal/2007",
          "Asia/Saudi Arabia/2007",
          "Africa/Sao Tome and Principe/2007",
          "Africa/Rwanda/2007",
          "Europe/Romania/2007",
          "Africa/Reunion/2007",
          "Americas/Puerto Rico/2007",
          "Africa/Mozambique/2007",
          "Europe/Portugal/2007",
          "Asia/Philippines/2007",
          "Americas/Peru/2007",
          "Americas/Paraguay/2007",
          "Americas/Panama/2007",
          "Asia/Pakistan/2007",
          "Asia/Oman/2007",
          "Europe/Norway/2007",
          "Africa/Nigeria/2007",
          "Africa/Niger/2007",
          "Americas/Nicaragua/2007",
          "Oceania/New Zealand/2007",
          "Europe/Netherlands/2007",
          "Asia/Nepal/2007",
          "Africa/Namibia/2007",
          "Europe/Poland/2007",
          "Africa/Comoros/1992",
          "Africa/Liberia/2002",
          "Asia/Lebanon/2002",
          "Africa/Djibouti/1997",
          "Europe/Denmark/1997",
          "Europe/Czech Republic/1997",
          "Americas/Cuba/1997",
          "Europe/Croatia/1997",
          "Africa/Cote d'Ivoire/1997",
          "Asia/Myanmar/1992",
          "Africa/Mozambique/1992",
          "Africa/Morocco/1992",
          "Europe/Montenegro/1992",
          "Asia/Mongolia/1992",
          "Americas/Mexico/1992",
          "Africa/Mauritius/1992",
          "Africa/Mauritania/1992",
          "Americas/Dominican Republic/1997",
          "Africa/Mali/1992",
          "Africa/Malawi/1992",
          "Africa/Madagascar/1992",
          "Americas/El Salvador/1992",
          "Africa/Egypt/1992",
          "Americas/Ecuador/1992",
          "Americas/Dominican Republic/1992",
          "Africa/Djibouti/1992",
          "Europe/Denmark/1992",
          "Europe/Czech Republic/1992",
          "Americas/Cuba/1992",
          "Europe/Croatia/1992",
          "Africa/Cote d'Ivoire/1992",
          "Americas/Costa Rica/1992",
          "Africa/Congo, Rep./1992",
          "Asia/Malaysia/1992",
          "Africa/Lesotho/2002",
          "Americas/Ecuador/1997",
          "Americas/El Salvador/1997",
          "Asia/Kuwait/2002",
          "Africa/Mauritius/1987",
          "Asia/Korea, Dem. Rep./2002",
          "Africa/Kenya/2002",
          "Africa/Cameroon/2002",
          "Asia/Cambodia/2002",
          "Africa/Burundi/2002",
          "Africa/Burkina Faso/2002",
          "Europe/Bulgaria/2002",
          "Americas/Brazil/2002",
          "Africa/Botswana/2002",
          "Europe/Bosnia and Herzegovina/2002",
          "Americas/Bolivia/2002",
          "Africa/Benin/2002",
          "Africa/Egypt/1997",
          "Europe/Belgium/2002",
          "Asia/Nepal/1997",
          "Africa/Namibia/1997",
          "Asia/Myanmar/1997",
          "Africa/Mozambique/1997",
          "Africa/Morocco/1997",
          "Europe/Montenegro/1997",
          "Asia/Mongolia/1997",
          "Americas/Mexico/1997",
          "Africa/Mauritius/1997",
          "Africa/Mauritania/1997",
          "Africa/Mali/1997",
          "Asia/Malaysia/1997",
          "Africa/Eritrea/1997",
          "Africa/Equatorial Guinea/1997",
          "Asia/Bangladesh/2002",
          "Africa/Mauritania/1987",
          "Asia/Afghanistan/1952",
          "Asia/Malaysia/1987",
          "Europe/Austria/1977",
          "Asia/Bahrain/1977",
          "Asia/Bangladesh/1977",
          "Europe/Belgium/1977",
          "Africa/Benin/1977",
          "Americas/Bolivia/1977",
          "Oceania/Australia/1977",
          "Europe/Bosnia and Herzegovina/1977",
          "Americas/Brazil/1977",
          "Europe/Bulgaria/1977",
          "Africa/Burkina Faso/1977",
          "Africa/Burundi/1977",
          "Asia/Cambodia/1977",
          "Africa/Cameroon/1977",
          "Africa/Botswana/1977",
          "Americas/Canada/1977",
          "Americas/Argentina/1977",
          "Africa/Algeria/1977",
          "Africa/Tunisia/1972",
          "Europe/Turkey/1972",
          "Africa/Uganda/1972",
          "Europe/United Kingdom/1972",
          "Americas/United States/1972",
          "Americas/Uruguay/1972",
          "Africa/Angola/1977",
          "Americas/Venezuela/1972",
          "Asia/West Bank and Gaza/1972",
          "Asia/Yemen, Rep./1972",
          "Africa/Zambia/1972",
          "Africa/Zimbabwe/1972",
          "Asia/Afghanistan/1977",
          "Europe/Albania/1977",
          "Asia/Vietnam/1972",
          "Africa/Central African Republic/1977",
          "Africa/Chad/1977",
          "Americas/Chile/1977",
          "Asia/Hong Kong, China/1977",
          "Europe/Hungary/1977",
          "Europe/Iceland/1977",
          "Americas/Mexico/1977",
          "Asia/Mongolia/1977",
          "Europe/Montenegro/1977",
          "Americas/Honduras/1977",
          "Africa/Morocco/1977",
          "Asia/Myanmar/1977",
          "Africa/Namibia/1977",
          "Asia/Nepal/1977",
          "Europe/Netherlands/1977",
          "Oceania/New Zealand/1977",
          "Americas/Nicaragua/1977",
          "Africa/Mozambique/1977",
          "Americas/Haiti/1977",
          "Africa/Guinea-Bissau/1977",
          "Africa/Guinea/1977",
          "Asia/China/1977",
          "Americas/Colombia/1977",
          "Africa/Comoros/1977",
          "Africa/Congo, Dem. Rep./1977",
          "Africa/Congo, Rep./1977",
          "Americas/Costa Rica/1977",
          "Africa/Cote d'Ivoire/1977",
          "Europe/Croatia/1977",
          "Americas/Cuba/1977",
          "Europe/Czech Republic/1977",
          "Africa/Gambia/1977",
          "Europe/Germany/1977",
          "Africa/Ghana/1977",
          "Europe/Greece/1977",
          "Americas/Guatemala/1977",
          "Americas/Trinidad and Tobago/1972",
          "Africa/Togo/1972",
          "Africa/Mali/1987",
          "Europe/Portugal/1972",
          "Americas/Nicaragua/1952",
          "Africa/Niger/1952",
          "Africa/Nigeria/1952",
          "Europe/Norway/1952",
          "Asia/Oman/1952",
          "Asia/Pakistan/1952",
          "Oceania/New Zealand/1952",
          "Americas/Panama/1952",
          "Americas/Peru/1952",
          "Asia/Philippines/1952",
          "Europe/Poland/1952",
          "Europe/Portugal/1952",
          "Americas/Puerto Rico/1952",
          "Africa/Reunion/1952",
          "Americas/Paraguay/1952",
          "Europe/Netherlands/1952",
          "Asia/Nepal/1952",
          "Africa/Namibia/1952",
          "Europe/Albania/1952",
          "Africa/Algeria/1952",
          "Africa/Angola/1952",
          "Americas/Argentina/1952",
          "Oceania/Australia/1952",
          "Europe/Austria/1952",
          "Asia/Bahrain/1952",
          "Asia/Bangladesh/1952",
          "Europe/Belgium/1952",
          "Africa/Benin/1952",
          "Americas/Bolivia/1952",
          "Europe/Montenegro/1952",
          "Africa/Morocco/1952",
          "Africa/Mozambique/1952",
          "Asia/Myanmar/1952",
          "Europe/Romania/1952",
          "Africa/Niger/1977",
          "Africa/Rwanda/1952",
          "Africa/Libya/1957",
          "Africa/Botswana/1962",
          "Americas/Brazil/1962",
          "Europe/Bulgaria/1962",
          "Americas/Nicaragua/1972",
          "Africa/Niger/1972",
          "Africa/Nigeria/1972",
          "Europe/Bosnia and Herzegovina/1962",
          "Europe/Norway/1972",
          "Asia/Pakistan/1972",
          "Americas/Panama/1972",
          "Americas/Paraguay/1972",
          "Americas/Peru/1972",
          "Asia/Philippines/1972",
          "Europe/Poland/1972",
          "Asia/Oman/1972",
          "Americas/Bolivia/1962",
          "Africa/Benin/1962",
          "Europe/Belgium/1962",
          "Africa/Madagascar/1957",
          "Africa/Malawi/1957",
          "Asia/Malaysia/1957",
          "Africa/Mali/1957",
          "Africa/Mauritania/1957",
          "Africa/Mauritius/1957",
          "Americas/Mexico/1957",
          "Asia/Mongolia/1957",
          "Europe/Montenegro/1957",
          "Africa/Morocco/1957",
          "Americas/Argentina/1962",
          "Oceania/Australia/1962",
          "Europe/Austria/1962",
          "Asia/Bahrain/1962",
          "Asia/Bangladesh/1962",
          "Africa/Liberia/1957",
          "Africa/Nigeria/1977",
          "Africa/Zimbabwe/1977",
          "Asia/Oman/1977",
          "Asia/Cambodia/1982",
          "Africa/Burundi/1982",
          "Africa/Burkina Faso/1982",
          "Europe/Bulgaria/1982",
          "Americas/Brazil/1982",
          "Africa/Botswana/1982",
          "Europe/Bosnia and Herzegovina/1982",
          "Americas/Bolivia/1982",
          "Africa/Benin/1982",
          "Europe/Belgium/1982",
          "Asia/Bangladesh/1982",
          "Asia/Bahrain/1982",
          "Europe/Austria/1982",
          "Oceania/Australia/1982",
          "Africa/Cameroon/1982",
          "Americas/Argentina/1982",
          "Africa/Algeria/1982",
          "Europe/Albania/1982",
          "Asia/Afghanistan/1982",
          "Africa/Zambia/1977",
          "Asia/Yemen, Rep./1977",
          "Asia/West Bank and Gaza/1977",
          "Asia/Vietnam/1977",
          "Americas/Venezuela/1977",
          "Americas/Uruguay/1977",
          "Americas/United States/1977",
          "Europe/United Kingdom/1977",
          "Africa/Uganda/1977",
          "Europe/Turkey/1977",
          "Africa/Tunisia/1977",
          "Africa/Angola/1982",
          "Americas/Trinidad and Tobago/1977",
          "Americas/Canada/1982",
          "Africa/Chad/1982",
          "Europe/Norway/1977",
          "Europe/Austria/1987",
          "Oceania/Australia/1987",
          "Americas/Argentina/1987",
          "Africa/Angola/1987",
          "Africa/Algeria/1987",
          "Asia/Bahrain/1987",
          "Asia/Bangladesh/1987",
          "Europe/Belgium/1987",
          "Africa/Benin/1987",
          "Americas/Bolivia/1987",
          "Europe/Bosnia and Herzegovina/1987",
          "Africa/Botswana/1987",
          "Americas/Guatemala/1987",
          "Africa/Central African Republic/1982",
          "Africa/Guinea/1987",
          "Americas/Haiti/1987",
          "Americas/Honduras/1987",
          "Europe/Norway/1982",
          "Africa/Nigeria/1982",
          "Africa/Niger/1982",
          "Americas/Nicaragua/1982",
          "Oceania/New Zealand/1982",
          "Europe/Netherlands/1982",
          "Asia/Nepal/1982",
          "Africa/Namibia/1982",
          "Africa/Mozambique/1982",
          "Africa/Morocco/1982",
          "Europe/Montenegro/1982",
          "Americas/Chile/1982",
          "Africa/Guinea-Bissau/1987",
          "Africa/Togo/1977",
          "Asia/Myanmar/1982",
          "Africa/Tanzania/1977",
          "Asia/Iraq/1987",
          "Africa/Swaziland/1977",
          "Asia/Pakistan/1977",
          "Asia/Sri Lanka/1977",
          "Europe/Spain/1977",
          "Africa/Reunion/1977",
          "Americas/Puerto Rico/1977",
          "Europe/Portugal/1977",
          "Asia/Iran/1987",
          "Europe/Poland/1977",
          "Americas/Peru/1977",
          "Americas/Paraguay/1977",
          "Americas/Panama/1977",
          "Africa/Malawi/1987",
          "Africa/Madagascar/1987",
          "Africa/Libya/1987",
          "Africa/Liberia/1987",
          "Asia/Thailand/1977",
          "Asia/Philippines/1977",
          "Asia/Indonesia/1987",
          "Africa/Sudan/1977",
          "Europe/Iceland/1987",
          "Europe/Hungary/1987",
          "Asia/Hong Kong, China/1987",
          "Europe/Sweden/1977",
          "Europe/Switzerland/1977",
          "Asia/Syria/1977",
          "Asia/India/1987",
          "Asia/Taiwan/1977",
          "Asia/Nepal/1962",
          "Europe/Netherlands/1962",
          "Oceania/New Zealand/1962",
          "Americas/Nicaragua/1962",
          "Africa/Niger/1962",
          "Africa/Nigeria/1962",
          "Europe/Norway/1962",
          "Americas/Panama/1962",
          "Asia/Pakistan/1962",
          "Americas/Paraguay/1962",
          "Africa/Mozambique/1987",
          "Africa/Senegal/1967",
          "Africa/Sierra Leone/1962",
          "Asia/Singapore/1962",
          "Asia/Oman/1962",
          "Africa/Namibia/1962",
          "Africa/Namibia/1987",
          "Asia/Nepal/1987",
          "Africa/Botswana/1952",
          "Americas/Colombia/1987",
          "Asia/China/1987",
          "Americas/Chile/1987",
          "Africa/Chad/1987",
          "Africa/Central African Republic/1987",
          "Americas/Canada/1987",
          "Africa/Cameroon/1987",
          "Asia/Cambodia/1987",
          "Africa/Burundi/1987",
          "Africa/Burkina Faso/1987",
          "Europe/Bulgaria/1987",
          "Americas/Brazil/1987",
          "Europe/Bosnia and Herzegovina/1952",
          "Americas/Nicaragua/1987",
          "Oceania/New Zealand/1987",
          "Europe/Netherlands/1987",
          "Asia/Myanmar/1987",
          "Europe/Slovak Republic/1962",
          "Asia/Saudi Arabia/1967",
          "Africa/Somalia/1962",
          "Americas/Trinidad and Tobago/1962",
          "Africa/Tunisia/1962",
          "Europe/Turkey/1962",
          "Africa/Uganda/1962",
          "Europe/United Kingdom/1962",
          "Americas/United States/1962",
          "Americas/Paraguay/1967",
          "Americas/Uruguay/1962",
          "Europe/Netherlands/1967",
          "Oceania/New Zealand/1967",
          "Americas/Nicaragua/1967",
          "Africa/Niger/1967",
          "Americas/Panama/1967",
          "Africa/Nigeria/1967",
          "Europe/Norway/1967",
          "Asia/Oman/1967",
          "Asia/Pakistan/1967",
          "Africa/Togo/1962",
          "Asia/Thailand/1962",
          "Africa/Tanzania/1962",
          "Asia/Taiwan/1962",
          "Africa/Sao Tome and Principe/1967",
          "Africa/Rwanda/1967",
          "Europe/Romania/1967",
          "Africa/Reunion/1967",
          "Americas/Puerto Rico/1967",
          "Europe/Portugal/1967",
          "Europe/Poland/1967",
          "Asia/Philippines/1967",
          "Europe/Slovenia/1962",
          "Americas/Peru/1967",
          "Africa/South Africa/1962",
          "Europe/Spain/1962",
          "Asia/Sri Lanka/1962",
          "Africa/Sudan/1962",
          "Africa/Swaziland/1962",
          "Europe/Sweden/1962",
          "Europe/Switzerland/1962",
          "Asia/Syria/1962",
          "Americas/Brazil/1952",
          "Europe/Bulgaria/1952",
          "Asia/Cambodia/2007",
          "Africa/Burundi/1952",
          "Africa/Mali/1952",
          "Asia/Malaysia/1952",
          "Africa/Malawi/1952",
          "Africa/Madagascar/1952",
          "Africa/Libya/1952",
          "Africa/Liberia/1952",
          "Africa/Lesotho/1952",
          "Africa/Angola/1957",
          "Americas/Argentina/1957",
          "Oceania/Australia/1957",
          "Europe/Austria/1957",
          "Asia/Bahrain/1957",
          "Asia/Bangladesh/1957",
          "Europe/Belgium/1957",
          "Africa/Benin/1957",
          "Americas/Bolivia/1957",
          "Europe/Bosnia and Herzegovina/1957",
          "Africa/Mauritania/1952",
          "Africa/Mauritius/1952",
          "Americas/Mexico/1952",
          "Asia/Mongolia/1952",
          "Asia/Saudi Arabia/1952",
          "Africa/Senegal/1952",
          "Europe/Serbia/1952",
          "Africa/Sierra Leone/1952",
          "Asia/Singapore/1952",
          "Europe/Slovak Republic/1952",
          "Europe/Slovenia/1952",
          "Africa/Somalia/1952",
          "Africa/Gabon/2007",
          "Africa/South Africa/1952",
          "Asia/Sri Lanka/1952",
          "Africa/Algeria/1957",
          "Africa/Sao Tome and Principe/1952",
          "Asia/Pakistan/1987",
          "Asia/Oman/1987",
          "Europe/Norway/1987",
          "Africa/Nigeria/1987",
          "Africa/Niger/1987",
          "Europe/Spain/1952",
          "Europe/France/2007",
          "Europe/Serbia/1967",
          "Asia/Lebanon/1952",
          "Europe/Finland/1957",
          "Europe/France/1957",
          "Africa/Gabon/1957",
          "Africa/Gambia/1957",
          "Europe/Germany/1957",
          "Africa/Ghana/1957",
          "Africa/Central African Republic/2007",
          "Americas/Canada/2007",
          "Africa/Ethiopia/1957",
          "Africa/Cameroon/2007",
          "Africa/Burkina Faso/2007",
          "Europe/Bulgaria/2007",
          "Americas/Brazil/2007",
          "Africa/Botswana/2007",
          "Europe/Bosnia and Herzegovina/2007",
          "Americas/Bolivia/2007",
          "Africa/Benin/2007",
          "Europe/Greece/1957",
          "Africa/Burundi/2007",
          "Africa/Burkina Faso/1952",
          "Africa/Eritrea/1957",
          "Americas/El Salvador/1957",
          "Americas/Chile/1952",
          "Africa/Chad/1952",
          "Africa/Central African Republic/1952",
          "Americas/Canada/1952",
          "Africa/Cameroon/1952",
          "Asia/Cambodia/1952",
          "Europe/Finland/2007",
          "Africa/Ethiopia/2007",
          "Africa/Equatorial Guinea/1957",
          "Africa/Eritrea/2007",
          "Americas/El Salvador/2007",
          "Africa/Egypt/2007",
          "Americas/Ecuador/2007",
          "Americas/Dominican Republic/2007",
          "Africa/Djibouti/2007",
          "Europe/Denmark/2007",
          "Africa/Botswana/1957",
          "Africa/Egypt/1957",
          "Africa/Equatorial Guinea/2007",
          "Africa/Sierra Leone/1967",
          "Asia/West Bank and Gaza/1967",
          "Asia/Japan/2002",
          "Asia/Iraq/1997",
          "Asia/Iran/1997",
          "Asia/Indonesia/1997",
          "Asia/India/1997",
          "Europe/Iceland/1997",
          "Europe/Hungary/1997",
          "Asia/Hong Kong, China/1997",
          "Americas/Honduras/1997",
          "Europe/Denmark/1977",
          "Europe/Ireland/1997",
          "Africa/Djibouti/1977",
          "Americas/Ecuador/1977",
          "Africa/Egypt/1977",
          "Americas/El Salvador/1977",
          "Africa/Equatorial Guinea/1977",
          "Africa/Eritrea/1977",
          "Africa/Ethiopia/1977",
          "Europe/Finland/1977",
          "Europe/France/1977",
          "Africa/Gabon/1977",
          "Americas/Dominican Republic/1977",
          "Oceania/Australia/1997",
          "Asia/Israel/1997",
          "Americas/Jamaica/1997",
          "Americas/Puerto Rico/1997",
          "Europe/Portugal/1997",
          "Europe/Poland/1997",
          "Asia/Philippines/1997",
          "Americas/Peru/1997",
          "Americas/Paraguay/1997",
          "Americas/Panama/1997",
          "Asia/Pakistan/1997",
          "Asia/Oman/1997",
          "Europe/Italy/1997",
          "Asia/Jordan/2002",
          "Africa/Niger/1997",
          "Americas/Nicaragua/1997",
          "Oceania/New Zealand/1997",
          "Europe/Netherlands/1997",
          "Asia/Thailand/1972",
          "Europe/Bosnia and Herzegovina/1992",
          "Africa/Botswana/1992",
          "Americas/Brazil/1992",
          "Europe/Bulgaria/1992",
          "Africa/Nigeria/1997",
          "Africa/Reunion/1997",
          "Americas/Argentina/1997",
          "Africa/Algeria/1997",
          "Africa/Rwanda/1992",
          "Europe/Romania/1992",
          "Africa/Reunion/1992",
          "Americas/Puerto Rico/1992",
          "Europe/Portugal/1992",
          "Europe/Poland/1992",
          "Asia/Philippines/1992",
          "Americas/Peru/1992",
          "Americas/Paraguay/1992",
          "Africa/Sao Tome and Principe/1992",
          "Americas/Panama/1992",
          "Asia/Oman/1992",
          "Europe/Norway/1992",
          "Africa/Nigeria/1992",
          "Africa/Niger/1992",
          "Americas/Nicaragua/1992",
          "Oceania/New Zealand/1992",
          "Europe/Netherlands/1992",
          "Asia/Nepal/1992",
          "Africa/Namibia/1992",
          "Asia/Pakistan/1992",
          "Africa/Angola/1997",
          "Asia/Saudi Arabia/1992",
          "Europe/Serbia/1992",
          "Europe/Albania/1997",
          "Asia/Afghanistan/1997",
          "Africa/Zimbabwe/1992",
          "Africa/Zambia/1992",
          "Asia/Yemen, Rep./1992",
          "Asia/West Bank and Gaza/1992",
          "Asia/Vietnam/1992",
          "Americas/Venezuela/1992",
          "Asia/India/1977",
          "Africa/Senegal/1992",
          "Asia/Indonesia/1977",
          "Asia/Iraq/1977",
          "Europe/Ireland/1977",
          "Asia/Israel/1977",
          "Europe/Italy/1977",
          "Americas/Jamaica/1977",
          "Asia/Japan/1977",
          "Asia/Jordan/1977",
          "Africa/Kenya/1977",
          "Asia/Korea, Dem. Rep./1977",
          "Asia/Iran/1977",
          "Europe/Romania/1997",
          "Europe/Norway/1997",
          "Africa/Sao Tome and Principe/1997",
          "Africa/Zimbabwe/1967",
          "Asia/Afghanistan/1972",
          "Europe/Albania/1972",
          "Africa/Algeria/1972",
          "Africa/Angola/1972",
          "Americas/Argentina/1972",
          "Oceania/Australia/1972",
          "Europe/Austria/1972",
          "Asia/Bahrain/1972",
          "Africa/Zambia/1967",
          "Americas/Canada/1972",
          "Africa/Chad/1972",
          "Americas/Chile/1972",
          "Asia/China/1972",
          "Americas/Colombia/1972",
          "Africa/Rwanda/1997",
          "Africa/Comoros/1972",
          "Africa/Congo, Dem. Rep./1972",
          "Africa/Congo, Rep./1972",
          "Americas/Costa Rica/1972",
          "Africa/Central African Republic/1972",
          "Asia/Yemen, Rep./1967",
          "Asia/Singapore/1967",
          "Europe/France/2002",
          "Americas/Jamaica/2002",
          "Europe/Italy/2002",
          "Asia/Israel/2002",
          "Europe/Ireland/2002",
          "Asia/Iraq/2002",
          "Asia/Iran/2002",
          "Asia/Indonesia/2002",
          "Asia/India/2002",
          "Europe/Iceland/2002",
          "Europe/Hungary/2002",
          "Asia/Hong Kong, China/2002",
          "Americas/Honduras/2002",
          "Americas/Haiti/2002",
          "Africa/Guinea-Bissau/2002",
          "Africa/Guinea/2002",
          "Americas/Guatemala/2002",
          "Europe/Greece/2002",
          "Africa/Ghana/2002",
          "Europe/Germany/2002",
          "Africa/Gambia/2002",
          "Africa/Gabon/2002",
          "Africa/Cote d'Ivoire/1972",
          "Europe/Croatia/1972",
          "Europe/Serbia/1997",
          "Oceania/Australia/1992",
          "Africa/Zambia/1997",
          "Asia/Yemen, Rep./1997",
          "Asia/West Bank and Gaza/1997",
          "Africa/Benin/1992",
          "Americas/Puerto Rico/1972",
          "Africa/Reunion/1972",
          "Europe/Romania/1972",
          "Africa/Rwanda/1972",
          "Africa/Sao Tome and Principe/1972",
          "Africa/Zimbabwe/1997",
          "Africa/Sudan/1972",
          "Asia/Sri Lanka/1972",
          "Europe/Spain/1972",
          "Africa/South Africa/1972",
          "Africa/Somalia/1972",
          "Europe/Slovenia/1972",
          "Europe/Slovak Republic/1972",
          "Asia/Singapore/1972",
          "Africa/Sierra Leone/1972",
          "Europe/Serbia/1972",
          "Americas/Argentina/1992",
          "Africa/Senegal/1972",
          "Asia/Afghanistan/2002",
          "Africa/Algeria/2002",
          "Europe/Austria/1992",
          "Asia/Bahrain/1992",
          "Asia/Bangladesh/1992",
          "Europe/Belgium/1992",
          "Asia/Saudi Arabia/1997",
          "Africa/Senegal/1997",
          "Americas/Bolivia/1992",
          "Africa/Sierra Leone/1997",
          "Asia/Singapore/1997",
          "Europe/Albania/2002",
          "Asia/Bahrain/2002",
          "Asia/Taiwan/1972",
          "Asia/Syria/1972",
          "Europe/Switzerland/1972",
          "Europe/Sweden/1972",
          "Africa/Swaziland/1972",
          "Europe/Austria/2002",
          "Oceania/Australia/2002",
          "Americas/Argentina/2002",
          "Africa/Angola/2002",
          "Africa/Tanzania/1972",
          "Asia/Saudi Arabia/1972",
          "Asia/Korea, Rep./1952",
          "Asia/Iraq/1952",
          "Asia/Saudi Arabia/1987",
          "Africa/Sao Tome and Principe/1987",
          "Africa/Rwanda/1987",
          "Europe/Romania/1987",
          "Africa/Reunion/1987",
          "Europe/Portugal/1987",
          "Europe/Poland/1987",
          "Asia/Philippines/1987",
          "Americas/Peru/1987",
          "Asia/Iran/1952",
          "Americas/Paraguay/1987",
          "Asia/Kuwait/1952",
          "Asia/Korea, Dem. Rep./1952",
          "Africa/Kenya/1952",
          "Asia/Jordan/1952",
          "Asia/Japan/1952",
          "Americas/Jamaica/1952",
          "Europe/Italy/1952",
          "Asia/Israel/1952",
          "Europe/Ireland/1952",
          "Americas/Panama/1987",
          "Americas/Puerto Rico/1987",
          "Asia/Afghanistan",
          "Europe/Albania",
          "Africa/Algeria",
          "Africa/Angola",
          "Americas/Argentina",
          "Oceania/Australia",
          "Europe/Austria",
          "Asia/Bahrain",
          "Asia/Bangladesh",
          "Europe/Belgium",
          "Africa/Benin",
          "Americas/Bolivia",
          "Europe/Bosnia and Herzegovina",
          "Africa/Botswana",
          "Americas/Brazil",
          "Europe/Bulgaria",
          "Africa/Burkina Faso",
          "Africa/Burundi",
          "Asia/Cambodia",
          "Africa/Cameroon",
          "Americas/Canada",
          "Africa/Central African Republic",
          "Africa/Chad",
          "Americas/Chile",
          "Asia/China",
          "Americas/Colombia",
          "Africa/Comoros",
          "Africa/Congo, Dem. Rep.",
          "Africa/Congo, Rep.",
          "Americas/Costa Rica",
          "Africa/Cote d'Ivoire",
          "Europe/Croatia",
          "Americas/Cuba",
          "Europe/Czech Republic",
          "Europe/Denmark",
          "Africa/Djibouti",
          "Americas/Dominican Republic",
          "Americas/Ecuador",
          "Africa/Egypt",
          "Americas/El Salvador",
          "Africa/Equatorial Guinea",
          "Africa/Eritrea",
          "Africa/Ethiopia",
          "Europe/Finland",
          "Europe/France",
          "Africa/Gabon",
          "Africa/Gambia",
          "Europe/Germany",
          "Africa/Ghana",
          "Europe/Greece",
          "Americas/Guatemala",
          "Africa/Guinea",
          "Africa/Guinea-Bissau",
          "Americas/Haiti",
          "Americas/Honduras",
          "Asia/Hong Kong, China",
          "Europe/Hungary",
          "Europe/Iceland",
          "Asia/India",
          "Asia/Indonesia",
          "Asia/Iran",
          "Asia/Iraq",
          "Europe/Ireland",
          "Asia/Israel",
          "Europe/Italy",
          "Americas/Jamaica",
          "Asia/Japan",
          "Asia/Jordan",
          "Africa/Kenya",
          "Asia/Korea, Dem. Rep.",
          "Asia/Korea, Rep.",
          "Asia/Kuwait",
          "Asia/Lebanon",
          "Africa/Lesotho",
          "Africa/Liberia",
          "Africa/Libya",
          "Africa/Madagascar",
          "Africa/Malawi",
          "Asia/Malaysia",
          "Africa/Mali",
          "Africa/Mauritania",
          "Africa/Mauritius",
          "Americas/Mexico",
          "Asia/Mongolia",
          "Europe/Montenegro",
          "Africa/Morocco",
          "Africa/Mozambique",
          "Asia/Myanmar",
          "Africa/Namibia",
          "Asia/Nepal",
          "Europe/Netherlands",
          "Oceania/New Zealand",
          "Americas/Nicaragua",
          "Africa/Niger",
          "Africa/Nigeria",
          "Europe/Norway",
          "Asia/Oman",
          "Asia/Pakistan",
          "Americas/Panama",
          "Americas/Paraguay",
          "Americas/Peru",
          "Asia/Philippines",
          "Europe/Poland",
          "Europe/Portugal",
          "Americas/Puerto Rico",
          "Africa/Reunion",
          "Europe/Romania",
          "Africa/Rwanda",
          "Africa/Sao Tome and Principe",
          "Asia/Saudi Arabia",
          "Africa/Senegal",
          "Europe/Serbia",
          "Africa/Sierra Leone",
          "Asia/Singapore",
          "Europe/Slovak Republic",
          "Europe/Slovenia",
          "Africa/Somalia",
          "Africa/South Africa",
          "Europe/Spain",
          "Asia/Sri Lanka",
          "Africa/Sudan",
          "Africa/Swaziland",
          "Europe/Sweden",
          "Europe/Switzerland",
          "Asia/Syria",
          "Asia/Taiwan",
          "Africa/Tanzania",
          "Asia/Thailand",
          "Africa/Togo",
          "Americas/Trinidad and Tobago",
          "Africa/Tunisia",
          "Europe/Turkey",
          "Africa/Uganda",
          "Europe/United Kingdom",
          "Americas/United States",
          "Americas/Uruguay",
          "Americas/Venezuela",
          "Asia/Vietnam",
          "Asia/West Bank and Gaza",
          "Asia/Yemen, Rep.",
          "Africa/Zambia",
          "Africa/Zimbabwe",
          "Africa",
          "Americas",
          "Asia",
          "Europe",
          "Oceania"
         ],
         "labels": [
          "2007",
          "1997",
          "1967",
          "1967",
          "1967",
          "1967",
          "1967",
          "1967",
          "1967",
          "1967",
          "1967",
          "1967",
          "1967",
          "1967",
          "1997",
          "1982",
          "1982",
          "1982",
          "1997",
          "1982",
          "1997",
          "1997",
          "1997",
          "1997",
          "1997",
          "1997",
          "1997",
          "1997",
          "1997",
          "1997",
          "1997",
          "1997",
          "1997",
          "1997",
          "1997",
          "1997",
          "1997",
          "1997",
          "1997",
          "1997",
          "1997",
          "1982",
          "1982",
          "1967",
          "1967",
          "1967",
          "1967",
          "1967",
          "1967",
          "1967",
          "1967",
          "1967",
          "1967",
          "1967",
          "1967",
          "1967",
          "1967",
          "1967",
          "1967",
          "1967",
          "1967",
          "1982",
          "1967",
          "1967",
          "1982",
          "1982",
          "1982",
          "1982",
          "1967",
          "1967",
          "1967",
          "1967",
          "1967",
          "1967",
          "1967",
          "1967",
          "1967",
          "1967",
          "1967",
          "1967",
          "1967",
          "1967",
          "1967",
          "1992",
          "1967",
          "1962",
          "1962",
          "2002",
          "2002",
          "2002",
          "2002",
          "2002",
          "2002",
          "2002",
          "2002",
          "2002",
          "2002",
          "2002",
          "1987",
          "1992",
          "1992",
          "1992",
          "1962",
          "1992",
          "1962",
          "1962",
          "1962",
          "1962",
          "1962",
          "1962",
          "1962",
          "1962",
          "1997",
          "1962",
          "1962",
          "1962",
          "1962",
          "1962",
          "1962",
          "1962",
          "1962",
          "1962",
          "1962",
          "1962",
          "1967",
          "1992",
          "1992",
          "2002",
          "2002",
          "2002",
          "2002",
          "2002",
          "2002",
          "1987",
          "1962",
          "1962",
          "1962",
          "1962",
          "1962",
          "1962",
          "1967",
          "1967",
          "1967",
          "1967",
          "2002",
          "1992",
          "2002",
          "2002",
          "1992",
          "1992",
          "1992",
          "1992",
          "1987",
          "1987",
          "1987",
          "1987",
          "1987",
          "1987",
          "1987",
          "1987",
          "1987",
          "1987",
          "1987",
          "2002",
          "2002",
          "2002",
          "1962",
          "1967",
          "1987",
          "1972",
          "1972",
          "1972",
          "1972",
          "1972",
          "1972",
          "1972",
          "1972",
          "1972",
          "1972",
          "1972",
          "1972",
          "1972",
          "1997",
          "1997",
          "1997",
          "1997",
          "1972",
          "1997",
          "1972",
          "1972",
          "1997",
          "1997",
          "1997",
          "1997",
          "1997",
          "1997",
          "1997",
          "1997",
          "1997",
          "1997",
          "1972",
          "1972",
          "1972",
          "1972",
          "1972",
          "1972",
          "1972",
          "1972",
          "1997",
          "1997",
          "1997",
          "1997",
          "1997",
          "1997",
          "1997",
          "1997",
          "1997",
          "1997",
          "1997",
          "1997",
          "1997",
          "1997",
          "1997",
          "1997",
          "1997",
          "1997",
          "1997",
          "1997",
          "1997",
          "1997",
          "1997",
          "1997",
          "1997",
          "1997",
          "1997",
          "1997",
          "1997",
          "1982",
          "1982",
          "1982",
          "1982",
          "1982",
          "1982",
          "1982",
          "1982",
          "1992",
          "1992",
          "1992",
          "1997",
          "1997",
          "1987",
          "1982",
          "2002",
          "2002",
          "1967",
          "1967",
          "1967",
          "1967",
          "1967",
          "1967",
          "1967",
          "1967",
          "1967",
          "1967",
          "1967",
          "1967",
          "1967",
          "1967",
          "1967",
          "1967",
          "1987",
          "1967",
          "1987",
          "1987",
          "1987",
          "1987",
          "1987",
          "1987",
          "1987",
          "1987",
          "1987",
          "1987",
          "1987",
          "1987",
          "1987",
          "1987",
          "1987",
          "1987",
          "1987",
          "1987",
          "1987",
          "1987",
          "1992",
          "1967",
          "1967",
          "1972",
          "1972",
          "1972",
          "1972",
          "1972",
          "1972",
          "1972",
          "2002",
          "2002",
          "2002",
          "2002",
          "2002",
          "2002",
          "2002",
          "2002",
          "2002",
          "2002",
          "1972",
          "1967",
          "1972",
          "1972",
          "1967",
          "1967",
          "1967",
          "1967",
          "2002",
          "2002",
          "2002",
          "2002",
          "2002",
          "2002",
          "2002",
          "2002",
          "2002",
          "2002",
          "2002",
          "2002",
          "1972",
          "1972",
          "1962",
          "1962",
          "1962",
          "1982",
          "1982",
          "1982",
          "1982",
          "1982",
          "1982",
          "1982",
          "1982",
          "1982",
          "1982",
          "1982",
          "1982",
          "1982",
          "1982",
          "1982",
          "1982",
          "1982",
          "1982",
          "1982",
          "1982",
          "1982",
          "1982",
          "1982",
          "1982",
          "1987",
          "1987",
          "1987",
          "1982",
          "1987",
          "1987",
          "1987",
          "1987",
          "1982",
          "1982",
          "1982",
          "1982",
          "1987",
          "1952",
          "1952",
          "1952",
          "1957",
          "1957",
          "1957",
          "1957",
          "1957",
          "1957",
          "1957",
          "2007",
          "1957",
          "1957",
          "1957",
          "1957",
          "2007",
          "1962",
          "2007",
          "2007",
          "1957",
          "1982",
          "1982",
          "1982",
          "1952",
          "1952",
          "1952",
          "1952",
          "1952",
          "1952",
          "1952",
          "1952",
          "1952",
          "1982",
          "1982",
          "1982",
          "1982",
          "1982",
          "1982",
          "1982",
          "1982",
          "1982",
          "1982",
          "1982",
          "1982",
          "2007",
          "1982",
          "1952",
          "1952",
          "1952",
          "1952",
          "1952",
          "2007",
          "1952",
          "1952",
          "1952",
          "1952",
          "1952",
          "1952",
          "1952",
          "1952",
          "1952",
          "2007",
          "2007",
          "2007",
          "2007",
          "2007",
          "2007",
          "2007",
          "2007",
          "2007",
          "2007",
          "2007",
          "2007",
          "2007",
          "2007",
          "2007",
          "2007",
          "2007",
          "2007",
          "2007",
          "2007",
          "1952",
          "2007",
          "1952",
          "1952",
          "1987",
          "1987",
          "1987",
          "1987",
          "1987",
          "1987",
          "1987",
          "1982",
          "1987",
          "1987",
          "1987",
          "1987",
          "1982",
          "1982",
          "1982",
          "1982",
          "1987",
          "1982",
          "1982",
          "1982",
          "1952",
          "1952",
          "1952",
          "1952",
          "1952",
          "1952",
          "1982",
          "1982",
          "1982",
          "1982",
          "1982",
          "1982",
          "1982",
          "1982",
          "1982",
          "1982",
          "1982",
          "1952",
          "2007",
          "1997",
          "2007",
          "1957",
          "1957",
          "1957",
          "1957",
          "1957",
          "1957",
          "1957",
          "1957",
          "1977",
          "1977",
          "1977",
          "1977",
          "1977",
          "1977",
          "1977",
          "1957",
          "1957",
          "1957",
          "1957",
          "1977",
          "1957",
          "1957",
          "1957",
          "1957",
          "1957",
          "2007",
          "1957",
          "1957",
          "1957",
          "1957",
          "1957",
          "1957",
          "1957",
          "1977",
          "1977",
          "1977",
          "1977",
          "1962",
          "1962",
          "1962",
          "1962",
          "1962",
          "1962",
          "1962",
          "1962",
          "1962",
          "1962",
          "1962",
          "1962",
          "1962",
          "1962",
          "1962",
          "1962",
          "1957",
          "1962",
          "1962",
          "1982",
          "1982",
          "1982",
          "1982",
          "1982",
          "1982",
          "1982",
          "1982",
          "1982",
          "1982",
          "1982",
          "2002",
          "1982",
          "1962",
          "1962",
          "1962",
          "1957",
          "1957",
          "1957",
          "1957",
          "1957",
          "1957",
          "1957",
          "1957",
          "1957",
          "1957",
          "1957",
          "1957",
          "1957",
          "1957",
          "1957",
          "1957",
          "1957",
          "1957",
          "1957",
          "1957",
          "1957",
          "1957",
          "1957",
          "1957",
          "1957",
          "2007",
          "2007",
          "2007",
          "2007",
          "2007",
          "2007",
          "1957",
          "1957",
          "1957",
          "2007",
          "1957",
          "1957",
          "1957",
          "1957",
          "2007",
          "1957",
          "1957",
          "2002",
          "1957",
          "2007",
          "2007",
          "2007",
          "2007",
          "2007",
          "2007",
          "2007",
          "2002",
          "1977",
          "1977",
          "1977",
          "1977",
          "1977",
          "1982",
          "1977",
          "1992",
          "1982",
          "1982",
          "1982",
          "1977",
          "1992",
          "1977",
          "1977",
          "1992",
          "1977",
          "1977",
          "1992",
          "1992",
          "1992",
          "1992",
          "1992",
          "1992",
          "1992",
          "1992",
          "1992",
          "1992",
          "1977",
          "1992",
          "1992",
          "1992",
          "1992",
          "1992",
          "1992",
          "1992",
          "1992",
          "1992",
          "1992",
          "1992",
          "1992",
          "1992",
          "1992",
          "1992",
          "1992",
          "1992",
          "1992",
          "1992",
          "1992",
          "1992",
          "1992",
          "1992",
          "1992",
          "1992",
          "1992",
          "1992",
          "1992",
          "1992",
          "1992",
          "1992",
          "1992",
          "1992",
          "1992",
          "1992",
          "1967",
          "1982",
          "2002",
          "1957",
          "1957",
          "1957",
          "1957",
          "1957",
          "1957",
          "1957",
          "1957",
          "1957",
          "1957",
          "1957",
          "1957",
          "2007",
          "2007",
          "2007",
          "2007",
          "2007",
          "2007",
          "2007",
          "2007",
          "2007",
          "2007",
          "2007",
          "1957",
          "1957",
          "1957",
          "1957",
          "1957",
          "2002",
          "2002",
          "2002",
          "2002",
          "1982",
          "2002",
          "1962",
          "1962",
          "1962",
          "1962",
          "1957",
          "1957",
          "1957",
          "1957",
          "1957",
          "1957",
          "1957",
          "1957",
          "1957",
          "1957",
          "1957",
          "1957",
          "1957",
          "1957",
          "1957",
          "1957",
          "1957",
          "1952",
          "1952",
          "1952",
          "2007",
          "2007",
          "1987",
          "1987",
          "1987",
          "1987",
          "1987",
          "1987",
          "1987",
          "1987",
          "1987",
          "1987",
          "2007",
          "1987",
          "1952",
          "1952",
          "1952",
          "1952",
          "1952",
          "1952",
          "1952",
          "1952",
          "1952",
          "1952",
          "1952",
          "1952",
          "1987",
          "2002",
          "2007",
          "2007",
          "1952",
          "1952",
          "1952",
          "1952",
          "1952",
          "1952",
          "1952",
          "2007",
          "2007",
          "2007",
          "2007",
          "2007",
          "2007",
          "2007",
          "2007",
          "2007",
          "2007",
          "2007",
          "2007",
          "2007",
          "2007",
          "2007",
          "2007",
          "2007",
          "2007",
          "2007",
          "2007",
          "2002",
          "2002",
          "2002",
          "1972",
          "1972",
          "1972",
          "1972",
          "1967",
          "1967",
          "1967",
          "1967",
          "1967",
          "1967",
          "1967",
          "1967",
          "1967",
          "1967",
          "1967",
          "1972",
          "1967",
          "1967",
          "1987",
          "1987",
          "1982",
          "2002",
          "1982",
          "1982",
          "1982",
          "1972",
          "1967",
          "1972",
          "1972",
          "1972",
          "1972",
          "1972",
          "1972",
          "1972",
          "1972",
          "1972",
          "1972",
          "1972",
          "1972",
          "1972",
          "1972",
          "1972",
          "1972",
          "1972",
          "1972",
          "1972",
          "1972",
          "1972",
          "1972",
          "1972",
          "1972",
          "1972",
          "1972",
          "1972",
          "1972",
          "1972",
          "1967",
          "1967",
          "1962",
          "1962",
          "1962",
          "1962",
          "1962",
          "1962",
          "1962",
          "1962",
          "1962",
          "1962",
          "1962",
          "1962",
          "1962",
          "1962",
          "1962",
          "1962",
          "1962",
          "1962",
          "1962",
          "1962",
          "1962",
          "1962",
          "1962",
          "1962",
          "1962",
          "2002",
          "1962",
          "1967",
          "1962",
          "1962",
          "1967",
          "1967",
          "1967",
          "1967",
          "1967",
          "1967",
          "1967",
          "1967",
          "1967",
          "1967",
          "1967",
          "1962",
          "1967",
          "1967",
          "1967",
          "1967",
          "1967",
          "1967",
          "1962",
          "1962",
          "1962",
          "1962",
          "1962",
          "1962",
          "1962",
          "1967",
          "1972",
          "1987",
          "1992",
          "1987",
          "1987",
          "1992",
          "1992",
          "1992",
          "1992",
          "1992",
          "1992",
          "1992",
          "1992",
          "1987",
          "1992",
          "2002",
          "1992",
          "2007",
          "2007",
          "2002",
          "2002",
          "2002",
          "2002",
          "2002",
          "2002",
          "2002",
          "2002",
          "2002",
          "2002",
          "2002",
          "2002",
          "2007",
          "2002",
          "2002",
          "2002",
          "2002",
          "2002",
          "2002",
          "2002",
          "2002",
          "2002",
          "2002",
          "2002",
          "2002",
          "2002",
          "2002",
          "2002",
          "2002",
          "2002",
          "2007",
          "2007",
          "2007",
          "2007",
          "2007",
          "2007",
          "2007",
          "2007",
          "2007",
          "2007",
          "2007",
          "2007",
          "2007",
          "2007",
          "2007",
          "2007",
          "2007",
          "2007",
          "2007",
          "2007",
          "2007",
          "2007",
          "2007",
          "2007",
          "2007",
          "2007",
          "2007",
          "2007",
          "2007",
          "2007",
          "2007",
          "2007",
          "2007",
          "1992",
          "2002",
          "2002",
          "1997",
          "1997",
          "1997",
          "1997",
          "1997",
          "1997",
          "1992",
          "1992",
          "1992",
          "1992",
          "1992",
          "1992",
          "1992",
          "1992",
          "1997",
          "1992",
          "1992",
          "1992",
          "1992",
          "1992",
          "1992",
          "1992",
          "1992",
          "1992",
          "1992",
          "1992",
          "1992",
          "1992",
          "1992",
          "1992",
          "1992",
          "2002",
          "1997",
          "1997",
          "2002",
          "1987",
          "2002",
          "2002",
          "2002",
          "2002",
          "2002",
          "2002",
          "2002",
          "2002",
          "2002",
          "2002",
          "2002",
          "2002",
          "1997",
          "2002",
          "1997",
          "1997",
          "1997",
          "1997",
          "1997",
          "1997",
          "1997",
          "1997",
          "1997",
          "1997",
          "1997",
          "1997",
          "1997",
          "1997",
          "2002",
          "1987",
          "1952",
          "1987",
          "1977",
          "1977",
          "1977",
          "1977",
          "1977",
          "1977",
          "1977",
          "1977",
          "1977",
          "1977",
          "1977",
          "1977",
          "1977",
          "1977",
          "1977",
          "1977",
          "1977",
          "1977",
          "1972",
          "1972",
          "1972",
          "1972",
          "1972",
          "1972",
          "1977",
          "1972",
          "1972",
          "1972",
          "1972",
          "1972",
          "1977",
          "1977",
          "1972",
          "1977",
          "1977",
          "1977",
          "1977",
          "1977",
          "1977",
          "1977",
          "1977",
          "1977",
          "1977",
          "1977",
          "1977",
          "1977",
          "1977",
          "1977",
          "1977",
          "1977",
          "1977",
          "1977",
          "1977",
          "1977",
          "1977",
          "1977",
          "1977",
          "1977",
          "1977",
          "1977",
          "1977",
          "1977",
          "1977",
          "1977",
          "1977",
          "1977",
          "1977",
          "1977",
          "1977",
          "1972",
          "1972",
          "1987",
          "1972",
          "1952",
          "1952",
          "1952",
          "1952",
          "1952",
          "1952",
          "1952",
          "1952",
          "1952",
          "1952",
          "1952",
          "1952",
          "1952",
          "1952",
          "1952",
          "1952",
          "1952",
          "1952",
          "1952",
          "1952",
          "1952",
          "1952",
          "1952",
          "1952",
          "1952",
          "1952",
          "1952",
          "1952",
          "1952",
          "1952",
          "1952",
          "1952",
          "1952",
          "1952",
          "1977",
          "1952",
          "1957",
          "1962",
          "1962",
          "1962",
          "1972",
          "1972",
          "1972",
          "1962",
          "1972",
          "1972",
          "1972",
          "1972",
          "1972",
          "1972",
          "1972",
          "1972",
          "1962",
          "1962",
          "1962",
          "1957",
          "1957",
          "1957",
          "1957",
          "1957",
          "1957",
          "1957",
          "1957",
          "1957",
          "1957",
          "1962",
          "1962",
          "1962",
          "1962",
          "1962",
          "1957",
          "1977",
          "1977",
          "1977",
          "1982",
          "1982",
          "1982",
          "1982",
          "1982",
          "1982",
          "1982",
          "1982",
          "1982",
          "1982",
          "1982",
          "1982",
          "1982",
          "1982",
          "1982",
          "1982",
          "1982",
          "1982",
          "1982",
          "1977",
          "1977",
          "1977",
          "1977",
          "1977",
          "1977",
          "1977",
          "1977",
          "1977",
          "1977",
          "1977",
          "1982",
          "1977",
          "1982",
          "1982",
          "1977",
          "1987",
          "1987",
          "1987",
          "1987",
          "1987",
          "1987",
          "1987",
          "1987",
          "1987",
          "1987",
          "1987",
          "1987",
          "1987",
          "1982",
          "1987",
          "1987",
          "1987",
          "1982",
          "1982",
          "1982",
          "1982",
          "1982",
          "1982",
          "1982",
          "1982",
          "1982",
          "1982",
          "1982",
          "1982",
          "1987",
          "1977",
          "1982",
          "1977",
          "1987",
          "1977",
          "1977",
          "1977",
          "1977",
          "1977",
          "1977",
          "1977",
          "1987",
          "1977",
          "1977",
          "1977",
          "1977",
          "1987",
          "1987",
          "1987",
          "1987",
          "1977",
          "1977",
          "1987",
          "1977",
          "1987",
          "1987",
          "1987",
          "1977",
          "1977",
          "1977",
          "1987",
          "1977",
          "1962",
          "1962",
          "1962",
          "1962",
          "1962",
          "1962",
          "1962",
          "1962",
          "1962",
          "1962",
          "1987",
          "1967",
          "1962",
          "1962",
          "1962",
          "1962",
          "1987",
          "1987",
          "1952",
          "1987",
          "1987",
          "1987",
          "1987",
          "1987",
          "1987",
          "1987",
          "1987",
          "1987",
          "1987",
          "1987",
          "1987",
          "1952",
          "1987",
          "1987",
          "1987",
          "1987",
          "1962",
          "1967",
          "1962",
          "1962",
          "1962",
          "1962",
          "1962",
          "1962",
          "1962",
          "1967",
          "1962",
          "1967",
          "1967",
          "1967",
          "1967",
          "1967",
          "1967",
          "1967",
          "1967",
          "1967",
          "1962",
          "1962",
          "1962",
          "1962",
          "1967",
          "1967",
          "1967",
          "1967",
          "1967",
          "1967",
          "1967",
          "1967",
          "1962",
          "1967",
          "1962",
          "1962",
          "1962",
          "1962",
          "1962",
          "1962",
          "1962",
          "1962",
          "1952",
          "1952",
          "2007",
          "1952",
          "1952",
          "1952",
          "1952",
          "1952",
          "1952",
          "1952",
          "1952",
          "1957",
          "1957",
          "1957",
          "1957",
          "1957",
          "1957",
          "1957",
          "1957",
          "1957",
          "1957",
          "1952",
          "1952",
          "1952",
          "1952",
          "1952",
          "1952",
          "1952",
          "1952",
          "1952",
          "1952",
          "1952",
          "1952",
          "2007",
          "1952",
          "1952",
          "1957",
          "1952",
          "1987",
          "1987",
          "1987",
          "1987",
          "1987",
          "1952",
          "2007",
          "1967",
          "1952",
          "1957",
          "1957",
          "1957",
          "1957",
          "1957",
          "1957",
          "2007",
          "2007",
          "1957",
          "2007",
          "2007",
          "2007",
          "2007",
          "2007",
          "2007",
          "2007",
          "2007",
          "1957",
          "2007",
          "1952",
          "1957",
          "1957",
          "1952",
          "1952",
          "1952",
          "1952",
          "1952",
          "1952",
          "2007",
          "2007",
          "1957",
          "2007",
          "2007",
          "2007",
          "2007",
          "2007",
          "2007",
          "2007",
          "1957",
          "1957",
          "2007",
          "1967",
          "1967",
          "2002",
          "1997",
          "1997",
          "1997",
          "1997",
          "1997",
          "1997",
          "1997",
          "1997",
          "1977",
          "1997",
          "1977",
          "1977",
          "1977",
          "1977",
          "1977",
          "1977",
          "1977",
          "1977",
          "1977",
          "1977",
          "1977",
          "1997",
          "1997",
          "1997",
          "1997",
          "1997",
          "1997",
          "1997",
          "1997",
          "1997",
          "1997",
          "1997",
          "1997",
          "1997",
          "2002",
          "1997",
          "1997",
          "1997",
          "1997",
          "1972",
          "1992",
          "1992",
          "1992",
          "1992",
          "1997",
          "1997",
          "1997",
          "1997",
          "1992",
          "1992",
          "1992",
          "1992",
          "1992",
          "1992",
          "1992",
          "1992",
          "1992",
          "1992",
          "1992",
          "1992",
          "1992",
          "1992",
          "1992",
          "1992",
          "1992",
          "1992",
          "1992",
          "1992",
          "1992",
          "1997",
          "1992",
          "1992",
          "1997",
          "1997",
          "1992",
          "1992",
          "1992",
          "1992",
          "1992",
          "1992",
          "1977",
          "1992",
          "1977",
          "1977",
          "1977",
          "1977",
          "1977",
          "1977",
          "1977",
          "1977",
          "1977",
          "1977",
          "1977",
          "1997",
          "1997",
          "1997",
          "1967",
          "1972",
          "1972",
          "1972",
          "1972",
          "1972",
          "1972",
          "1972",
          "1972",
          "1967",
          "1972",
          "1972",
          "1972",
          "1972",
          "1972",
          "1997",
          "1972",
          "1972",
          "1972",
          "1972",
          "1972",
          "1967",
          "1967",
          "2002",
          "2002",
          "2002",
          "2002",
          "2002",
          "2002",
          "2002",
          "2002",
          "2002",
          "2002",
          "2002",
          "2002",
          "2002",
          "2002",
          "2002",
          "2002",
          "2002",
          "2002",
          "2002",
          "2002",
          "2002",
          "2002",
          "1972",
          "1972",
          "1997",
          "1992",
          "1997",
          "1997",
          "1997",
          "1992",
          "1972",
          "1972",
          "1972",
          "1972",
          "1972",
          "1997",
          "1972",
          "1972",
          "1972",
          "1972",
          "1972",
          "1972",
          "1972",
          "1972",
          "1972",
          "1972",
          "1992",
          "1972",
          "2002",
          "2002",
          "1992",
          "1992",
          "1992",
          "1992",
          "1997",
          "1997",
          "1992",
          "1997",
          "1997",
          "2002",
          "2002",
          "1972",
          "1972",
          "1972",
          "1972",
          "1972",
          "2002",
          "2002",
          "2002",
          "2002",
          "1972",
          "1972",
          "1952",
          "1952",
          "1987",
          "1987",
          "1987",
          "1987",
          "1987",
          "1987",
          "1987",
          "1987",
          "1987",
          "1952",
          "1987",
          "1952",
          "1952",
          "1952",
          "1952",
          "1952",
          "1952",
          "1952",
          "1952",
          "1952",
          "1987",
          "1987",
          "Afghanistan",
          "Albania",
          "Algeria",
          "Angola",
          "Argentina",
          "Australia",
          "Austria",
          "Bahrain",
          "Bangladesh",
          "Belgium",
          "Benin",
          "Bolivia",
          "Bosnia and Herzegovina",
          "Botswana",
          "Brazil",
          "Bulgaria",
          "Burkina Faso",
          "Burundi",
          "Cambodia",
          "Cameroon",
          "Canada",
          "Central African Republic",
          "Chad",
          "Chile",
          "China",
          "Colombia",
          "Comoros",
          "Congo, Dem. Rep.",
          "Congo, Rep.",
          "Costa Rica",
          "Cote d'Ivoire",
          "Croatia",
          "Cuba",
          "Czech Republic",
          "Denmark",
          "Djibouti",
          "Dominican Republic",
          "Ecuador",
          "Egypt",
          "El Salvador",
          "Equatorial Guinea",
          "Eritrea",
          "Ethiopia",
          "Finland",
          "France",
          "Gabon",
          "Gambia",
          "Germany",
          "Ghana",
          "Greece",
          "Guatemala",
          "Guinea",
          "Guinea-Bissau",
          "Haiti",
          "Honduras",
          "Hong Kong, China",
          "Hungary",
          "Iceland",
          "India",
          "Indonesia",
          "Iran",
          "Iraq",
          "Ireland",
          "Israel",
          "Italy",
          "Jamaica",
          "Japan",
          "Jordan",
          "Kenya",
          "Korea, Dem. Rep.",
          "Korea, Rep.",
          "Kuwait",
          "Lebanon",
          "Lesotho",
          "Liberia",
          "Libya",
          "Madagascar",
          "Malawi",
          "Malaysia",
          "Mali",
          "Mauritania",
          "Mauritius",
          "Mexico",
          "Mongolia",
          "Montenegro",
          "Morocco",
          "Mozambique",
          "Myanmar",
          "Namibia",
          "Nepal",
          "Netherlands",
          "New Zealand",
          "Nicaragua",
          "Niger",
          "Nigeria",
          "Norway",
          "Oman",
          "Pakistan",
          "Panama",
          "Paraguay",
          "Peru",
          "Philippines",
          "Poland",
          "Portugal",
          "Puerto Rico",
          "Reunion",
          "Romania",
          "Rwanda",
          "Sao Tome and Principe",
          "Saudi Arabia",
          "Senegal",
          "Serbia",
          "Sierra Leone",
          "Singapore",
          "Slovak Republic",
          "Slovenia",
          "Somalia",
          "South Africa",
          "Spain",
          "Sri Lanka",
          "Sudan",
          "Swaziland",
          "Sweden",
          "Switzerland",
          "Syria",
          "Taiwan",
          "Tanzania",
          "Thailand",
          "Togo",
          "Trinidad and Tobago",
          "Tunisia",
          "Turkey",
          "Uganda",
          "United Kingdom",
          "United States",
          "Uruguay",
          "Venezuela",
          "Vietnam",
          "West Bank and Gaza",
          "Yemen, Rep.",
          "Zambia",
          "Zimbabwe",
          "Africa",
          "Americas",
          "Asia",
          "Europe",
          "Oceania"
         ],
         "marker": {
          "colors": [
           "#636efa",
           "#636efa",
           "#636efa",
           "#EF553B",
           "#00cc96",
           "#EF553B",
           "#EF553B",
           "#636efa",
           "#00cc96",
           "#00cc96",
           "#636efa",
           "#00cc96",
           "#636efa",
           "#636efa",
           "#00cc96",
           "#636efa",
           "#ab63fa",
           "#EF553B",
           "#636efa",
           "#EF553B",
           "#636efa",
           "#ab63fa",
           "#ab63fa",
           "#ab63fa",
           "#EF553B",
           "#636efa",
           "#00cc96",
           "#EF553B",
           "#636efa",
           "#00cc96",
           "#EF553B",
           "#636efa",
           "#636efa",
           "#ab63fa",
           "#636efa",
           "#00cc96",
           "#636efa",
           "#636efa",
           "#00cc96",
           "#00cc96",
           "#EF553B",
           "#636efa",
           "#EF553B",
           "#ab63fa",
           "#ab63fa",
           "#636efa",
           "#636efa",
           "#636efa",
           "#636efa",
           "#636efa",
           "#ab63fa",
           "#636efa",
           "#636efa",
           "#636efa",
           "#00cc96",
           "#ab63fa",
           "#EF553B",
           "#636efa",
           "#636efa",
           "#ab63fa",
           "#ab63fa",
           "#636efa",
           "#ab63fa",
           "#ab63fa",
           "#ab63fa",
           "#636efa",
           "#636efa",
           "#EF553B",
           "#00cc96",
           "#ab63fa",
           "#EF553B",
           "#EF553B",
           "#ab63fa",
           "#ab63fa",
           "#ab63fa",
           "#ab63fa",
           "#EF553B",
           "#ab63fa",
           "#EF553B",
           "#00cc96",
           "#ab63fa",
           "#636efa",
           "#636efa",
           "#00cc96",
           "#00cc96",
           "#636efa",
           "#ab63fa",
           "#636efa",
           "#ab63fa",
           "#ab63fa",
           "#EF553B",
           "#EF553B",
           "#636efa",
           "#636efa",
           "#ab63fa",
           "#EF553B",
           "#636efa",
           "#636efa",
           "#636efa",
           "#ab63fa",
           "#ab63fa",
           "#636efa",
           "#636efa",
           "#ab63fa",
           "#EF553B",
           "#00cc96",
           "#00cc96",
           "#00cc96",
           "#ab63fa",
           "#EF553B",
           "#EF553B",
           "#ab63fa",
           "#EF553B",
           "#ab63fa",
           "#ab63fa",
           "#EF553B",
           "#ab63fa",
           "#636efa",
           "#636efa",
           "#ab63fa",
           "#636efa",
           "#636efa",
           "#636efa",
           "#ab63fa",
           "#FFA15A",
           "#636efa",
           "#636efa",
           "#ab63fa",
           "#ab63fa",
           "#EF553B",
           "#636efa",
           "#636efa",
           "#00cc96",
           "#00cc96",
           "#00cc96",
           "#ab63fa",
           "#ab63fa",
           "#ab63fa",
           "#636efa",
           "#636efa",
           "#ab63fa",
           "#EF553B",
           "#636efa",
           "#636efa",
           "#00cc96",
           "#00cc96",
           "#00cc96",
           "#ab63fa",
           "#EF553B",
           "#636efa",
           "#EF553B",
           "#00cc96",
           "#636efa",
           "#00cc96",
           "#636efa",
           "#00cc96",
           "#00cc96",
           "#636efa",
           "#EF553B",
           "#EF553B",
           "#00cc96",
           "#EF553B",
           "#636efa",
           "#EF553B",
           "#EF553B",
           "#00cc96",
           "#636efa",
           "#ab63fa",
           "#636efa",
           "#ab63fa",
           "#EF553B",
           "#EF553B",
           "#ab63fa",
           "#ab63fa",
           "#ab63fa",
           "#ab63fa",
           "#EF553B",
           "#ab63fa",
           "#EF553B",
           "#00cc96",
           "#ab63fa",
           "#ab63fa",
           "#00cc96",
           "#ab63fa",
           "#ab63fa",
           "#636efa",
           "#00cc96",
           "#ab63fa",
           "#00cc96",
           "#636efa",
           "#EF553B",
           "#EF553B",
           "#636efa",
           "#636efa",
           "#EF553B",
           "#636efa",
           "#EF553B",
           "#00cc96",
           "#636efa",
           "#636efa",
           "#EF553B",
           "#636efa",
           "#636efa",
           "#EF553B",
           "#636efa",
           "#EF553B",
           "#00cc96",
           "#636efa",
           "#636efa",
           "#ab63fa",
           "#ab63fa",
           "#ab63fa",
           "#636efa",
           "#ab63fa",
           "#00cc96",
           "#00cc96",
           "#00cc96",
           "#EF553B",
           "#636efa",
           "#EF553B",
           "#636efa",
           "#00cc96",
           "#636efa",
           "#ab63fa",
           "#636efa",
           "#ab63fa",
           "#ab63fa",
           "#EF553B",
           "#EF553B",
           "#ab63fa",
           "#636efa",
           "#EF553B",
           "#636efa",
           "#636efa",
           "#636efa",
           "#636efa",
           "#636efa",
           "#ab63fa",
           "#ab63fa",
           "#636efa",
           "#ab63fa",
           "#636efa",
           "#00cc96",
           "#636efa",
           "#EF553B",
           "#EF553B",
           "#636efa",
           "#636efa",
           "#EF553B",
           "#636efa",
           "#636efa",
           "#EF553B",
           "#00cc96",
           "#EF553B",
           "#EF553B",
           "#EF553B",
           "#636efa",
           "#636efa",
           "#EF553B",
           "#ab63fa",
           "#636efa",
           "#636efa",
           "#EF553B",
           "#EF553B",
           "#ab63fa",
           "#ab63fa",
           "#636efa",
           "#ab63fa",
           "#636efa",
           "#00cc96",
           "#636efa",
           "#636efa",
           "#636efa",
           "#ab63fa",
           "#636efa",
           "#EF553B",
           "#EF553B",
           "#ab63fa",
           "#ab63fa",
           "#636efa",
           "#ab63fa",
           "#636efa",
           "#00cc96",
           "#636efa",
           "#EF553B",
           "#636efa",
           "#EF553B",
           "#00cc96",
           "#00cc96",
           "#00cc96",
           "#ab63fa",
           "#ab63fa",
           "#ab63fa",
           "#EF553B",
           "#EF553B",
           "#636efa",
           "#00cc96",
           "#EF553B",
           "#636efa",
           "#636efa",
           "#ab63fa",
           "#636efa",
           "#636efa",
           "#00cc96",
           "#636efa",
           "#636efa",
           "#636efa",
           "#00cc96",
           "#ab63fa",
           "#00cc96",
           "#636efa",
           "#636efa",
           "#EF553B",
           "#636efa",
           "#00cc96",
           "#EF553B",
           "#00cc96",
           "#00cc96",
           "#00cc96",
           "#ab63fa",
           "#636efa",
           "#636efa",
           "#636efa",
           "#00cc96",
           "#636efa",
           "#00cc96",
           "#00cc96",
           "#636efa",
           "#EF553B",
           "#EF553B",
           "#00cc96",
           "#EF553B",
           "#ab63fa",
           "#636efa",
           "#636efa",
           "#ab63fa",
           "#EF553B",
           "#EF553B",
           "#636efa",
           "#636efa",
           "#EF553B",
           "#EF553B",
           "#636efa",
           "#636efa",
           "#636efa",
           "#636efa",
           "#636efa",
           "#00cc96",
           "#00cc96",
           "#636efa",
           "#EF553B",
           "#EF553B",
           "#00cc96",
           "#00cc96",
           "#EF553B",
           "#EF553B",
           "#636efa",
           "#ab63fa",
           "#ab63fa",
           "#EF553B",
           "#EF553B",
           "#EF553B",
           "#636efa",
           "#EF553B",
           "#00cc96",
           "#636efa",
           "#EF553B",
           "#EF553B",
           "#636efa",
           "#ab63fa",
           "#00cc96",
           "#00cc96",
           "#636efa",
           "#636efa",
           "#636efa",
           "#636efa",
           "#EF553B",
           "#00cc96",
           "#EF553B",
           "#636efa",
           "#636efa",
           "#ab63fa",
           "#636efa",
           "#00cc96",
           "#EF553B",
           "#636efa",
           "#00cc96",
           "#ab63fa",
           "#00cc96",
           "#636efa",
           "#00cc96",
           "#00cc96",
           "#EF553B",
           "#636efa",
           "#00cc96",
           "#00cc96",
           "#ab63fa",
           "#EF553B",
           "#ab63fa",
           "#ab63fa",
           "#636efa",
           "#ab63fa",
           "#636efa",
           "#00cc96",
           "#636efa",
           "#EF553B",
           "#636efa",
           "#00cc96",
           "#636efa",
           "#636efa",
           "#636efa",
           "#00cc96",
           "#ab63fa",
           "#ab63fa",
           "#ab63fa",
           "#ab63fa",
           "#EF553B",
           "#ab63fa",
           "#EF553B",
           "#ab63fa",
           "#ab63fa",
           "#00cc96",
           "#636efa",
           "#636efa",
           "#636efa",
           "#ab63fa",
           "#00cc96",
           "#EF553B",
           "#00cc96",
           "#EF553B",
           "#EF553B",
           "#636efa",
           "#00cc96",
           "#00cc96",
           "#636efa",
           "#636efa",
           "#636efa",
           "#EF553B",
           "#ab63fa",
           "#ab63fa",
           "#ab63fa",
           "#00cc96",
           "#00cc96",
           "#00cc96",
           "#EF553B",
           "#636efa",
           "#EF553B",
           "#636efa",
           "#00cc96",
           "#636efa",
           "#ab63fa",
           "#636efa",
           "#ab63fa",
           "#ab63fa",
           "#EF553B",
           "#636efa",
           "#636efa",
           "#00cc96",
           "#636efa",
           "#636efa",
           "#ab63fa",
           "#ab63fa",
           "#ab63fa",
           "#ab63fa",
           "#636efa",
           "#ab63fa",
           "#636efa",
           "#ab63fa",
           "#EF553B",
           "#ab63fa",
           "#EF553B",
           "#ab63fa",
           "#ab63fa",
           "#00cc96",
           "#EF553B",
           "#00cc96",
           "#ab63fa",
           "#ab63fa",
           "#ab63fa",
           "#636efa",
           "#EF553B",
           "#EF553B",
           "#636efa",
           "#636efa",
           "#EF553B",
           "#00cc96",
           "#636efa",
           "#636efa",
           "#636efa",
           "#ab63fa",
           "#636efa",
           "#636efa",
           "#636efa",
           "#636efa",
           "#636efa",
           "#ab63fa",
           "#636efa",
           "#00cc96",
           "#636efa",
           "#636efa",
           "#ab63fa",
           "#636efa",
           "#00cc96",
           "#636efa",
           "#EF553B",
           "#636efa",
           "#636efa",
           "#EF553B",
           "#EF553B",
           "#EF553B",
           "#ab63fa",
           "#636efa",
           "#EF553B",
           "#636efa",
           "#636efa",
           "#ab63fa",
           "#ab63fa",
           "#EF553B",
           "#ab63fa",
           "#636efa",
           "#636efa",
           "#EF553B",
           "#636efa",
           "#ab63fa",
           "#EF553B",
           "#636efa",
           "#636efa",
           "#636efa",
           "#EF553B",
           "#ab63fa",
           "#636efa",
           "#636efa",
           "#EF553B",
           "#ab63fa",
           "#636efa",
           "#636efa",
           "#EF553B",
           "#EF553B",
           "#636efa",
           "#00cc96",
           "#00cc96",
           "#636efa",
           "#00cc96",
           "#636efa",
           "#636efa",
           "#636efa",
           "#EF553B",
           "#EF553B",
           "#636efa",
           "#636efa",
           "#EF553B",
           "#636efa",
           "#EF553B",
           "#ab63fa",
           "#00cc96",
           "#636efa",
           "#00cc96",
           "#ab63fa",
           "#EF553B",
           "#EF553B",
           "#00cc96",
           "#636efa",
           "#EF553B",
           "#636efa",
           "#636efa",
           "#ab63fa",
           "#636efa",
           "#ab63fa",
           "#EF553B",
           "#636efa",
           "#00cc96",
           "#EF553B",
           "#EF553B",
           "#EF553B",
           "#636efa",
           "#ab63fa",
           "#ab63fa",
           "#ab63fa",
           "#636efa",
           "#ab63fa",
           "#ab63fa",
           "#00cc96",
           "#EF553B",
           "#ab63fa",
           "#EF553B",
           "#636efa",
           "#ab63fa",
           "#ab63fa",
           "#ab63fa",
           "#ab63fa",
           "#EF553B",
           "#ab63fa",
           "#00cc96",
           "#00cc96",
           "#636efa",
           "#636efa",
           "#00cc96",
           "#EF553B",
           "#636efa",
           "#00cc96",
           "#ab63fa",
           "#00cc96",
           "#636efa",
           "#EF553B",
           "#636efa",
           "#ab63fa",
           "#ab63fa",
           "#ab63fa",
           "#636efa",
           "#ab63fa",
           "#636efa",
           "#ab63fa",
           "#EF553B",
           "#00cc96",
           "#636efa",
           "#FFA15A",
           "#ab63fa",
           "#EF553B",
           "#FFA15A",
           "#00cc96",
           "#EF553B",
           "#636efa",
           "#636efa",
           "#636efa",
           "#636efa",
           "#636efa",
           "#636efa",
           "#ab63fa",
           "#ab63fa",
           "#00cc96",
           "#ab63fa",
           "#00cc96",
           "#00cc96",
           "#EF553B",
           "#636efa",
           "#636efa",
           "#ab63fa",
           "#636efa",
           "#ab63fa",
           "#636efa",
           "#636efa",
           "#636efa",
           "#ab63fa",
           "#EF553B",
           "#EF553B",
           "#ab63fa",
           "#ab63fa",
           "#ab63fa",
           "#ab63fa",
           "#EF553B",
           "#00cc96",
           "#EF553B",
           "#636efa",
           "#ab63fa",
           "#636efa",
           "#ab63fa",
           "#ab63fa",
           "#636efa",
           "#636efa",
           "#636efa",
           "#EF553B",
           "#EF553B",
           "#636efa",
           "#636efa",
           "#636efa",
           "#EF553B",
           "#636efa",
           "#EF553B",
           "#00cc96",
           "#636efa",
           "#636efa",
           "#EF553B",
           "#636efa",
           "#ab63fa",
           "#EF553B",
           "#EF553B",
           "#636efa",
           "#636efa",
           "#EF553B",
           "#ab63fa",
           "#636efa",
           "#EF553B",
           "#636efa",
           "#ab63fa",
           "#ab63fa",
           "#ab63fa",
           "#636efa",
           "#00cc96",
           "#636efa",
           "#ab63fa",
           "#ab63fa",
           "#00cc96",
           "#00cc96",
           "#636efa",
           "#EF553B",
           "#EF553B",
           "#00cc96",
           "#EF553B",
           "#636efa",
           "#00cc96",
           "#636efa",
           "#636efa",
           "#636efa",
           "#636efa",
           "#EF553B",
           "#636efa",
           "#EF553B",
           "#00cc96",
           "#636efa",
           "#636efa",
           "#00cc96",
           "#00cc96",
           "#ab63fa",
           "#EF553B",
           "#EF553B",
           "#00cc96",
           "#00cc96",
           "#00cc96",
           "#ab63fa",
           "#EF553B",
           "#00cc96",
           "#00cc96",
           "#00cc96",
           "#00cc96",
           "#ab63fa",
           "#636efa",
           "#636efa",
           "#EF553B",
           "#ab63fa",
           "#636efa",
           "#636efa",
           "#ab63fa",
           "#ab63fa",
           "#ab63fa",
           "#00cc96",
           "#00cc96",
           "#00cc96",
           "#ab63fa",
           "#636efa",
           "#636efa",
           "#EF553B",
           "#636efa",
           "#00cc96",
           "#EF553B",
           "#EF553B",
           "#ab63fa",
           "#636efa",
           "#636efa",
           "#ab63fa",
           "#636efa",
           "#636efa",
           "#636efa",
           "#636efa",
           "#ab63fa",
           "#EF553B",
           "#636efa",
           "#636efa",
           "#EF553B",
           "#EF553B",
           "#ab63fa",
           "#636efa",
           "#636efa",
           "#EF553B",
           "#ab63fa",
           "#ab63fa",
           "#EF553B",
           "#EF553B",
           "#ab63fa",
           "#00cc96",
           "#00cc96",
           "#636efa",
           "#636efa",
           "#00cc96",
           "#EF553B",
           "#636efa",
           "#636efa",
           "#636efa",
           "#ab63fa",
           "#636efa",
           "#ab63fa",
           "#ab63fa",
           "#00cc96",
           "#00cc96",
           "#00cc96",
           "#EF553B",
           "#636efa",
           "#EF553B",
           "#ab63fa",
           "#ab63fa",
           "#ab63fa",
           "#ab63fa",
           "#636efa",
           "#EF553B",
           "#EF553B",
           "#00cc96",
           "#ab63fa",
           "#ab63fa",
           "#636efa",
           "#ab63fa",
           "#ab63fa",
           "#ab63fa",
           "#ab63fa",
           "#636efa",
           "#636efa",
           "#636efa",
           "#ab63fa",
           "#EF553B",
           "#ab63fa",
           "#00cc96",
           "#636efa",
           "#EF553B",
           "#EF553B",
           "#00cc96",
           "#00cc96",
           "#636efa",
           "#636efa",
           "#00cc96",
           "#EF553B",
           "#636efa",
           "#EF553B",
           "#636efa",
           "#636efa",
           "#EF553B",
           "#EF553B",
           "#FFA15A",
           "#00cc96",
           "#636efa",
           "#EF553B",
           "#ab63fa",
           "#636efa",
           "#636efa",
           "#636efa",
           "#ab63fa",
           "#ab63fa",
           "#00cc96",
           "#636efa",
           "#00cc96",
           "#00cc96",
           "#636efa",
           "#ab63fa",
           "#EF553B",
           "#636efa",
           "#EF553B",
           "#ab63fa",
           "#00cc96",
           "#636efa",
           "#636efa",
           "#636efa",
           "#ab63fa",
           "#636efa",
           "#636efa",
           "#636efa",
           "#636efa",
           "#636efa",
           "#ab63fa",
           "#ab63fa",
           "#ab63fa",
           "#ab63fa",
           "#636efa",
           "#EF553B",
           "#636efa",
           "#636efa",
           "#636efa",
           "#636efa",
           "#636efa",
           "#636efa",
           "#ab63fa",
           "#00cc96",
           "#636efa",
           "#636efa",
           "#636efa",
           "#ab63fa",
           "#ab63fa",
           "#ab63fa",
           "#ab63fa",
           "#636efa",
           "#ab63fa",
           "#ab63fa",
           "#00cc96",
           "#ab63fa",
           "#EF553B",
           "#636efa",
           "#00cc96",
           "#ab63fa",
           "#00cc96",
           "#636efa",
           "#636efa",
           "#00cc96",
           "#636efa",
           "#ab63fa",
           "#636efa",
           "#636efa",
           "#636efa",
           "#636efa",
           "#00cc96",
           "#EF553B",
           "#00cc96",
           "#00cc96",
           "#636efa",
           "#636efa",
           "#00cc96",
           "#636efa",
           "#ab63fa",
           "#636efa",
           "#636efa",
           "#EF553B",
           "#00cc96",
           "#636efa",
           "#EF553B",
           "#EF553B",
           "#636efa",
           "#EF553B",
           "#ab63fa",
           "#ab63fa",
           "#EF553B",
           "#EF553B",
           "#636efa",
           "#ab63fa",
           "#636efa",
           "#636efa",
           "#EF553B",
           "#636efa",
           "#00cc96",
           "#ab63fa",
           "#00cc96",
           "#00cc96",
           "#EF553B",
           "#636efa",
           "#ab63fa",
           "#00cc96",
           "#636efa",
           "#636efa",
           "#636efa",
           "#ab63fa",
           "#636efa",
           "#636efa",
           "#ab63fa",
           "#00cc96",
           "#ab63fa",
           "#636efa",
           "#ab63fa",
           "#00cc96",
           "#EF553B",
           "#EF553B",
           "#ab63fa",
           "#636efa",
           "#EF553B",
           "#636efa",
           "#ab63fa",
           "#636efa",
           "#636efa",
           "#EF553B",
           "#636efa",
           "#00cc96",
           "#EF553B",
           "#FFA15A",
           "#ab63fa",
           "#636efa",
           "#ab63fa",
           "#636efa",
           "#636efa",
           "#EF553B",
           "#ab63fa",
           "#00cc96",
           "#636efa",
           "#636efa",
           "#636efa",
           "#ab63fa",
           "#636efa",
           "#636efa",
           "#EF553B",
           "#636efa",
           "#636efa",
           "#ab63fa",
           "#636efa",
           "#636efa",
           "#EF553B",
           "#EF553B",
           "#ab63fa",
           "#636efa",
           "#EF553B",
           "#636efa",
           "#ab63fa",
           "#636efa",
           "#636efa",
           "#EF553B",
           "#636efa",
           "#00cc96",
           "#636efa",
           "#EF553B",
           "#ab63fa",
           "#00cc96",
           "#00cc96",
           "#00cc96",
           "#ab63fa",
           "#ab63fa",
           "#EF553B",
           "#636efa",
           "#636efa",
           "#00cc96",
           "#FFA15A",
           "#EF553B",
           "#ab63fa",
           "#636efa",
           "#EF553B",
           "#636efa",
           "#636efa",
           "#ab63fa",
           "#636efa",
           "#EF553B",
           "#EF553B",
           "#00cc96",
           "#EF553B",
           "#636efa",
           "#ab63fa",
           "#636efa",
           "#636efa",
           "#EF553B",
           "#ab63fa",
           "#00cc96",
           "#636efa",
           "#636efa",
           "#00cc96",
           "#636efa",
           "#636efa",
           "#636efa",
           "#00cc96",
           "#636efa",
           "#00cc96",
           "#00cc96",
           "#636efa",
           "#EF553B",
           "#EF553B",
           "#00cc96",
           "#EF553B",
           "#636efa",
           "#00cc96",
           "#636efa",
           "#ab63fa",
           "#636efa",
           "#00cc96",
           "#00cc96",
           "#ab63fa",
           "#636efa",
           "#ab63fa",
           "#636efa",
           "#636efa",
           "#ab63fa",
           "#636efa",
           "#636efa",
           "#EF553B",
           "#00cc96",
           "#636efa",
           "#EF553B",
           "#00cc96",
           "#636efa",
           "#636efa",
           "#EF553B",
           "#ab63fa",
           "#636efa",
           "#ab63fa",
           "#636efa",
           "#636efa",
           "#EF553B",
           "#ab63fa",
           "#00cc96",
           "#636efa",
           "#636efa",
           "#636efa",
           "#ab63fa",
           "#636efa",
           "#636efa",
           "#ab63fa",
           "#636efa",
           "#ab63fa",
           "#ab63fa",
           "#EF553B",
           "#ab63fa",
           "#ab63fa",
           "#EF553B",
           "#636efa",
           "#00cc96",
           "#FFA15A",
           "#EF553B",
           "#00cc96",
           "#EF553B",
           "#636efa",
           "#636efa",
           "#ab63fa",
           "#636efa",
           "#636efa",
           "#00cc96",
           "#00cc96",
           "#636efa",
           "#636efa",
           "#EF553B",
           "#636efa",
           "#EF553B",
           "#00cc96",
           "#00cc96",
           "#636efa",
           "#00cc96",
           "#ab63fa",
           "#ab63fa",
           "#636efa",
           "#636efa",
           "#ab63fa",
           "#EF553B",
           "#ab63fa",
           "#636efa",
           "#636efa",
           "#00cc96",
           "#ab63fa",
           "#EF553B",
           "#EF553B",
           "#00cc96",
           "#ab63fa",
           "#EF553B",
           "#00cc96",
           "#636efa",
           "#ab63fa",
           "#636efa",
           "#ab63fa",
           "#EF553B",
           "#FFA15A",
           "#00cc96",
           "#636efa",
           "#00cc96",
           "#636efa",
           "#636efa",
           "#ab63fa",
           "#00cc96",
           "#636efa",
           "#636efa",
           "#636efa",
           "#00cc96",
           "#636efa",
           "#EF553B",
           "#00cc96",
           "#EF553B",
           "#636efa",
           "#EF553B",
           "#636efa",
           "#EF553B",
           "#00cc96",
           "#00cc96",
           "#636efa",
           "#636efa",
           "#EF553B",
           "#00cc96",
           "#636efa",
           "#636efa",
           "#EF553B",
           "#ab63fa",
           "#ab63fa",
           "#FFA15A",
           "#00cc96",
           "#00cc96",
           "#ab63fa",
           "#EF553B",
           "#EF553B",
           "#00cc96",
           "#636efa",
           "#00cc96",
           "#EF553B",
           "#ab63fa",
           "#636efa",
           "#EF553B",
           "#636efa",
           "#636efa",
           "#00cc96",
           "#FFA15A",
           "#EF553B",
           "#ab63fa",
           "#ab63fa",
           "#EF553B",
           "#636efa",
           "#00cc96",
           "#EF553B",
           "#636efa",
           "#636efa",
           "#ab63fa",
           "#EF553B",
           "#636efa",
           "#636efa",
           "#636efa",
           "#636efa",
           "#00cc96",
           "#EF553B",
           "#00cc96",
           "#636efa",
           "#636efa",
           "#EF553B",
           "#EF553B",
           "#ab63fa",
           "#00cc96",
           "#00cc96",
           "#00cc96",
           "#ab63fa",
           "#EF553B",
           "#ab63fa",
           "#00cc96",
           "#636efa",
           "#EF553B",
           "#636efa",
           "#636efa",
           "#ab63fa",
           "#636efa",
           "#636efa",
           "#636efa",
           "#00cc96",
           "#ab63fa",
           "#EF553B",
           "#636efa",
           "#00cc96",
           "#FFA15A",
           "#EF553B",
           "#ab63fa",
           "#ab63fa",
           "#636efa",
           "#636efa",
           "#636efa",
           "#ab63fa",
           "#ab63fa",
           "#636efa",
           "#636efa",
           "#EF553B",
           "#00cc96",
           "#636efa",
           "#EF553B",
           "#00cc96",
           "#636efa",
           "#EF553B",
           "#ab63fa",
           "#ab63fa",
           "#EF553B",
           "#FFA15A",
           "#636efa",
           "#00cc96",
           "#636efa",
           "#EF553B",
           "#ab63fa",
           "#636efa",
           "#ab63fa",
           "#ab63fa",
           "#ab63fa",
           "#00cc96",
           "#00cc96",
           "#00cc96",
           "#EF553B",
           "#636efa",
           "#EF553B",
           "#636efa",
           "#636efa",
           "#00cc96",
           "#00cc96",
           "#636efa",
           "#EF553B",
           "#EF553B",
           "#FFA15A",
           "#00cc96",
           "#636efa",
           "#636efa",
           "#ab63fa",
           "#ab63fa",
           "#EF553B",
           "#636efa",
           "#00cc96",
           "#EF553B",
           "#636efa",
           "#00cc96",
           "#636efa",
           "#636efa",
           "#00cc96",
           "#00cc96",
           "#EF553B",
           "#636efa",
           "#636efa",
           "#00cc96",
           "#FFA15A",
           "#EF553B",
           "#ab63fa",
           "#636efa",
           "#636efa",
           "#636efa",
           "#EF553B",
           "#00cc96",
           "#636efa",
           "#636efa",
           "#ab63fa",
           "#636efa",
           "#ab63fa",
           "#636efa",
           "#ab63fa",
           "#ab63fa",
           "#EF553B",
           "#636efa",
           "#00cc96",
           "#EF553B",
           "#ab63fa",
           "#EF553B",
           "#00cc96",
           "#00cc96",
           "#00cc96",
           "#636efa",
           "#636efa",
           "#636efa",
           "#636efa",
           "#ab63fa",
           "#ab63fa",
           "#ab63fa",
           "#636efa",
           "#EF553B",
           "#EF553B",
           "#ab63fa",
           "#EF553B",
           "#EF553B",
           "#ab63fa",
           "#ab63fa",
           "#ab63fa",
           "#ab63fa",
           "#EF553B",
           "#FFA15A",
           "#00cc96",
           "#636efa",
           "#636efa",
           "#EF553B",
           "#00cc96",
           "#ab63fa",
           "#00cc96",
           "#636efa",
           "#636efa",
           "#636efa",
           "#ab63fa",
           "#ab63fa",
           "#636efa",
           "#636efa",
           "#ab63fa",
           "#636efa",
           "#00cc96",
           "#ab63fa",
           "#00cc96",
           "#636efa",
           "#636efa",
           "#00cc96",
           "#636efa",
           "#ab63fa",
           "#636efa",
           "#636efa",
           "#EF553B",
           "#00cc96",
           "#EF553B",
           "#00cc96",
           "#FFA15A",
           "#EF553B",
           "#ab63fa",
           "#EF553B",
           "#ab63fa",
           "#636efa",
           "#00cc96",
           "#636efa",
           "#EF553B",
           "#636efa",
           "#EF553B",
           "#00cc96",
           "#00cc96",
           "#00cc96",
           "#EF553B",
           "#FFA15A",
           "#00cc96",
           "#636efa",
           "#00cc96",
           "#636efa",
           "#EF553B",
           "#ab63fa",
           "#ab63fa",
           "#636efa",
           "#ab63fa",
           "#636efa",
           "#ab63fa",
           "#636efa",
           "#636efa",
           "#EF553B",
           "#636efa",
           "#00cc96",
           "#EF553B",
           "#EF553B",
           "#ab63fa",
           "#EF553B",
           "#00cc96",
           "#636efa",
           "#EF553B",
           "#ab63fa",
           "#636efa",
           "#636efa",
           "#EF553B",
           "#EF553B",
           "#ab63fa",
           "#00cc96",
           "#EF553B",
           "#ab63fa",
           "#636efa",
           "#636efa",
           "#ab63fa",
           "#636efa",
           "#636efa",
           "#636efa",
           "#636efa",
           "#636efa",
           "#636efa",
           "#00cc96",
           "#FFA15A",
           "#EF553B",
           "#ab63fa",
           "#ab63fa",
           "#EF553B",
           "#636efa",
           "#00cc96",
           "#EF553B",
           "#636efa",
           "#636efa",
           "#00cc96",
           "#ab63fa",
           "#ab63fa",
           "#636efa",
           "#EF553B",
           "#636efa",
           "#ab63fa",
           "#EF553B",
           "#EF553B",
           "#636efa",
           "#636efa",
           "#636efa",
           "#ab63fa",
           "#636efa",
           "#636efa",
           "#ab63fa",
           "#ab63fa",
           "#EF553B",
           "#636efa",
           "#636efa",
           "#EF553B",
           "#EF553B",
           "#EF553B",
           "#ab63fa",
           "#EF553B",
           "#EF553B",
           "#636efa",
           "#636efa",
           "#EF553B",
           "#636efa",
           "#636efa",
           "#00cc96",
           "#636efa",
           "#636efa",
           "#636efa",
           "#EF553B",
           "#00cc96",
           "#636efa",
           "#EF553B",
           "#00cc96",
           "#636efa",
           "#EF553B",
           "#636efa",
           "#636efa",
           "#636efa",
           "#00cc96",
           "#00cc96",
           "#636efa",
           "#636efa",
           "#00cc96",
           "#636efa",
           "#ab63fa",
           "#EF553B",
           "#636efa",
           "#636efa",
           "#636efa",
           "#00cc96",
           "#636efa",
           "#00cc96",
           "#00cc96",
           "#636efa",
           "#EF553B",
           "#636efa",
           "#636efa",
           "#636efa",
           "#636efa",
           "#ab63fa",
           "#ab63fa",
           "#ab63fa",
           "#ab63fa",
           "#ab63fa",
           "#ab63fa",
           "#EF553B",
           "#EF553B",
           "#ab63fa",
           "#00cc96",
           "#EF553B",
           "#EF553B",
           "#636efa",
           "#00cc96",
           "#636efa",
           "#00cc96",
           "#636efa",
           "#636efa",
           "#636efa",
           "#EF553B",
           "#EF553B",
           "#636efa",
           "#00cc96",
           "#FFA15A",
           "#ab63fa",
           "#00cc96",
           "#00cc96",
           "#EF553B",
           "#EF553B",
           "#ab63fa",
           "#00cc96",
           "#00cc96",
           "#00cc96",
           "#ab63fa",
           "#ab63fa",
           "#EF553B",
           "#ab63fa",
           "#636efa",
           "#00cc96",
           "#FFA15A",
           "#EF553B",
           "#ab63fa",
           "#EF553B",
           "#636efa",
           "#00cc96",
           "#EF553B",
           "#636efa",
           "#636efa",
           "#00cc96",
           "#636efa",
           "#636efa",
           "#EF553B",
           "#636efa",
           "#00cc96",
           "#EF553B",
           "#EF553B",
           "#ab63fa",
           "#00cc96",
           "#00cc96",
           "#636efa",
           "#00cc96",
           "#ab63fa",
           "#EF553B",
           "#636efa",
           "#636efa",
           "#00cc96",
           "#FFA15A",
           "#EF553B",
           "#ab63fa",
           "#636efa",
           "#ab63fa",
           "#636efa",
           "#ab63fa",
           "#EF553B",
           "#EF553B",
           "#ab63fa",
           "#636efa",
           "#636efa",
           "#ab63fa",
           "#ab63fa",
           "#ab63fa",
           "#00cc96",
           "#ab63fa",
           "#636efa",
           "#ab63fa",
           "#ab63fa",
           "#EF553B",
           "#ab63fa",
           "#EF553B",
           "#00cc96",
           "#ab63fa",
           "#ab63fa",
           "#636efa",
           "#ab63fa",
           "#ab63fa",
           "#EF553B",
           "#EF553B",
           "#636efa",
           "#636efa",
           "#ab63fa",
           "#EF553B",
           "#636efa",
           "#636efa",
           "#00cc96",
           "#FFA15A",
           "#EF553B",
           "#ab63fa",
           "#636efa",
           "#00cc96",
           "#636efa",
           "#00cc96",
           "#ab63fa",
           "#00cc96",
           "#636efa",
           "#636efa",
           "#636efa",
           "#636efa",
           "#00cc96",
           "#636efa",
           "#ab63fa",
           "#ab63fa",
           "#EF553B",
           "#00cc96",
           "#EF553B",
           "#ab63fa",
           "#EF553B",
           "#ab63fa",
           "#ab63fa",
           "#ab63fa",
           "#ab63fa",
           "#EF553B",
           "#EF553B",
           "#ab63fa",
           "#00cc96",
           "#00cc96",
           "#636efa",
           "#636efa",
           "#00cc96",
           "#EF553B",
           "#636efa",
           "#EF553B",
           "#636efa",
           "#636efa",
           "#636efa",
           "#EF553B",
           "#EF553B",
           "#FFA15A",
           "#636efa",
           "#ab63fa",
           "#ab63fa",
           "#636efa",
           "#00cc96",
           "#636efa",
           "#EF553B",
           "#636efa",
           "#636efa",
           "#636efa",
           "#636efa",
           "#ab63fa",
           "#EF553B",
           "#636efa",
           "#636efa",
           "#EF553B",
           "#EF553B",
           "#ab63fa",
           "#636efa",
           "#EF553B",
           "#00cc96",
           "#636efa",
           "#ab63fa",
           "#636efa",
           "#EF553B",
           "#ab63fa",
           "#ab63fa",
           "#EF553B",
           "#ab63fa",
           "#636efa",
           "#00cc96",
           "#636efa",
           "#ab63fa",
           "#EF553B",
           "#ab63fa",
           "#ab63fa",
           "#ab63fa",
           "#EF553B",
           "#EF553B",
           "#636efa",
           "#EF553B",
           "#FFA15A",
           "#00cc96",
           "#636efa",
           "#636efa",
           "#ab63fa",
           "#ab63fa",
           "#ab63fa",
           "#ab63fa",
           "#636efa",
           "#636efa",
           "#EF553B",
           "#636efa",
           "#EF553B",
           "#EF553B",
           "#ab63fa",
           "#00cc96",
           "#ab63fa",
           "#00cc96",
           "#ab63fa",
           "#ab63fa",
           "#636efa",
           "#ab63fa",
           "#ab63fa",
           "#00cc96",
           "#EF553B",
           "#ab63fa",
           "#EF553B",
           "#00cc96",
           "#00cc96",
           "#ab63fa",
           "#EF553B",
           "#636efa",
           "#636efa",
           "#00cc96",
           "#FFA15A",
           "#EF553B",
           "#ab63fa",
           "#ab63fa",
           "#EF553B",
           "#636efa",
           "#00cc96",
           "#EF553B",
           "#636efa",
           "#00cc96",
           "#EF553B",
           "#636efa",
           "#636efa",
           "#ab63fa",
           "#636efa",
           "#00cc96",
           "#636efa",
           "#636efa",
           "#00cc96",
           "#ab63fa",
           "#00cc96",
           "#636efa",
           "#636efa",
           "#636efa",
           "#00cc96",
           "#636efa",
           "#EF553B",
           "#00cc96",
           "#EF553B",
           "#EF553B",
           "#636efa",
           "#00cc96",
           "#00cc96",
           "#636efa",
           "#00cc96",
           "#636efa",
           "#636efa",
           "#636efa",
           "#EF553B",
           "#EF553B",
           "#636efa",
           "#636efa",
           "#EF553B",
           "#636efa",
           "#EF553B",
           "#00cc96",
           "#636efa",
           "#636efa",
           "#00cc96",
           "#00cc96",
           "#ab63fa",
           "#EF553B",
           "#EF553B",
           "#ab63fa",
           "#ab63fa",
           "#ab63fa",
           "#ab63fa",
           "#EF553B",
           "#ab63fa",
           "#EF553B",
           "#00cc96",
           "#ab63fa",
           "#ab63fa",
           "#636efa",
           "#ab63fa",
           "#ab63fa",
           "#ab63fa",
           "#ab63fa",
           "#636efa",
           "#636efa",
           "#636efa",
           "#636efa",
           "#636efa",
           "#ab63fa",
           "#636efa",
           "#636efa",
           "#636efa",
           "#00cc96",
           "#ab63fa",
           "#EF553B",
           "#636efa",
           "#636efa",
           "#ab63fa",
           "#636efa",
           "#ab63fa",
           "#EF553B",
           "#FFA15A",
           "#00cc96",
           "#636efa",
           "#636efa",
           "#EF553B",
           "#ab63fa",
           "#ab63fa",
           "#00cc96",
           "#00cc96",
           "#00cc96",
           "#ab63fa",
           "#EF553B",
           "#EF553B",
           "#00cc96",
           "#636efa",
           "#EF553B",
           "#636efa",
           "#636efa",
           "#ab63fa",
           "#636efa",
           "#EF553B",
           "#636efa",
           "#ab63fa",
           "#EF553B",
           "#EF553B",
           "#636efa",
           "#636efa",
           "#EF553B",
           "#ab63fa",
           "#636efa",
           "#636efa",
           "#EF553B",
           "#EF553B",
           "#ab63fa",
           "#ab63fa",
           "#636efa",
           "#ab63fa",
           "#636efa",
           "#00cc96",
           "#636efa",
           "#EF553B",
           "#636efa",
           "#EF553B",
           "#00cc96",
           "#00cc96",
           "#00cc96",
           "#ab63fa",
           "#ab63fa",
           "#ab63fa",
           "#636efa",
           "#636efa",
           "#636efa",
           "#00cc96",
           "#ab63fa",
           "#EF553B",
           "#FFA15A"
          ]
         },
         "name": "",
         "parents": [
          "Africa/Zimbabwe",
          "Africa/Congo, Rep.",
          "Africa/Cote d'Ivoire",
          "Europe/Croatia",
          "Americas/Cuba",
          "Europe/Czech Republic",
          "Europe/Denmark",
          "Africa/Djibouti",
          "Americas/Dominican Republic",
          "Americas/Ecuador",
          "Africa/Egypt",
          "Americas/El Salvador",
          "Africa/Equatorial Guinea",
          "Africa/Eritrea",
          "Americas/Costa Rica",
          "Africa/Sierra Leone",
          "Asia/Singapore",
          "Europe/Slovak Republic",
          "Africa/Congo, Dem. Rep.",
          "Europe/Slovenia",
          "Africa/Comoros",
          "Asia/China",
          "Asia/Bahrain",
          "Asia/Bangladesh",
          "Europe/Belgium",
          "Africa/Benin",
          "Americas/Bolivia",
          "Europe/Bosnia and Herzegovina",
          "Africa/Botswana",
          "Americas/Brazil",
          "Europe/Bulgaria",
          "Africa/Burkina Faso",
          "Africa/Burundi",
          "Asia/Cambodia",
          "Africa/Cameroon",
          "Americas/Canada",
          "Africa/Central African Republic",
          "Africa/Chad",
          "Americas/Chile",
          "Americas/Colombia",
          "Europe/Austria",
          "Africa/Somalia",
          "Europe/Spain",
          "Asia/Kuwait",
          "Asia/Lebanon",
          "Africa/Lesotho",
          "Africa/Liberia",
          "Africa/Libya",
          "Africa/Madagascar",
          "Africa/Malawi",
          "Asia/Malaysia",
          "Africa/Mali",
          "Africa/Mauritania",
          "Africa/Mauritius",
          "Americas/Mexico",
          "Asia/Mongolia",
          "Europe/Montenegro",
          "Africa/Morocco",
          "Africa/Mozambique",
          "Asia/Myanmar",
          "Asia/Korea, Rep.",
          "Africa/South Africa",
          "Asia/Korea, Dem. Rep.",
          "Asia/Jordan",
          "Asia/Sri Lanka",
          "Africa/Sudan",
          "Africa/Swaziland",
          "Europe/Sweden",
          "Americas/Honduras",
          "Asia/Hong Kong, China",
          "Europe/Hungary",
          "Europe/Iceland",
          "Asia/India",
          "Asia/Indonesia",
          "Asia/Iran",
          "Asia/Iraq",
          "Europe/Ireland",
          "Asia/Israel",
          "Europe/Italy",
          "Americas/Jamaica",
          "Asia/Japan",
          "Africa/Kenya",
          "Africa/Namibia",
          "Americas/Uruguay",
          "Americas/Argentina",
          "Africa/Mozambique",
          "Asia/Myanmar",
          "Africa/Tanzania",
          "Asia/Taiwan",
          "Asia/Syria",
          "Europe/Switzerland",
          "Europe/Sweden",
          "Africa/Swaziland",
          "Africa/Sudan",
          "Asia/Sri Lanka",
          "Europe/Spain",
          "Africa/South Africa",
          "Africa/Somalia",
          "Africa/Eritrea",
          "Asia/Syria",
          "Asia/Taiwan",
          "Africa/Tanzania",
          "Africa/Morocco",
          "Asia/Thailand",
          "Europe/Montenegro",
          "Americas/Mexico",
          "Americas/Haiti",
          "Americas/Honduras",
          "Asia/Hong Kong, China",
          "Europe/Hungary",
          "Europe/Iceland",
          "Asia/India",
          "Europe/Sweden",
          "Asia/Iran",
          "Asia/Iraq",
          "Europe/Ireland",
          "Asia/Israel",
          "Africa/Madagascar",
          "Africa/Malawi",
          "Asia/Malaysia",
          "Africa/Mali",
          "Africa/Mauritania",
          "Africa/Mauritius",
          "Asia/Mongolia",
          "Oceania/Australia",
          "Africa/Togo",
          "Africa/Tunisia",
          "Asia/Pakistan",
          "Asia/Oman",
          "Europe/Norway",
          "Africa/Nigeria",
          "Africa/Niger",
          "Americas/Nicaragua",
          "Americas/Costa Rica",
          "Americas/Venezuela",
          "Asia/Vietnam",
          "Asia/West Bank and Gaza",
          "Asia/Yemen, Rep.",
          "Africa/Zambia",
          "Africa/Zimbabwe",
          "Asia/Afghanistan",
          "Europe/Albania",
          "Africa/Algeria",
          "Africa/Angola",
          "Americas/Panama",
          "Americas/Trinidad and Tobago",
          "Americas/Paraguay",
          "Asia/Philippines",
          "Europe/Turkey",
          "Africa/Uganda",
          "Europe/United Kingdom",
          "Americas/United States",
          "Africa/Equatorial Guinea",
          "Americas/El Salvador",
          "Africa/Egypt",
          "Americas/Ecuador",
          "Americas/Dominican Republic",
          "Africa/Djibouti",
          "Europe/Denmark",
          "Europe/Czech Republic",
          "Americas/Cuba",
          "Europe/Croatia",
          "Africa/Cote d'Ivoire",
          "Europe/Portugal",
          "Europe/Poland",
          "Americas/Peru",
          "Africa/Guinea-Bissau",
          "Asia/Nepal",
          "Africa/Congo, Dem. Rep.",
          "Asia/Hong Kong, China",
          "Europe/Hungary",
          "Europe/Iceland",
          "Asia/India",
          "Asia/Indonesia",
          "Asia/Iran",
          "Asia/Iraq",
          "Europe/Ireland",
          "Asia/Israel",
          "Europe/Italy",
          "Americas/Jamaica",
          "Asia/Japan",
          "Asia/Jordan",
          "Americas/Haiti",
          "Asia/Japan",
          "Asia/Jordan",
          "Africa/Kenya",
          "Americas/Honduras",
          "Asia/Korea, Dem. Rep.",
          "Americas/Haiti",
          "Africa/Guinea",
          "Europe/Finland",
          "Europe/France",
          "Africa/Gabon",
          "Africa/Gambia",
          "Europe/Germany",
          "Africa/Ghana",
          "Europe/Greece",
          "Americas/Guatemala",
          "Africa/Guinea",
          "Africa/Guinea-Bissau",
          "Europe/France",
          "Africa/Gabon",
          "Africa/Gambia",
          "Europe/Germany",
          "Africa/Ghana",
          "Europe/Greece",
          "Americas/Guatemala",
          "Africa/Guinea-Bissau",
          "Africa/Ethiopia",
          "Asia/Korea, Rep.",
          "Asia/Lebanon",
          "Asia/Sri Lanka",
          "Africa/Sudan",
          "Asia/Vietnam",
          "Americas/Venezuela",
          "Americas/Uruguay",
          "Americas/United States",
          "Europe/United Kingdom",
          "Africa/Uganda",
          "Europe/Turkey",
          "Africa/Tunisia",
          "Americas/Trinidad and Tobago",
          "Africa/Togo",
          "Asia/Thailand",
          "Africa/Tanzania",
          "Asia/Taiwan",
          "Asia/Syria",
          "Europe/Switzerland",
          "Europe/Spain",
          "Asia/Kuwait",
          "Africa/South Africa",
          "Europe/Slovenia",
          "Africa/Lesotho",
          "Africa/Liberia",
          "Africa/Libya",
          "Africa/Madagascar",
          "Africa/Malawi",
          "Asia/Syria",
          "Asia/Taiwan",
          "Africa/Tanzania",
          "Asia/Thailand",
          "Africa/Togo",
          "Americas/Trinidad and Tobago",
          "Africa/Tunisia",
          "Europe/Turkey",
          "Europe/Albania",
          "Africa/Algeria",
          "Africa/Angola",
          "Europe/Slovak Republic",
          "Africa/Somalia",
          "Africa/Congo, Rep.",
          "Europe/Switzerland",
          "Americas/Canada",
          "Europe/Finland",
          "Europe/Slovak Republic",
          "Europe/Slovenia",
          "Africa/Somalia",
          "Africa/South Africa",
          "Europe/Spain",
          "Asia/Sri Lanka",
          "Africa/Sudan",
          "Africa/Swaziland",
          "Europe/Sweden",
          "Europe/Switzerland",
          "Asia/Syria",
          "Asia/Taiwan",
          "Africa/Tanzania",
          "Asia/Thailand",
          "Africa/Togo",
          "Americas/Trinidad and Tobago",
          "Africa/Zimbabwe",
          "Africa/Tunisia",
          "Africa/Zambia",
          "Asia/West Bank and Gaza",
          "Africa/Comoros",
          "Europe/Sweden",
          "Europe/Switzerland",
          "Asia/Syria",
          "Asia/Taiwan",
          "Africa/Tanzania",
          "Asia/Thailand",
          "Africa/Togo",
          "Americas/Trinidad and Tobago",
          "Africa/Tunisia",
          "Europe/Turkey",
          "Africa/Uganda",
          "Europe/United Kingdom",
          "Americas/United States",
          "Americas/Uruguay",
          "Americas/Venezuela",
          "Asia/Vietnam",
          "Asia/Yemen, Rep.",
          "Asia/Afghanistan",
          "Europe/Turkey",
          "Europe/United Kingdom",
          "Africa/Botswana",
          "Americas/Brazil",
          "Europe/Bulgaria",
          "Africa/Burkina Faso",
          "Africa/Burundi",
          "Asia/Cambodia",
          "Africa/Cameroon",
          "Africa/Cote d'Ivoire",
          "Americas/Costa Rica",
          "Africa/Congo, Rep.",
          "Africa/Congo, Dem. Rep.",
          "Africa/Comoros",
          "Americas/Colombia",
          "Asia/China",
          "Americas/Chile",
          "Africa/Chad",
          "Africa/Central African Republic",
          "Europe/Bosnia and Herzegovina",
          "Africa/Uganda",
          "Americas/Bolivia",
          "Europe/Belgium",
          "Americas/United States",
          "Americas/Uruguay",
          "Americas/Venezuela",
          "Asia/Vietnam",
          "Africa/Ethiopia",
          "Africa/Eritrea",
          "Africa/Equatorial Guinea",
          "Americas/El Salvador",
          "Africa/Egypt",
          "Americas/Ecuador",
          "Americas/Dominican Republic",
          "Africa/Djibouti",
          "Europe/Denmark",
          "Europe/Czech Republic",
          "Americas/Cuba",
          "Europe/Croatia",
          "Asia/Bangladesh",
          "Africa/Benin",
          "Africa/Guinea",
          "Asia/Indonesia",
          "Europe/Greece",
          "Europe/Germany",
          "Africa/Gambia",
          "Africa/Gabon",
          "Europe/France",
          "Europe/Finland",
          "Africa/Ethiopia",
          "Africa/Eritrea",
          "Africa/Ghana",
          "Africa/Equatorial Guinea",
          "Africa/Egypt",
          "Americas/Ecuador",
          "Americas/Dominican Republic",
          "Africa/Djibouti",
          "Europe/Denmark",
          "Europe/Czech Republic",
          "Americas/Cuba",
          "Americas/El Salvador",
          "Europe/Croatia",
          "Europe/Greece",
          "Africa/Guinea",
          "Asia/Indonesia",
          "Asia/India",
          "Europe/Iceland",
          "Europe/Hungary",
          "Europe/Greece",
          "Africa/Ghana",
          "Europe/Germany",
          "Americas/Guatemala",
          "Africa/Gambia",
          "Europe/France",
          "Europe/Finland",
          "Africa/Ethiopia",
          "Asia/Hong Kong, China",
          "Americas/Honduras",
          "Americas/Haiti",
          "Africa/Guinea-Bissau",
          "Africa/Gabon",
          "Africa/Sudan",
          "Africa/Swaziland",
          "Europe/Sweden",
          "Americas/Brazil",
          "Europe/Bulgaria",
          "Africa/Burkina Faso",
          "Africa/Burundi",
          "Asia/Cambodia",
          "Africa/Cameroon",
          "Americas/Canada",
          "Europe/Czech Republic",
          "Africa/Central African Republic",
          "Americas/Chile",
          "Asia/China",
          "Americas/Colombia",
          "Africa/Zambia",
          "Americas/Guatemala",
          "Americas/Cuba",
          "Europe/Croatia",
          "Africa/Chad",
          "Americas/Paraguay",
          "Americas/Panama",
          "Asia/Pakistan",
          "Europe/Switzerland",
          "Asia/Syria",
          "Asia/Taiwan",
          "Africa/Tanzania",
          "Asia/Thailand",
          "Africa/Togo",
          "Americas/Trinidad and Tobago",
          "Africa/Tunisia",
          "Europe/Turkey",
          "Africa/Cote d'Ivoire",
          "Americas/Costa Rica",
          "Africa/Congo, Rep.",
          "Africa/Congo, Dem. Rep.",
          "Africa/Comoros",
          "Americas/Colombia",
          "Asia/China",
          "Asia/Oman",
          "Asia/Iran",
          "Asia/Iraq",
          "Europe/Ireland",
          "Asia/Israel",
          "Europe/Spain",
          "Asia/Mongolia",
          "Asia/China",
          "Americas/Colombia",
          "Africa/Comoros",
          "Africa/Congo, Dem. Rep.",
          "Africa/Congo, Rep.",
          "Asia/Sri Lanka",
          "Americas/Costa Rica",
          "Europe/Croatia",
          "Americas/Cuba",
          "Europe/Czech Republic",
          "Europe/Denmark",
          "Africa/Djibouti",
          "Americas/Dominican Republic",
          "Americas/Ecuador",
          "Africa/Cote d'Ivoire",
          "Africa/Sudan",
          "Africa/Swaziland",
          "Europe/Sweden",
          "Asia/Yemen, Rep.",
          "Asia/West Bank and Gaza",
          "Asia/Vietnam",
          "Americas/Venezuela",
          "Americas/Uruguay",
          "Americas/United States",
          "Europe/United Kingdom",
          "Africa/Uganda",
          "Europe/Turkey",
          "Africa/Tunisia",
          "Americas/Trinidad and Tobago",
          "Africa/Togo",
          "Asia/Thailand",
          "Africa/Tanzania",
          "Asia/Taiwan",
          "Asia/Syria",
          "Europe/Switzerland",
          "Africa/Egypt",
          "Africa/Cote d'Ivoire",
          "Americas/El Salvador",
          "Africa/Eritrea",
          "Africa/Lesotho",
          "Asia/Lebanon",
          "Asia/Kuwait",
          "Asia/Korea, Rep.",
          "Asia/Korea, Dem. Rep.",
          "Africa/Kenya",
          "Asia/Jordan",
          "Africa/Kenya",
          "Asia/Japan",
          "Europe/Italy",
          "Asia/Israel",
          "Europe/Ireland",
          "Asia/Jordan",
          "Asia/Japan",
          "Americas/Jamaica",
          "Europe/Italy",
          "Americas/Jamaica",
          "Asia/Korea, Dem. Rep.",
          "Asia/Korea, Rep.",
          "Asia/Kuwait",
          "Africa/Ethiopia",
          "Europe/Finland",
          "Europe/France",
          "Africa/Gabon",
          "Africa/Gambia",
          "Europe/Germany",
          "Americas/Mexico",
          "Africa/Mauritius",
          "Africa/Mauritania",
          "Africa/Mali",
          "Asia/Malaysia",
          "Africa/Malawi",
          "Africa/Madagascar",
          "Africa/Libya",
          "Africa/Liberia",
          "Africa/Lesotho",
          "Asia/Lebanon",
          "Africa/Equatorial Guinea",
          "Americas/Costa Rica",
          "Africa/Swaziland",
          "Africa/Congo, Dem. Rep.",
          "Asia/Thailand",
          "Africa/Togo",
          "Americas/Trinidad and Tobago",
          "Africa/Tunisia",
          "Europe/Turkey",
          "Africa/Uganda",
          "Africa/Tanzania",
          "Europe/United Kingdom",
          "Europe/Slovenia",
          "Europe/Slovak Republic",
          "Asia/Singapore",
          "Africa/Sierra Leone",
          "Europe/Serbia",
          "Africa/Senegal",
          "Africa/Somalia",
          "Asia/Taiwan",
          "Asia/Syria",
          "Europe/Switzerland",
          "Asia/Pakistan",
          "Africa/South Africa",
          "Africa/Senegal",
          "Europe/Serbia",
          "Africa/Sierra Leone",
          "Asia/Singapore",
          "Europe/Slovak Republic",
          "Africa/Congo, Rep.",
          "Africa/Somalia",
          "Africa/South Africa",
          "Europe/Spain",
          "Asia/Sri Lanka",
          "Africa/Sudan",
          "Africa/Swaziland",
          "Europe/Sweden",
          "Asia/Saudi Arabia",
          "Africa/Sao Tome and Principe",
          "Africa/Rwanda",
          "Europe/Romania",
          "Europe/Denmark",
          "Africa/Djibouti",
          "Americas/Dominican Republic",
          "Americas/Ecuador",
          "Africa/Egypt",
          "Americas/El Salvador",
          "Africa/Equatorial Guinea",
          "Africa/Eritrea",
          "Africa/Ethiopia",
          "Europe/Finland",
          "Europe/France",
          "Africa/Gabon",
          "Africa/Gambia",
          "Europe/Germany",
          "Africa/Ghana",
          "Europe/Czech Republic",
          "Asia/Oman",
          "Americas/Cuba",
          "Africa/Cote d'Ivoire",
          "Americas/Peru",
          "Asia/Philippines",
          "Europe/Poland",
          "Europe/Portugal",
          "Americas/Puerto Rico",
          "Africa/Reunion",
          "Europe/Romania",
          "Africa/Rwanda",
          "Africa/Sao Tome and Principe",
          "Asia/Saudi Arabia",
          "Africa/Senegal",
          "Asia/Thailand",
          "Europe/Serbia",
          "Africa/Congo, Rep.",
          "Americas/Costa Rica",
          "Europe/Croatia",
          "Europe/Norway",
          "Europe/Slovenia",
          "Africa/Niger",
          "Asia/Kuwait",
          "Asia/Korea, Rep.",
          "Asia/Korea, Dem. Rep.",
          "Africa/Kenya",
          "Asia/Jordan",
          "Asia/Japan",
          "Americas/Jamaica",
          "Europe/Italy",
          "Asia/Israel",
          "Europe/Ireland",
          "Africa/Nigeria",
          "Asia/Iran",
          "Asia/Indonesia",
          "Asia/Lebanon",
          "Asia/India",
          "Europe/Hungary",
          "Asia/Hong Kong, China",
          "Americas/Honduras",
          "Americas/Haiti",
          "Africa/Guinea-Bissau",
          "Africa/Guinea",
          "Americas/Guatemala",
          "Europe/Belgium",
          "Africa/Chad",
          "Americas/Chile",
          "Asia/China",
          "Americas/Colombia",
          "Africa/Comoros",
          "Europe/Iceland",
          "Africa/Lesotho",
          "Asia/Iraq",
          "Asia/Bahrain",
          "Asia/Nepal",
          "Africa/Namibia",
          "Asia/Myanmar",
          "Africa/Mozambique",
          "Asia/Bangladesh",
          "Europe/Netherlands",
          "Americas/Nicaragua",
          "Africa/Zambia",
          "Oceania/New Zealand",
          "Asia/Afghanistan",
          "Europe/Austria",
          "Oceania/Australia",
          "Americas/Argentina",
          "Europe/Albania",
          "Africa/Algeria",
          "Africa/Angola",
          "Africa/Zimbabwe",
          "Africa/Madagascar",
          "Africa/Libya",
          "Africa/Liberia",
          "Asia/Lebanon",
          "Asia/Kuwait",
          "Americas/Uruguay",
          "Asia/Korea, Rep.",
          "Americas/Haiti",
          "Americas/United States",
          "Europe/United Kingdom",
          "Africa/Uganda",
          "Africa/Lesotho",
          "Asia/Japan",
          "Africa/Mali",
          "Asia/Malaysia",
          "Africa/Guinea-Bissau",
          "Africa/Mauritania",
          "Africa/Mauritius",
          "Asia/Hong Kong, China",
          "Europe/Hungary",
          "Europe/Iceland",
          "Asia/India",
          "Asia/Indonesia",
          "Asia/Iran",
          "Asia/Iraq",
          "Europe/Ireland",
          "Americas/Jamaica",
          "Europe/Italy",
          "Africa/Malawi",
          "Asia/Jordan",
          "Africa/Sudan",
          "Asia/Korea, Dem. Rep.",
          "Asia/Israel",
          "Africa/Equatorial Guinea",
          "Africa/Eritrea",
          "Africa/Ethiopia",
          "Europe/Finland",
          "Europe/France",
          "Africa/Gabon",
          "Africa/Libya",
          "Africa/Gambia",
          "Europe/Germany",
          "Africa/Ghana",
          "Europe/Greece",
          "Americas/Guatemala",
          "Africa/Guinea",
          "Africa/Kenya",
          "Europe/Switzerland",
          "Africa/Sierra Leone",
          "Asia/Singapore",
          "Europe/Slovak Republic",
          "Europe/Slovenia",
          "Africa/Somalia",
          "Africa/South Africa",
          "Europe/Spain",
          "Asia/Sri Lanka",
          "Africa/Swaziland",
          "Europe/Sweden",
          "Africa/Lesotho",
          "Asia/Lebanon",
          "Asia/Kuwait",
          "Asia/Korea, Rep.",
          "Africa/Liberia",
          "Americas/Honduras",
          "Africa/Ethiopia",
          "Asia/Vietnam",
          "Asia/Yemen, Rep.",
          "Americas/Ecuador",
          "Americas/Dominican Republic",
          "Africa/Djibouti",
          "Europe/Denmark",
          "Europe/Czech Republic",
          "Americas/Cuba",
          "Europe/Croatia",
          "Africa/Cote d'Ivoire",
          "Americas/Costa Rica",
          "Africa/Congo, Rep.",
          "Africa/Congo, Dem. Rep.",
          "Africa/Comoros",
          "Africa/Gambia",
          "Europe/Germany",
          "Africa/Ghana",
          "Europe/Greece",
          "Americas/Guatemala",
          "Africa/Guinea",
          "Africa/Guinea-Bissau",
          "Americas/Haiti",
          "Americas/Honduras",
          "Asia/Hong Kong, China",
          "Europe/Hungary",
          "Europe/Albania",
          "Americas/Panama",
          "Americas/Paraguay",
          "Americas/Peru",
          "Asia/Philippines",
          "Europe/United Kingdom",
          "Americas/United States",
          "Americas/Uruguay",
          "Americas/Venezuela",
          "Americas/Venezuela",
          "Asia/West Bank and Gaza",
          "Africa/Angola",
          "Africa/Algeria",
          "Europe/Albania",
          "Asia/Afghanistan",
          "Africa/Zimbabwe",
          "Africa/Zambia",
          "Asia/Afghanistan",
          "Asia/Yemen, Rep.",
          "Asia/Vietnam",
          "Americas/Venezuela",
          "Americas/Uruguay",
          "Americas/United States",
          "Asia/Saudi Arabia",
          "Africa/Sao Tome and Principe",
          "Africa/Rwanda",
          "Europe/Romania",
          "Africa/Reunion",
          "Americas/Puerto Rico",
          "Europe/Portugal",
          "Europe/Poland",
          "Asia/West Bank and Gaza",
          "Africa/Zimbabwe",
          "Africa/Zambia",
          "Asia/Yemen, Rep.",
          "Africa/Mauritania",
          "Africa/Mauritius",
          "Africa/Swaziland",
          "Africa/Sudan",
          "Asia/Sri Lanka",
          "Europe/Spain",
          "Africa/South Africa",
          "Africa/Somalia",
          "Europe/Slovenia",
          "Europe/Slovak Republic",
          "Asia/Singapore",
          "Africa/Sierra Leone",
          "Africa/Mali",
          "Europe/Serbia",
          "Asia/Indonesia",
          "Asia/India",
          "Europe/Iceland",
          "Europe/Hungary",
          "Asia/Hong Kong, China",
          "Americas/Honduras",
          "Americas/Haiti",
          "Africa/Guinea-Bissau",
          "Africa/Guinea",
          "Americas/Guatemala",
          "Europe/Greece",
          "Africa/Ghana",
          "Africa/Senegal",
          "Africa/Uganda",
          "Asia/Malaysia",
          "Africa/Madagascar",
          "Asia/West Bank and Gaza",
          "Asia/Vietnam",
          "Americas/Venezuela",
          "Americas/Uruguay",
          "Americas/United States",
          "Europe/United Kingdom",
          "Africa/Uganda",
          "Europe/Iceland",
          "Asia/India",
          "Asia/Indonesia",
          "Asia/Iran",
          "Asia/Iraq",
          "Africa/Malawi",
          "Europe/Ireland",
          "Europe/Italy",
          "Americas/Jamaica",
          "Asia/Japan",
          "Asia/Jordan",
          "Africa/Kenya",
          "Asia/Korea, Dem. Rep.",
          "Asia/Korea, Rep.",
          "Asia/Kuwait",
          "Asia/Lebanon",
          "Africa/Lesotho",
          "Africa/Liberia",
          "Africa/Libya",
          "Asia/Israel",
          "Europe/Turkey",
          "Asia/Vietnam",
          "Americas/Trinidad and Tobago",
          "Africa/Djibouti",
          "Europe/Denmark",
          "Europe/Czech Republic",
          "Americas/Cuba",
          "Americas/Haiti",
          "Africa/Guinea-Bissau",
          "Africa/Guinea",
          "Americas/Guatemala",
          "Europe/Greece",
          "Africa/Ghana",
          "Europe/Germany",
          "Africa/Gambia",
          "Africa/Gabon",
          "Europe/France",
          "Europe/Finland",
          "Oceania/New Zealand",
          "Americas/Costa Rica",
          "Africa/Congo, Rep.",
          "Europe/Albania",
          "Asia/Afghanistan",
          "Africa/Zimbabwe",
          "Africa/Tunisia",
          "Africa/Zambia",
          "Asia/Yemen, Rep.",
          "Asia/West Bank and Gaza",
          "Americas/Dominican Republic",
          "Africa/Congo, Dem. Rep.",
          "Americas/Ecuador",
          "Americas/El Salvador",
          "Africa/Namibia",
          "Asia/Nepal",
          "Europe/Netherlands",
          "Africa/Morocco",
          "Europe/Montenegro",
          "Asia/Mongolia",
          "Americas/Mexico",
          "Africa/Mauritius",
          "Africa/Mauritania",
          "Africa/Mali",
          "Asia/Malaysia",
          "Africa/Malawi",
          "Africa/Madagascar",
          "Africa/Libya",
          "Africa/Liberia",
          "Africa/Lesotho",
          "Asia/Lebanon",
          "Asia/Kuwait",
          "Asia/Korea, Rep.",
          "Asia/Korea, Dem. Rep.",
          "Africa/Kenya",
          "Europe/Finland",
          "Africa/Ethiopia",
          "Africa/Eritrea",
          "Africa/Equatorial Guinea",
          "Africa/Egypt",
          "Africa/Mozambique",
          "Africa/Comoros",
          "Asia/China",
          "Americas/Peru",
          "Africa/Libya",
          "Africa/Liberia",
          "Africa/Lesotho",
          "Asia/Lebanon",
          "Asia/Kuwait",
          "Asia/Korea, Rep.",
          "Asia/Korea, Dem. Rep.",
          "Africa/Kenya",
          "Asia/Jordan",
          "Asia/Japan",
          "Americas/Jamaica",
          "Asia/Philippines",
          "Europe/Italy",
          "Africa/Comoros",
          "Americas/Colombia",
          "Asia/China",
          "Americas/Chile",
          "Africa/Chad",
          "Africa/Central African Republic",
          "Americas/Canada",
          "Africa/Cameroon",
          "Asia/Cambodia",
          "Africa/Burundi",
          "Africa/Burkina Faso",
          "Africa/Togo",
          "Africa/Congo, Dem. Rep.",
          "Americas/Colombia",
          "Europe/Poland",
          "Americas/Puerto Rico",
          "Americas/Chile",
          "Africa/Chad",
          "Africa/Central African Republic",
          "Americas/Canada",
          "Africa/Cameroon",
          "Asia/Cambodia",
          "Africa/Burundi",
          "Africa/Burkina Faso",
          "Europe/Bulgaria",
          "Americas/Brazil",
          "Africa/Botswana",
          "Europe/Portugal",
          "Europe/Bosnia and Herzegovina",
          "Africa/Benin",
          "Europe/Belgium",
          "Asia/Bangladesh",
          "Asia/Bahrain",
          "Europe/Austria",
          "Europe/Serbia",
          "Africa/Senegal",
          "Asia/Saudi Arabia",
          "Africa/Sao Tome and Principe",
          "Africa/Rwanda",
          "Europe/Romania",
          "Africa/Reunion",
          "Americas/Bolivia",
          "Asia/Myanmar",
          "Americas/Mexico",
          "Americas/Canada",
          "Europe/Montenegro",
          "Africa/Morocco",
          "Asia/China",
          "Americas/Chile",
          "Africa/Chad",
          "Africa/Central African Republic",
          "Africa/Cameroon",
          "Asia/Cambodia",
          "Africa/Burundi",
          "Africa/Burkina Faso",
          "Asia/Mongolia",
          "Americas/Colombia",
          "Asia/Korea, Rep.",
          "Africa/Congo, Dem. Rep.",
          "Asia/Mongolia",
          "Americas/Mexico",
          "Europe/Slovenia",
          "Europe/Slovak Republic",
          "Asia/Singapore",
          "Africa/Sierra Leone",
          "Europe/Serbia",
          "Africa/Senegal",
          "Asia/Saudi Arabia",
          "Africa/Sao Tome and Principe",
          "Africa/Rwanda",
          "Europe/Romania",
          "Africa/Reunion",
          "Americas/Puerto Rico",
          "Europe/Montenegro",
          "Oceania/New Zealand",
          "Asia/Nepal",
          "Africa/Namibia",
          "Asia/Myanmar",
          "Africa/Mozambique",
          "Africa/Morocco",
          "Europe/Montenegro",
          "Asia/Mongolia",
          "Americas/Mexico",
          "Africa/Mauritius",
          "Africa/Mauritania",
          "Africa/Mali",
          "Asia/Malaysia",
          "Africa/Malawi",
          "Africa/Madagascar",
          "Europe/Netherlands",
          "Africa/Libya",
          "Africa/Morocco",
          "Asia/Myanmar",
          "Africa/South Africa",
          "Africa/Somalia",
          "Europe/Slovenia",
          "Europe/Slovak Republic",
          "Asia/Singapore",
          "Africa/Sierra Leone",
          "Europe/Serbia",
          "Africa/Senegal",
          "Asia/Saudi Arabia",
          "Africa/Sao Tome and Principe",
          "Africa/Rwanda",
          "Europe/Romania",
          "Africa/Reunion",
          "Americas/Puerto Rico",
          "Africa/Mozambique",
          "Europe/Portugal",
          "Asia/Philippines",
          "Americas/Peru",
          "Americas/Paraguay",
          "Americas/Panama",
          "Asia/Pakistan",
          "Asia/Oman",
          "Europe/Norway",
          "Africa/Nigeria",
          "Africa/Niger",
          "Americas/Nicaragua",
          "Oceania/New Zealand",
          "Europe/Netherlands",
          "Asia/Nepal",
          "Africa/Namibia",
          "Europe/Poland",
          "Africa/Comoros",
          "Africa/Liberia",
          "Asia/Lebanon",
          "Africa/Djibouti",
          "Europe/Denmark",
          "Europe/Czech Republic",
          "Americas/Cuba",
          "Europe/Croatia",
          "Africa/Cote d'Ivoire",
          "Asia/Myanmar",
          "Africa/Mozambique",
          "Africa/Morocco",
          "Europe/Montenegro",
          "Asia/Mongolia",
          "Americas/Mexico",
          "Africa/Mauritius",
          "Africa/Mauritania",
          "Americas/Dominican Republic",
          "Africa/Mali",
          "Africa/Malawi",
          "Africa/Madagascar",
          "Americas/El Salvador",
          "Africa/Egypt",
          "Americas/Ecuador",
          "Americas/Dominican Republic",
          "Africa/Djibouti",
          "Europe/Denmark",
          "Europe/Czech Republic",
          "Americas/Cuba",
          "Europe/Croatia",
          "Africa/Cote d'Ivoire",
          "Americas/Costa Rica",
          "Africa/Congo, Rep.",
          "Asia/Malaysia",
          "Africa/Lesotho",
          "Americas/Ecuador",
          "Americas/El Salvador",
          "Asia/Kuwait",
          "Africa/Mauritius",
          "Asia/Korea, Dem. Rep.",
          "Africa/Kenya",
          "Africa/Cameroon",
          "Asia/Cambodia",
          "Africa/Burundi",
          "Africa/Burkina Faso",
          "Europe/Bulgaria",
          "Americas/Brazil",
          "Africa/Botswana",
          "Europe/Bosnia and Herzegovina",
          "Americas/Bolivia",
          "Africa/Benin",
          "Africa/Egypt",
          "Europe/Belgium",
          "Asia/Nepal",
          "Africa/Namibia",
          "Asia/Myanmar",
          "Africa/Mozambique",
          "Africa/Morocco",
          "Europe/Montenegro",
          "Asia/Mongolia",
          "Americas/Mexico",
          "Africa/Mauritius",
          "Africa/Mauritania",
          "Africa/Mali",
          "Asia/Malaysia",
          "Africa/Eritrea",
          "Africa/Equatorial Guinea",
          "Asia/Bangladesh",
          "Africa/Mauritania",
          "Asia/Afghanistan",
          "Asia/Malaysia",
          "Europe/Austria",
          "Asia/Bahrain",
          "Asia/Bangladesh",
          "Europe/Belgium",
          "Africa/Benin",
          "Americas/Bolivia",
          "Oceania/Australia",
          "Europe/Bosnia and Herzegovina",
          "Americas/Brazil",
          "Europe/Bulgaria",
          "Africa/Burkina Faso",
          "Africa/Burundi",
          "Asia/Cambodia",
          "Africa/Cameroon",
          "Africa/Botswana",
          "Americas/Canada",
          "Americas/Argentina",
          "Africa/Algeria",
          "Africa/Tunisia",
          "Europe/Turkey",
          "Africa/Uganda",
          "Europe/United Kingdom",
          "Americas/United States",
          "Americas/Uruguay",
          "Africa/Angola",
          "Americas/Venezuela",
          "Asia/West Bank and Gaza",
          "Asia/Yemen, Rep.",
          "Africa/Zambia",
          "Africa/Zimbabwe",
          "Asia/Afghanistan",
          "Europe/Albania",
          "Asia/Vietnam",
          "Africa/Central African Republic",
          "Africa/Chad",
          "Americas/Chile",
          "Asia/Hong Kong, China",
          "Europe/Hungary",
          "Europe/Iceland",
          "Americas/Mexico",
          "Asia/Mongolia",
          "Europe/Montenegro",
          "Americas/Honduras",
          "Africa/Morocco",
          "Asia/Myanmar",
          "Africa/Namibia",
          "Asia/Nepal",
          "Europe/Netherlands",
          "Oceania/New Zealand",
          "Americas/Nicaragua",
          "Africa/Mozambique",
          "Americas/Haiti",
          "Africa/Guinea-Bissau",
          "Africa/Guinea",
          "Asia/China",
          "Americas/Colombia",
          "Africa/Comoros",
          "Africa/Congo, Dem. Rep.",
          "Africa/Congo, Rep.",
          "Americas/Costa Rica",
          "Africa/Cote d'Ivoire",
          "Europe/Croatia",
          "Americas/Cuba",
          "Europe/Czech Republic",
          "Africa/Gambia",
          "Europe/Germany",
          "Africa/Ghana",
          "Europe/Greece",
          "Americas/Guatemala",
          "Americas/Trinidad and Tobago",
          "Africa/Togo",
          "Africa/Mali",
          "Europe/Portugal",
          "Americas/Nicaragua",
          "Africa/Niger",
          "Africa/Nigeria",
          "Europe/Norway",
          "Asia/Oman",
          "Asia/Pakistan",
          "Oceania/New Zealand",
          "Americas/Panama",
          "Americas/Peru",
          "Asia/Philippines",
          "Europe/Poland",
          "Europe/Portugal",
          "Americas/Puerto Rico",
          "Africa/Reunion",
          "Americas/Paraguay",
          "Europe/Netherlands",
          "Asia/Nepal",
          "Africa/Namibia",
          "Europe/Albania",
          "Africa/Algeria",
          "Africa/Angola",
          "Americas/Argentina",
          "Oceania/Australia",
          "Europe/Austria",
          "Asia/Bahrain",
          "Asia/Bangladesh",
          "Europe/Belgium",
          "Africa/Benin",
          "Americas/Bolivia",
          "Europe/Montenegro",
          "Africa/Morocco",
          "Africa/Mozambique",
          "Asia/Myanmar",
          "Europe/Romania",
          "Africa/Niger",
          "Africa/Rwanda",
          "Africa/Libya",
          "Africa/Botswana",
          "Americas/Brazil",
          "Europe/Bulgaria",
          "Americas/Nicaragua",
          "Africa/Niger",
          "Africa/Nigeria",
          "Europe/Bosnia and Herzegovina",
          "Europe/Norway",
          "Asia/Pakistan",
          "Americas/Panama",
          "Americas/Paraguay",
          "Americas/Peru",
          "Asia/Philippines",
          "Europe/Poland",
          "Asia/Oman",
          "Americas/Bolivia",
          "Africa/Benin",
          "Europe/Belgium",
          "Africa/Madagascar",
          "Africa/Malawi",
          "Asia/Malaysia",
          "Africa/Mali",
          "Africa/Mauritania",
          "Africa/Mauritius",
          "Americas/Mexico",
          "Asia/Mongolia",
          "Europe/Montenegro",
          "Africa/Morocco",
          "Americas/Argentina",
          "Oceania/Australia",
          "Europe/Austria",
          "Asia/Bahrain",
          "Asia/Bangladesh",
          "Africa/Liberia",
          "Africa/Nigeria",
          "Africa/Zimbabwe",
          "Asia/Oman",
          "Asia/Cambodia",
          "Africa/Burundi",
          "Africa/Burkina Faso",
          "Europe/Bulgaria",
          "Americas/Brazil",
          "Africa/Botswana",
          "Europe/Bosnia and Herzegovina",
          "Americas/Bolivia",
          "Africa/Benin",
          "Europe/Belgium",
          "Asia/Bangladesh",
          "Asia/Bahrain",
          "Europe/Austria",
          "Oceania/Australia",
          "Africa/Cameroon",
          "Americas/Argentina",
          "Africa/Algeria",
          "Europe/Albania",
          "Asia/Afghanistan",
          "Africa/Zambia",
          "Asia/Yemen, Rep.",
          "Asia/West Bank and Gaza",
          "Asia/Vietnam",
          "Americas/Venezuela",
          "Americas/Uruguay",
          "Americas/United States",
          "Europe/United Kingdom",
          "Africa/Uganda",
          "Europe/Turkey",
          "Africa/Tunisia",
          "Africa/Angola",
          "Americas/Trinidad and Tobago",
          "Americas/Canada",
          "Africa/Chad",
          "Europe/Norway",
          "Europe/Austria",
          "Oceania/Australia",
          "Americas/Argentina",
          "Africa/Angola",
          "Africa/Algeria",
          "Asia/Bahrain",
          "Asia/Bangladesh",
          "Europe/Belgium",
          "Africa/Benin",
          "Americas/Bolivia",
          "Europe/Bosnia and Herzegovina",
          "Africa/Botswana",
          "Americas/Guatemala",
          "Africa/Central African Republic",
          "Africa/Guinea",
          "Americas/Haiti",
          "Americas/Honduras",
          "Europe/Norway",
          "Africa/Nigeria",
          "Africa/Niger",
          "Americas/Nicaragua",
          "Oceania/New Zealand",
          "Europe/Netherlands",
          "Asia/Nepal",
          "Africa/Namibia",
          "Africa/Mozambique",
          "Africa/Morocco",
          "Europe/Montenegro",
          "Americas/Chile",
          "Africa/Guinea-Bissau",
          "Africa/Togo",
          "Asia/Myanmar",
          "Africa/Tanzania",
          "Asia/Iraq",
          "Africa/Swaziland",
          "Asia/Pakistan",
          "Asia/Sri Lanka",
          "Europe/Spain",
          "Africa/Reunion",
          "Americas/Puerto Rico",
          "Europe/Portugal",
          "Asia/Iran",
          "Europe/Poland",
          "Americas/Peru",
          "Americas/Paraguay",
          "Americas/Panama",
          "Africa/Malawi",
          "Africa/Madagascar",
          "Africa/Libya",
          "Africa/Liberia",
          "Asia/Thailand",
          "Asia/Philippines",
          "Asia/Indonesia",
          "Africa/Sudan",
          "Europe/Iceland",
          "Europe/Hungary",
          "Asia/Hong Kong, China",
          "Europe/Sweden",
          "Europe/Switzerland",
          "Asia/Syria",
          "Asia/India",
          "Asia/Taiwan",
          "Asia/Nepal",
          "Europe/Netherlands",
          "Oceania/New Zealand",
          "Americas/Nicaragua",
          "Africa/Niger",
          "Africa/Nigeria",
          "Europe/Norway",
          "Americas/Panama",
          "Asia/Pakistan",
          "Americas/Paraguay",
          "Africa/Mozambique",
          "Africa/Senegal",
          "Africa/Sierra Leone",
          "Asia/Singapore",
          "Asia/Oman",
          "Africa/Namibia",
          "Africa/Namibia",
          "Asia/Nepal",
          "Africa/Botswana",
          "Americas/Colombia",
          "Asia/China",
          "Americas/Chile",
          "Africa/Chad",
          "Africa/Central African Republic",
          "Americas/Canada",
          "Africa/Cameroon",
          "Asia/Cambodia",
          "Africa/Burundi",
          "Africa/Burkina Faso",
          "Europe/Bulgaria",
          "Americas/Brazil",
          "Europe/Bosnia and Herzegovina",
          "Americas/Nicaragua",
          "Oceania/New Zealand",
          "Europe/Netherlands",
          "Asia/Myanmar",
          "Europe/Slovak Republic",
          "Asia/Saudi Arabia",
          "Africa/Somalia",
          "Americas/Trinidad and Tobago",
          "Africa/Tunisia",
          "Europe/Turkey",
          "Africa/Uganda",
          "Europe/United Kingdom",
          "Americas/United States",
          "Americas/Paraguay",
          "Americas/Uruguay",
          "Europe/Netherlands",
          "Oceania/New Zealand",
          "Americas/Nicaragua",
          "Africa/Niger",
          "Americas/Panama",
          "Africa/Nigeria",
          "Europe/Norway",
          "Asia/Oman",
          "Asia/Pakistan",
          "Africa/Togo",
          "Asia/Thailand",
          "Africa/Tanzania",
          "Asia/Taiwan",
          "Africa/Sao Tome and Principe",
          "Africa/Rwanda",
          "Europe/Romania",
          "Africa/Reunion",
          "Americas/Puerto Rico",
          "Europe/Portugal",
          "Europe/Poland",
          "Asia/Philippines",
          "Europe/Slovenia",
          "Americas/Peru",
          "Africa/South Africa",
          "Europe/Spain",
          "Asia/Sri Lanka",
          "Africa/Sudan",
          "Africa/Swaziland",
          "Europe/Sweden",
          "Europe/Switzerland",
          "Asia/Syria",
          "Americas/Brazil",
          "Europe/Bulgaria",
          "Asia/Cambodia",
          "Africa/Burundi",
          "Africa/Mali",
          "Asia/Malaysia",
          "Africa/Malawi",
          "Africa/Madagascar",
          "Africa/Libya",
          "Africa/Liberia",
          "Africa/Lesotho",
          "Africa/Angola",
          "Americas/Argentina",
          "Oceania/Australia",
          "Europe/Austria",
          "Asia/Bahrain",
          "Asia/Bangladesh",
          "Europe/Belgium",
          "Africa/Benin",
          "Americas/Bolivia",
          "Europe/Bosnia and Herzegovina",
          "Africa/Mauritania",
          "Africa/Mauritius",
          "Americas/Mexico",
          "Asia/Mongolia",
          "Asia/Saudi Arabia",
          "Africa/Senegal",
          "Europe/Serbia",
          "Africa/Sierra Leone",
          "Asia/Singapore",
          "Europe/Slovak Republic",
          "Europe/Slovenia",
          "Africa/Somalia",
          "Africa/Gabon",
          "Africa/South Africa",
          "Asia/Sri Lanka",
          "Africa/Algeria",
          "Africa/Sao Tome and Principe",
          "Asia/Pakistan",
          "Asia/Oman",
          "Europe/Norway",
          "Africa/Nigeria",
          "Africa/Niger",
          "Europe/Spain",
          "Europe/France",
          "Europe/Serbia",
          "Asia/Lebanon",
          "Europe/Finland",
          "Europe/France",
          "Africa/Gabon",
          "Africa/Gambia",
          "Europe/Germany",
          "Africa/Ghana",
          "Africa/Central African Republic",
          "Americas/Canada",
          "Africa/Ethiopia",
          "Africa/Cameroon",
          "Africa/Burkina Faso",
          "Europe/Bulgaria",
          "Americas/Brazil",
          "Africa/Botswana",
          "Europe/Bosnia and Herzegovina",
          "Americas/Bolivia",
          "Africa/Benin",
          "Europe/Greece",
          "Africa/Burundi",
          "Africa/Burkina Faso",
          "Africa/Eritrea",
          "Americas/El Salvador",
          "Americas/Chile",
          "Africa/Chad",
          "Africa/Central African Republic",
          "Americas/Canada",
          "Africa/Cameroon",
          "Asia/Cambodia",
          "Europe/Finland",
          "Africa/Ethiopia",
          "Africa/Equatorial Guinea",
          "Africa/Eritrea",
          "Americas/El Salvador",
          "Africa/Egypt",
          "Americas/Ecuador",
          "Americas/Dominican Republic",
          "Africa/Djibouti",
          "Europe/Denmark",
          "Africa/Botswana",
          "Africa/Egypt",
          "Africa/Equatorial Guinea",
          "Africa/Sierra Leone",
          "Asia/West Bank and Gaza",
          "Asia/Japan",
          "Asia/Iraq",
          "Asia/Iran",
          "Asia/Indonesia",
          "Asia/India",
          "Europe/Iceland",
          "Europe/Hungary",
          "Asia/Hong Kong, China",
          "Americas/Honduras",
          "Europe/Denmark",
          "Europe/Ireland",
          "Africa/Djibouti",
          "Americas/Ecuador",
          "Africa/Egypt",
          "Americas/El Salvador",
          "Africa/Equatorial Guinea",
          "Africa/Eritrea",
          "Africa/Ethiopia",
          "Europe/Finland",
          "Europe/France",
          "Africa/Gabon",
          "Americas/Dominican Republic",
          "Oceania/Australia",
          "Asia/Israel",
          "Americas/Jamaica",
          "Americas/Puerto Rico",
          "Europe/Portugal",
          "Europe/Poland",
          "Asia/Philippines",
          "Americas/Peru",
          "Americas/Paraguay",
          "Americas/Panama",
          "Asia/Pakistan",
          "Asia/Oman",
          "Europe/Italy",
          "Asia/Jordan",
          "Africa/Niger",
          "Americas/Nicaragua",
          "Oceania/New Zealand",
          "Europe/Netherlands",
          "Asia/Thailand",
          "Europe/Bosnia and Herzegovina",
          "Africa/Botswana",
          "Americas/Brazil",
          "Europe/Bulgaria",
          "Africa/Nigeria",
          "Africa/Reunion",
          "Americas/Argentina",
          "Africa/Algeria",
          "Africa/Rwanda",
          "Europe/Romania",
          "Africa/Reunion",
          "Americas/Puerto Rico",
          "Europe/Portugal",
          "Europe/Poland",
          "Asia/Philippines",
          "Americas/Peru",
          "Americas/Paraguay",
          "Africa/Sao Tome and Principe",
          "Americas/Panama",
          "Asia/Oman",
          "Europe/Norway",
          "Africa/Nigeria",
          "Africa/Niger",
          "Americas/Nicaragua",
          "Oceania/New Zealand",
          "Europe/Netherlands",
          "Asia/Nepal",
          "Africa/Namibia",
          "Asia/Pakistan",
          "Africa/Angola",
          "Asia/Saudi Arabia",
          "Europe/Serbia",
          "Europe/Albania",
          "Asia/Afghanistan",
          "Africa/Zimbabwe",
          "Africa/Zambia",
          "Asia/Yemen, Rep.",
          "Asia/West Bank and Gaza",
          "Asia/Vietnam",
          "Americas/Venezuela",
          "Asia/India",
          "Africa/Senegal",
          "Asia/Indonesia",
          "Asia/Iraq",
          "Europe/Ireland",
          "Asia/Israel",
          "Europe/Italy",
          "Americas/Jamaica",
          "Asia/Japan",
          "Asia/Jordan",
          "Africa/Kenya",
          "Asia/Korea, Dem. Rep.",
          "Asia/Iran",
          "Europe/Romania",
          "Europe/Norway",
          "Africa/Sao Tome and Principe",
          "Africa/Zimbabwe",
          "Asia/Afghanistan",
          "Europe/Albania",
          "Africa/Algeria",
          "Africa/Angola",
          "Americas/Argentina",
          "Oceania/Australia",
          "Europe/Austria",
          "Asia/Bahrain",
          "Africa/Zambia",
          "Americas/Canada",
          "Africa/Chad",
          "Americas/Chile",
          "Asia/China",
          "Americas/Colombia",
          "Africa/Rwanda",
          "Africa/Comoros",
          "Africa/Congo, Dem. Rep.",
          "Africa/Congo, Rep.",
          "Americas/Costa Rica",
          "Africa/Central African Republic",
          "Asia/Yemen, Rep.",
          "Asia/Singapore",
          "Europe/France",
          "Americas/Jamaica",
          "Europe/Italy",
          "Asia/Israel",
          "Europe/Ireland",
          "Asia/Iraq",
          "Asia/Iran",
          "Asia/Indonesia",
          "Asia/India",
          "Europe/Iceland",
          "Europe/Hungary",
          "Asia/Hong Kong, China",
          "Americas/Honduras",
          "Americas/Haiti",
          "Africa/Guinea-Bissau",
          "Africa/Guinea",
          "Americas/Guatemala",
          "Europe/Greece",
          "Africa/Ghana",
          "Europe/Germany",
          "Africa/Gambia",
          "Africa/Gabon",
          "Africa/Cote d'Ivoire",
          "Europe/Croatia",
          "Europe/Serbia",
          "Oceania/Australia",
          "Africa/Zambia",
          "Asia/Yemen, Rep.",
          "Asia/West Bank and Gaza",
          "Africa/Benin",
          "Americas/Puerto Rico",
          "Africa/Reunion",
          "Europe/Romania",
          "Africa/Rwanda",
          "Africa/Sao Tome and Principe",
          "Africa/Zimbabwe",
          "Africa/Sudan",
          "Asia/Sri Lanka",
          "Europe/Spain",
          "Africa/South Africa",
          "Africa/Somalia",
          "Europe/Slovenia",
          "Europe/Slovak Republic",
          "Asia/Singapore",
          "Africa/Sierra Leone",
          "Europe/Serbia",
          "Americas/Argentina",
          "Africa/Senegal",
          "Asia/Afghanistan",
          "Africa/Algeria",
          "Europe/Austria",
          "Asia/Bahrain",
          "Asia/Bangladesh",
          "Europe/Belgium",
          "Asia/Saudi Arabia",
          "Africa/Senegal",
          "Americas/Bolivia",
          "Africa/Sierra Leone",
          "Asia/Singapore",
          "Europe/Albania",
          "Asia/Bahrain",
          "Asia/Taiwan",
          "Asia/Syria",
          "Europe/Switzerland",
          "Europe/Sweden",
          "Africa/Swaziland",
          "Europe/Austria",
          "Oceania/Australia",
          "Americas/Argentina",
          "Africa/Angola",
          "Africa/Tanzania",
          "Asia/Saudi Arabia",
          "Asia/Korea, Rep.",
          "Asia/Iraq",
          "Asia/Saudi Arabia",
          "Africa/Sao Tome and Principe",
          "Africa/Rwanda",
          "Europe/Romania",
          "Africa/Reunion",
          "Europe/Portugal",
          "Europe/Poland",
          "Asia/Philippines",
          "Americas/Peru",
          "Asia/Iran",
          "Americas/Paraguay",
          "Asia/Kuwait",
          "Asia/Korea, Dem. Rep.",
          "Africa/Kenya",
          "Asia/Jordan",
          "Asia/Japan",
          "Americas/Jamaica",
          "Europe/Italy",
          "Asia/Israel",
          "Europe/Ireland",
          "Americas/Panama",
          "Americas/Puerto Rico",
          "Asia",
          "Europe",
          "Africa",
          "Africa",
          "Americas",
          "Oceania",
          "Europe",
          "Asia",
          "Asia",
          "Europe",
          "Africa",
          "Americas",
          "Europe",
          "Africa",
          "Americas",
          "Europe",
          "Africa",
          "Africa",
          "Asia",
          "Africa",
          "Americas",
          "Africa",
          "Africa",
          "Americas",
          "Asia",
          "Americas",
          "Africa",
          "Africa",
          "Africa",
          "Americas",
          "Africa",
          "Europe",
          "Americas",
          "Europe",
          "Europe",
          "Africa",
          "Americas",
          "Americas",
          "Africa",
          "Americas",
          "Africa",
          "Africa",
          "Africa",
          "Europe",
          "Europe",
          "Africa",
          "Africa",
          "Europe",
          "Africa",
          "Europe",
          "Americas",
          "Africa",
          "Africa",
          "Americas",
          "Americas",
          "Asia",
          "Europe",
          "Europe",
          "Asia",
          "Asia",
          "Asia",
          "Asia",
          "Europe",
          "Asia",
          "Europe",
          "Americas",
          "Asia",
          "Asia",
          "Africa",
          "Asia",
          "Asia",
          "Asia",
          "Asia",
          "Africa",
          "Africa",
          "Africa",
          "Africa",
          "Africa",
          "Asia",
          "Africa",
          "Africa",
          "Africa",
          "Americas",
          "Asia",
          "Europe",
          "Africa",
          "Africa",
          "Asia",
          "Africa",
          "Asia",
          "Europe",
          "Oceania",
          "Americas",
          "Africa",
          "Africa",
          "Europe",
          "Asia",
          "Asia",
          "Americas",
          "Americas",
          "Americas",
          "Asia",
          "Europe",
          "Europe",
          "Americas",
          "Africa",
          "Europe",
          "Africa",
          "Africa",
          "Asia",
          "Africa",
          "Europe",
          "Africa",
          "Asia",
          "Europe",
          "Europe",
          "Africa",
          "Africa",
          "Europe",
          "Asia",
          "Africa",
          "Africa",
          "Europe",
          "Europe",
          "Asia",
          "Asia",
          "Africa",
          "Asia",
          "Africa",
          "Americas",
          "Africa",
          "Europe",
          "Africa",
          "Europe",
          "Americas",
          "Americas",
          "Americas",
          "Asia",
          "Asia",
          "Asia",
          "Africa",
          "Africa",
          "",
          "",
          "",
          "",
          ""
         ],
         "type": "sunburst",
         "values": [
          12311143,
          2800947,
          4744870,
          4174366,
          8139332,
          9835109,
          4838800,
          127617,
          4049146,
          5432424,
          31681188,
          3232927,
          259864,
          1820319,
          3518107,
          3464522,
          2651869,
          5048043,
          47798986,
          1861252,
          527982,
          1230075000,
          598561,
          123315288,
          10199787,
          6066080,
          7693188,
          3607000,
          1536536,
          168546719,
          8066057,
          10352843,
          6121610,
          11782962,
          14195809,
          30305843,
          3696513,
          7562011,
          14599929,
          37657830,
          8069876,
          5828892,
          37983310,
          575003,
          2186894,
          996380,
          1279406,
          1759224,
          6334556,
          4147252,
          10154878,
          5212416,
          1230542,
          789309,
          47995559,
          1149500,
          501035,
          14770296,
          8680909,
          25870271,
          30131000,
          31140029,
          12617009,
          1255058,
          15410151,
          20367053,
          649901,
          8325260,
          2500689,
          3722800,
          10223422,
          198676,
          506000000,
          109343000,
          26538000,
          8519282,
          2900100,
          2693585,
          52667100,
          1861096,
          100825279,
          10191512,
          706640,
          3149262,
          22934225,
          7788944,
          23634436,
          34593779,
          22454239,
          17155814,
          7361757,
          8954175,
          1130269,
          37090298,
          19576783,
          40152517,
          44433622,
          7753310,
          2915959,
          13219062,
          20686918,
          26605473,
          13056604,
          56667095,
          474528,
          41121485,
          3880130,
          2090162,
          3305200,
          10063000,
          182053,
          454000000,
          8897619,
          22874000,
          7240260,
          2830000,
          2310904,
          5703324,
          3628608,
          8906385,
          4690372,
          1146757,
          701016,
          1010280,
          11872264,
          3747553,
          8523077,
          153403524,
          2713462,
          4535591,
          119901274,
          11140655,
          5146848,
          2799811,
          8143375,
          33796140,
          1133134,
          6120081,
          3421000,
          4277736,
          11537966,
          1984060,
          12760499,
          5247469,
          2990875,
          1183669,
          5884491,
          82995088,
          58179144,
          18252190,
          57866349,
          256894189,
          341244,
          4842194,
          52799062,
          9545158,
          6655297,
          311025,
          5127024,
          10311597,
          10239839,
          4484310,
          10761098,
          10433867,
          38625976,
          26769436,
          627820,
          11261690,
          35481645,
          4115700,
          10394091,
          209275,
          567000000,
          121282000,
          30614000,
          10061506,
          3024400,
          3095893,
          54365564,
          1997616,
          107188273,
          1613551,
          6913545,
          125956499,
          4526235,
          28263827,
          2965146,
          21585105,
          4698301,
          3811387,
          5134406,
          58623428,
          1126189,
          1235767,
          82011073,
          18418288,
          10502372,
          9803875,
          8048834,
          1193708,
          51732000,
          537977,
          517101,
          78717088,
          9354120,
          8888628,
          5149581,
          625361,
          59861301,
          46173816,
          3430388,
          18698655,
          32160729,
          76048996,
          22374398,
          3262838,
          272911760,
          58808266,
          21210254,
          63047647,
          9231669,
          1138101,
          4320890,
          60216677,
          30686889,
          21628605,
          15081016,
          7193761,
          39855442,
          1765345,
          42835005,
          2011612,
          1982823,
          2200725,
          4759670,
          14165114,
          10419991,
          9410494,
          18501390,
          19844382,
          48827160,
          2644765,
          1116479,
          6734098,
          47328791,
          3326498,
          26298373,
          8735988,
          5383010,
          6633514,
          2064095,
          6468126,
          31902268,
          5193039,
          4442238,
          1646912,
          3428839,
          20997321,
          32850275,
          11737396,
          12716129,
          420690,
          7867931,
          6063000,
          5680812,
          13648692,
          12607312,
          34024249,
          1735550,
          960155,
          9216418,
          4786986,
          7272406,
          1691210,
          395114,
          8421403,
          6649942,
          11242847,
          19757799,
          23040630,
          52910342,
          3154264,
          1191336,
          7724976,
          52881328,
          15283050,
          56981620,
          242803533,
          3045153,
          17910182,
          62826491,
          11219340,
          16317921,
          33411317,
          54959000,
          619351,
          100840058,
          8576200,
          5433886,
          3529983,
          7450606,
          7021028,
          16252726,
          3834934,
          3328795,
          55379852,
          614382,
          41008227,
          1280400000,
          15497046,
          8835739,
          4048013,
          3819000,
          8900294,
          4565872,
          9709100,
          198712000,
          2748579,
          9709552,
          39463910,
          67946797,
          4414865,
          495627,
          6353681,
          73312559,
          12921234,
          8650322,
          447416,
          5374693,
          10256295,
          11226999,
          4481020,
          70759295,
          2761407,
          3140003,
          99028000,
          8448233,
          78335266,
          715523,
          753874,
          54433565,
          4826933,
          38111756,
          2637297,
          11400338,
          285483,
          45681811,
          8365850,
          5968349,
          305991,
          5117810,
          10303704,
          9789224,
          4474873,
          4413368,
          9786480,
          4710497,
          153343000,
          708000000,
          233997,
          10705535,
          9974490,
          14168101,
          77718298,
          6395630,
          848406,
          55630100,
          4931729,
          42999530,
          5264500,
          3669448,
          5198399,
          825987,
          880397,
          8504667,
          290243,
          7124673,
          65551171,
          7651254,
          4713416,
          2667518,
          5322536,
          5359923,
          17010154,
          10228744,
          1392284,
          7048426,
          637408000,
          14485993,
          11746035,
          4208858,
          11416987,
          4493312,
          2894855,
          3366439,
          2036305,
          91462088,
          4815000,
          3661549,
          8550362,
          8322925,
          21289402,
          1219113,
          662850,
          3647735,
          22235677,
          9025951,
          2424367,
          1774735,
          30646495,
          348643,
          27764644,
          1000281000,
          1301048,
          43072751,
          14173318,
          3480000,
          3858421,
          40448191,
          1756032,
          556263527,
          12350771,
          153936,
          14100005,
          854885,
          20378239,
          926317,
          3882229,
          6007797,
          9125183,
          4334000,
          63149,
          2491346,
          3548753,
          2977019,
          42292929,
          1133066,
          9031088,
          22211743,
          4018332,
          85262356,
          26084662,
          3447496,
          301139947,
          60776238,
          29170398,
          71158647,
          10276158,
          1056608,
          5701579,
          65068149,
          38139640,
          23174294,
          19314747,
          7554661,
          22223309,
          18013409,
          2042865,
          1438760,
          1599200,
          3089353,
          1891487,
          41622000,
          19067554,
          21198082,
          2820042,
          17661452,
          122091325,
          56729703,
          4203148,
          3539900,
          2347031,
          118454974,
          2298309,
          56535636,
          2326606,
          17647518,
          39326000,
          1497494,
          20860941,
          4090500,
          42459667,
          420702,
          284320,
          69145952,
          71640904,
          992040,
          1622136,
          6998256,
          14441916,
          6502825,
          9171477,
          3344074,
          1956875,
          1411807,
          3086876,
          216964,
          4133884,
          1054486,
          64606759,
          25041917,
          1357445,
          764900,
          3950849,
          25670939,
          6675501,
          9452826,
          51430000,
          1746919,
          4827803,
          2325300,
          3140897,
          8686367,
          5260855,
          4353666,
          10164215,
          4149908,
          5126000,
          46679944,
          27129932,
          3054547,
          7271135,
          2295678,
          1445929,
          3844277,
          3800610,
          2780415,
          16151549,
          29841614,
          9128546,
          9753392,
          326741,
          7363802,
          8128505,
          86796,
          4657072,
          21658597,
          4646899,
          89898,
          3453434,
          4681707,
          28173309,
          2747687,
          249220,
          1666618,
          25145372,
          4491443,
          47124000,
          455661,
          374020,
          73739117,
          7355248,
          9620282,
          561977,
          7254373,
          3832408,
          18125129,
          53456774,
          36227381,
          9859650,
          3279001,
          517810,
          22356726,
          5507565,
          98593,
          11254672,
          6147783,
          62806748,
          9032824,
          1047924,
          1345187,
          4076557,
          3491938,
          1533070,
          3692184,
          212846,
          22611552,
          9411381,
          7454779,
          746559,
          91563009,
          1535090,
          49182000,
          1944401,
          2878220,
          37173340,
          19792000,
          90124000,
          1647412,
          409000000,
          9839000,
          2736300,
          1770390,
          3507701,
          601095,
          2876726,
          3640876,
          10392226,
          10238807,
          16284741,
          1318683096,
          44227550,
          710960,
          165110,
          813338,
          6248643,
          708573,
          9682338,
          548080,
          21731844,
          7038035,
          150448339,
          11026383,
          1358828,
          10595811,
          2229407,
          31889923,
          8199783,
          20434176,
          40301927,
          3600523,
          33333216,
          12420476,
          11926563,
          8007166,
          2721783,
          1703617,
          3115787,
          1140357,
          2953997,
          36436000,
          6326682,
          232187835,
          56339704,
          12939400,
          1251524,
          124329269,
          6491649,
          12845381,
          1050938,
          1456688,
          913025,
          5829696,
          10348684,
          259012,
          872000000,
          184816000,
          60397973,
          17861905,
          3557761,
          2378618,
          56840847,
          5637246,
          3867409,
          28227588,
          20711375,
          4936550,
          387838,
          3668440,
          52088559,
          5041039,
          57374179,
          985739,
          4364501,
          1025384,
          80597764,
          16278738,
          10325429,
          8486949,
          6990574,
          25020539,
          6995447,
          4260884,
          3235865,
          5302888,
          1999210,
          6099799,
          39964159,
          39549438,
          17587060,
          962344,
          8718867,
          1803195,
          3219994,
          1418095,
          43805450,
          1912974,
          5077347,
          27860297,
          56142181,
          18701257,
          4058385,
          2923186,
          71851,
          4487831,
          9513758,
          6640752,
          3991242,
          3300000,
          1112300,
          940458,
          15577932,
          170928,
          1688359,
          82400996,
          22873338,
          10706290,
          12572928,
          9947814,
          1472041,
          8502814,
          7483763,
          6980412,
          9956108,
          1476505,
          1063506,
          1770902,
          9146100,
          26072194,
          59912431,
          287675526,
          3363085,
          24287670,
          15620766,
          3389578,
          4826015,
          11000948,
          1728137,
          10267083,
          3646340,
          3016000,
          9240934,
          5498090,
          28998543,
          6702668,
          2424959,
          171984000,
          4419650,
          61325,
          2822082,
          17829327,
          308700,
          2260000,
          8817650,
          28235346,
          1070439,
          3080907,
          2672000,
          4963829,
          3270065,
          1250882,
          779348,
          24725960,
          16495304,
          38880702,
          35933379,
          6921858,
          1945870,
          5199318,
          2794552,
          3868905,
          12031795,
          9230783,
          82052000,
          372000000,
          147962,
          9504000,
          2125900,
          1517453,
          3201488,
          580653,
          2664249,
          3146381,
          7733250,
          5581001,
          7171347,
          24739869,
          24821286,
          19167654,
          1030585,
          26246839,
          5439568,
          2252965,
          157553000,
          50430000,
          5824797,
          301931,
          1110396331,
          223547000,
          69453570,
          27499638,
          13327079,
          4109086,
          58147733,
          2780132,
          127467972,
          6053193,
          35610177,
          23301725,
          49044790,
          2505559,
          3921278,
          2012649,
          3193942,
          6036914,
          6426679,
          67308928,
          80908147,
          1101832,
          178848,
          4991596,
          9862158,
          8831348,
          4318137,
          601287,
          3451418,
          4690773,
          8716441,
          8490213,
          76368453,
          439593,
          489004,
          49569000,
          4605744,
          2929100,
          1588717,
          1179760,
          3075321,
          13867957,
          7636524,
          9770575,
          6100407,
          9657618,
          1425876,
          4671329,
          19941073,
          6298651,
          3790903,
          821782,
          12412593,
          13329874,
          16660670,
          527678,
          1320500,
          55984294,
          851334,
          1332786,
          5828158,
          11441462,
          4730997,
          7082430,
          2183877,
          1482628,
          1116779,
          2680018,
          841934,
          33505000,
          14781241,
          12044785,
          4639657,
          30770372,
          2260187,
          277603,
          34807417,
          9809596,
          217378,
          754550000,
          10516500,
          1441863,
          1112796,
          893143,
          1886848,
          358266,
          26420307,
          10917494,
          8678557,
          933559,
          95831757,
          1665128,
          30325264,
          50843200,
          191689,
          17009885,
          665770000,
          7961258,
          3150417,
          1523478,
          18985849,
          5793633,
          6083619,
          2961915,
          4919632,
          4977378,
          17486434,
          19764027,
          30329617,
          2448046,
          8858908,
          3495967,
          1733638,
          20819767,
          6335506,
          6960067,
          3330989,
          5127935,
          8310226,
          88049823,
          553541,
          9019800,
          3585000,
          2427334,
          9556500,
          62821884,
          202182,
          7376998,
          7616060,
          3430243,
          4943029,
          65345,
          3051242,
          18680721,
          358900,
          4040665,
          28466390,
          80122492,
          28523502,
          569473,
          22987397,
          1164970000,
          13572994,
          6429417,
          3265124,
          12467171,
          10150094,
          5809236,
          8878303,
          2015133,
          34202721,
          47969150,
          41672143,
          2874127,
          108700891,
          2011497,
          5410052,
          4197776,
          5359092,
          10111559,
          10870037,
          24501530,
          170372,
          7852401,
          22404337,
          743981,
          3859606,
          684736,
          3908037,
          25873917,
          1972153,
          45598081,
          18473780,
          31167783,
          720230,
          2674234,
          102479927,
          1200206,
          2828858,
          10580176,
          22662365,
          11824495,
          16473477,
          16122830,
          5368585,
          33757175,
          47761980,
          43997828,
          9118773,
          2009245,
          5447502,
          4553009,
          6144562,
          10150265,
          12267493,
          27601038,
          199579,
          8860588,
          22276056,
          798094,
          3942491,
          19951656,
          10642836,
          91077287,
          28674757,
          6667147,
          3242173,
          169270617,
          3204897,
          4627926,
          135031164,
          12894865,
          5675356,
          4115771,
          16570613,
          28901790,
          2055080,
          38518241,
          454429,
          2814651,
          3677780,
          417908,
          5283663,
          10300707,
          10983007,
          4444595,
          14625967,
          40546538,
          13160731,
          25798239,
          621621,
          2312802,
          88111030,
          1096202,
          2119465,
          7992357,
          8416215,
          10014249,
          12210395,
          5274649,
          59402198,
          10748394,
          7351181,
          384156,
          5171393,
          10315702,
          10723260,
          4494013,
          12772596,
          3173216,
          2409073,
          18319502,
          2046772,
          11911819,
          5783439,
          2111561,
          1042663,
          22215365,
          31386842,
          15929988,
          12926707,
          7021078,
          12251209,
          7661799,
          179914212,
          1630347,
          4165416,
          8445134,
          7026113,
          66134291,
          10311970,
          23001113,
          1774766,
          43247867,
          16603334,
          28529501,
          692651,
          2494803,
          95895146,
          1149818,
          2444741,
          9384984,
          20476091,
          4058319,
          439971,
          135656790,
          1841240,
          8425333,
          16331785,
          7568430,
          297410,
          80428306,
          9821800,
          3168267,
          5079716,
          14074100,
          4086000,
          114313951,
          8797022,
          5889574,
          3834415,
          6978607,
          7959865,
          781472,
          23796400,
          26983828,
          17152804,
          5303507,
          37492953,
          10190285,
          56079000,
          209896000,
          2829526,
          6162675,
          11515649,
          1089572,
          7407075,
          4506497,
          5861135,
          14880372,
          2509048,
          44655014,
          2167533,
          4388260,
          10599793,
          4583700,
          10637171,
          221823,
          63759976,
          1528000,
          560073,
          3055235,
          18396941,
          31528087,
          977026,
          13933198,
          13852989,
          3164900,
          2554598,
          11127868,
          4908554,
          745228,
          4227026,
          943455000,
          25094412,
          304739,
          26480870,
          1536769,
          2108457,
          7459574,
          4318673,
          9537988,
          10161915,
          608274,
          78160773,
          10538093,
          9308479,
          5703430,
          975199,
          2056351,
          7634008,
          8970450,
          1165790,
          3379468,
          33119096,
          3327728,
          507833,
          41346560,
          1994794,
          940080,
          8025700,
          22438691,
          25730551,
          8526050,
          2227000,
          257700,
          1555876,
          10381988,
          9182536,
          485831,
          1282697,
          9279525,
          4232095,
          17876956,
          8691212,
          6927772,
          120447,
          46886859,
          8730405,
          1738315,
          2883315,
          413834,
          9939217,
          6446316,
          20092996,
          16630000,
          5682086,
          2534927,
          1201578,
          512764,
          76039390,
          8012946,
          2182908,
          5060262,
          53740085,
          3349000,
          3933004,
          69325921,
          1616384,
          2614104,
          13954700,
          40850141,
          33039545,
          829050,
          3593918,
          2151895,
          9218400,
          5181679,
          3221238,
          7739235,
          4241884,
          1076852,
          609816,
          35015548,
          882134,
          442829,
          11406350,
          21283783,
          10794968,
          7129864,
          171863,
          56839289,
          975950,
          62209173,
          6642107,
          1004533,
          7272485,
          4580410,
          6634596,
          8892098,
          128962939,
          970347,
          4172693,
          5642224,
          3641603,
          9856303,
          93074406,
          377967,
          7574613,
          15184200,
          9250831,
          29341374,
          20033753,
          2780097,
          12881816,
          5216550,
          8403990,
          1261091,
          50533506,
          13503563,
          2873520,
          220239000,
          56179000,
          11457758,
          42404033,
          6005061,
          7016384,
          1039009,
          25201900,
          4875118,
          4043205,
          7578903,
          16257249,
          31620918,
          7874230,
          23254956,
          454612,
          103764241,
          9870200,
          4243788,
          6156369,
          4338977,
          1151184,
          7326406,
          2476971,
          5650262,
          5756203,
          4372203,
          4114787,
          73039376,
          6437188,
          2979423,
          3210650,
          14310401,
          15796314,
          1099010,
          12587223,
          20198730,
          562548,
          11487112,
          927524,
          2308582,
          34680442,
          17129565,
          16543189,
          551425,
          78152686,
          14116836,
          36439000,
          492095,
          3080828,
          9662600,
          51889696,
          34621254,
          15990099,
          2984494,
          1839782,
          7824747,
          10568642,
          3799845,
          2269414,
          44148285,
          46850962,
          169276000,
          17104986,
          244676,
          10612740,
          5584510,
          8251648,
          6316424,
          7932503,
          788000000,
          16785196,
          10332057,
          11805689,
          2488550,
          1590597,
          4076008,
          41871351,
          3638919,
          1215725,
          53100671,
          2009813,
          12891952,
          3965841,
          2467895,
          1750200,
          628164,
          621392,
          1278184,
          17917180,
          442308,
          30964245,
          1084035000,
          12463354,
          5498955,
          2840009,
          26549700,
          10780667,
          8371791,
          5126023,
          7586551,
          8971958,
          142938076,
          2791000,
          3344353,
          3317166,
          14665278,
          38028578,
          4237384,
          5618198,
          3080153,
          887498,
          4286552,
          29788695,
          7688797,
          53292000,
          186538000,
          2287985,
          2598466,
          12596822,
          2728150,
          1865490,
          4534062,
          1405486,
          47287752,
          3786019,
          714775,
          60641899,
          1528098,
          29263397,
          10863958,
          11918938,
          70787,
          3451079,
          19284814,
          414024,
          2648961,
          9103000,
          31785378,
          35356600,
          1582962,
          12132200,
          18356657,
          31158061,
          10421936,
          11183227,
          370006,
          7561588,
          5666000,
          4834621,
          56602560,
          7274900,
          14131858,
          2445618,
          3838168,
          6748378,
          2917802,
          4762912,
          1019729,
          863308,
          748747,
          4561361,
          19610538,
          9712569,
          6965860,
          138655,
          51365468,
          8989111,
          1925173,
          3211738,
          3076000,
          1022556,
          516556,
          30144317,
          800663,
          4005677,
          2755589,
          6860147,
          2143249,
          1127000,
          3558137,
          1489518,
          2526994,
          1454867,
          14264935,
          7982342,
          10270856,
          60011,
          105186881,
          1593882,
          4186147,
          81551520,
          7332638,
          28549870,
          61083916,
          7971222,
          1439529,
          4324000,
          44310863,
          434904,
          323150,
          71019069,
          6391288,
          4369038,
          33390141,
          22815614,
          17696293,
          14326203,
          7322858,
          190010647,
          1639131,
          4552198,
          9119152,
          8078314,
          8096218,
          8390505,
          4469979,
          1542611,
          2355805,
          6377619,
          2682462,
          1291695,
          14785584,
          5009067,
          4693836,
          5238460,
          76511887,
          232922,
          4906585,
          6939688,
          80264543,
          13755680,
          9319622,
          496374,
          5468120,
          474639,
          25009741,
          551201,
          2662190,
          1142636,
          127065841,
          20775703,
          63327987,
          199278000,
          959000000,
          271192,
          10244684,
          6495918,
          5867957,
          5088419,
          3667233,
          228694,
          7278866,
          38783863,
          4282586,
          192675,
          2512642,
          34617799,
          4738902,
          53165019,
          706367,
          5302800,
          18565243,
          5531387,
          2531311,
          3759430,
          10156415,
          38654957,
          75012988,
          24748122,
          5154123,
          2734531,
          135564834,
          2283635,
          57479469,
          5307470,
          9666252,
          4609572,
          3676187,
          15604464,
          39276153,
          4256013,
          1342614,
          155975974,
          8658506,
          106207839,
          684810,
          36203463,
          29072015,
          7290203,
          22797027,
          622191,
          3585176,
          9927680,
          38370697,
          67185766,
          22430449,
          4483945,
          125911,
          2484997,
          1915208,
          4286357,
          93364244,
          8392818,
          4017939,
          3437674,
          15174244,
          20326209,
          1554253,
          120065004,
          9875024,
          16945857,
          9826397,
          3428038,
          22227415,
          10704340,
          8381163,
          13367997,
          2104779,
          69940728,
          20265563,
          634000000,
          8307920,
          136725000,
          11882916,
          3271900,
          3495918,
          56059245,
          2156814,
          113872473,
          1937652,
          14500404,
          16325320,
          35480679,
          22562458,
          4405672,
          145608,
          4995432,
          13079460,
          2263554,
          14760787,
          5894858,
          24779799,
          13177000,
          7544201,
          230800,
          3900000,
          22284500,
          3899068,
          9717524,
          862030000,
          22542890,
          7212583,
          250027,
          23007669,
          1340458,
          1834796,
          1927260,
          6740785,
          1977600,
          59925035,
          2664659,
          57926999,
          6029529,
          3879155,
          24001816,
          66907826,
          211060000,
          1034172547,
          288030,
          10083313,
          6762476,
          6677328,
          7607651,
          1332459,
          8807818,
          11178650,
          10603863,
          20550751,
          82350671,
          1457766,
          1299304,
          6071696,
          4225310,
          10336594,
          17481977,
          9417789,
          15826497,
          2826046,
          4981671,
          2847132,
          461633,
          20662648,
          3992121,
          76595,
          11404948,
          14597019,
          13016733,
          34513161,
          23935810,
          3840161,
          1694510,
          4593433,
          2152400,
          2879013,
          8313288,
          33958947,
          4588696,
          25268405,
          31287142,
          7914969,
          529491,
          113704579,
          10045622,
          21229759,
          9535314,
          6893451,
          4578212,
          3802309,
          3508512,
          656397,
          15226039,
          6701172,
          6401400,
          8122293,
          480105,
          8148312,
          19546792,
          38331121,
          10866106,
          14706593,
          6472756,
          20947571,
          5441766,
          14619745,
          110812,
          6349365,
          22686371,
          562035,
          9915289,
          37740710,
          60017788,
          20195924,
          17272000,
          3886512,
          160000,
          8865488,
          6464046,
          607914,
          86459025,
          1426095,
          47666000,
          1620914,
          2952156,
          2253639,
          3444468,
          189884585,
          30962990,
          238504874,
          87712681,
          343226879,
          175791750,
          90999581,
          4486958,
          1089064744,
          116701424,
          48209960,
          67324742,
          45798297,
          11654234,
          1467745520,
          98195824,
          90584127,
          55819300,
          102125168,
          117799781,
          293555608,
          30731556,
          63951076,
          134468704,
          11497920623,
          327073195,
          4340207,
          392179863,
          23078509,
          28800093,
          109837314,
          51478995,
          110790906,
          119835154,
          59930248,
          3122927,
          68828369,
          98546921,
          558273291,
          52121297,
          3930612,
          33842602,
          499590225,
          57255852,
          635430772,
          9544985,
          9517663,
          930564520,
          151399517,
          113090173,
          82304337,
          64326608,
          10584101,
          64819605,
          47047121,
          57507112,
          122611748,
          2723737,
          8413568878,
          1779874000,
          507620482,
          170249942,
          40089911,
          46147329,
          654443496,
          25621474,
          1341105696,
          32015673,
          218475002,
          197446575,
          437992636,
          14477947,
          33382157,
          16676357,
          21766286,
          38001643,
          118828826,
          84196529,
          174888664,
          85348081,
          21392686,
          11112867,
          820971569,
          20818208,
          6771236,
          246668903,
          144560344,
          401187510,
          13894197,
          198620935,
          165441575,
          37200386,
          36491702,
          82288486,
          884496214,
          48377293,
          17258464,
          1124200629,
          23823483,
          42665831,
          210709116,
          631639543,
          411879653,
          115035287,
          37382139,
          6221973,
          249829082,
          63581228,
          1271734,
          149740416,
          77355665,
          105406641,
          43265099,
          32013809,
          57294085,
          21532577,
          62366374,
          359140226,
          430221581,
          174549981,
          258723977,
          8148624,
          98640347,
          76611518,
          118384545,
          202496687,
          245993972,
          539539574,
          34751568,
          12077636,
          80241243,
          550908099,
          172332593,
          673053608,
          2738534790,
          34949846,
          181557616,
          654822851,
          22183278,
          130118302,
          76245658,
          91703593,
          6187585961,
          7351438499,
          30507333901,
          6181115304,
          212992136
         ]
        }
       ],
       "layout": {
        "legend": {
         "tracegroupgap": 0
        },
        "margin": {
         "t": 60
        },
        "template": {
         "data": {
          "bar": [
           {
            "error_x": {
             "color": "#2a3f5f"
            },
            "error_y": {
             "color": "#2a3f5f"
            },
            "marker": {
             "line": {
              "color": "#E5ECF6",
              "width": 0.5
             },
             "pattern": {
              "fillmode": "overlay",
              "size": 10,
              "solidity": 0.2
             }
            },
            "type": "bar"
           }
          ],
          "barpolar": [
           {
            "marker": {
             "line": {
              "color": "#E5ECF6",
              "width": 0.5
             },
             "pattern": {
              "fillmode": "overlay",
              "size": 10,
              "solidity": 0.2
             }
            },
            "type": "barpolar"
           }
          ],
          "carpet": [
           {
            "aaxis": {
             "endlinecolor": "#2a3f5f",
             "gridcolor": "white",
             "linecolor": "white",
             "minorgridcolor": "white",
             "startlinecolor": "#2a3f5f"
            },
            "baxis": {
             "endlinecolor": "#2a3f5f",
             "gridcolor": "white",
             "linecolor": "white",
             "minorgridcolor": "white",
             "startlinecolor": "#2a3f5f"
            },
            "type": "carpet"
           }
          ],
          "choropleth": [
           {
            "colorbar": {
             "outlinewidth": 0,
             "ticks": ""
            },
            "type": "choropleth"
           }
          ],
          "contour": [
           {
            "colorbar": {
             "outlinewidth": 0,
             "ticks": ""
            },
            "colorscale": [
             [
              0,
              "#0d0887"
             ],
             [
              0.1111111111111111,
              "#46039f"
             ],
             [
              0.2222222222222222,
              "#7201a8"
             ],
             [
              0.3333333333333333,
              "#9c179e"
             ],
             [
              0.4444444444444444,
              "#bd3786"
             ],
             [
              0.5555555555555556,
              "#d8576b"
             ],
             [
              0.6666666666666666,
              "#ed7953"
             ],
             [
              0.7777777777777778,
              "#fb9f3a"
             ],
             [
              0.8888888888888888,
              "#fdca26"
             ],
             [
              1,
              "#f0f921"
             ]
            ],
            "type": "contour"
           }
          ],
          "contourcarpet": [
           {
            "colorbar": {
             "outlinewidth": 0,
             "ticks": ""
            },
            "type": "contourcarpet"
           }
          ],
          "heatmap": [
           {
            "colorbar": {
             "outlinewidth": 0,
             "ticks": ""
            },
            "colorscale": [
             [
              0,
              "#0d0887"
             ],
             [
              0.1111111111111111,
              "#46039f"
             ],
             [
              0.2222222222222222,
              "#7201a8"
             ],
             [
              0.3333333333333333,
              "#9c179e"
             ],
             [
              0.4444444444444444,
              "#bd3786"
             ],
             [
              0.5555555555555556,
              "#d8576b"
             ],
             [
              0.6666666666666666,
              "#ed7953"
             ],
             [
              0.7777777777777778,
              "#fb9f3a"
             ],
             [
              0.8888888888888888,
              "#fdca26"
             ],
             [
              1,
              "#f0f921"
             ]
            ],
            "type": "heatmap"
           }
          ],
          "heatmapgl": [
           {
            "colorbar": {
             "outlinewidth": 0,
             "ticks": ""
            },
            "colorscale": [
             [
              0,
              "#0d0887"
             ],
             [
              0.1111111111111111,
              "#46039f"
             ],
             [
              0.2222222222222222,
              "#7201a8"
             ],
             [
              0.3333333333333333,
              "#9c179e"
             ],
             [
              0.4444444444444444,
              "#bd3786"
             ],
             [
              0.5555555555555556,
              "#d8576b"
             ],
             [
              0.6666666666666666,
              "#ed7953"
             ],
             [
              0.7777777777777778,
              "#fb9f3a"
             ],
             [
              0.8888888888888888,
              "#fdca26"
             ],
             [
              1,
              "#f0f921"
             ]
            ],
            "type": "heatmapgl"
           }
          ],
          "histogram": [
           {
            "marker": {
             "pattern": {
              "fillmode": "overlay",
              "size": 10,
              "solidity": 0.2
             }
            },
            "type": "histogram"
           }
          ],
          "histogram2d": [
           {
            "colorbar": {
             "outlinewidth": 0,
             "ticks": ""
            },
            "colorscale": [
             [
              0,
              "#0d0887"
             ],
             [
              0.1111111111111111,
              "#46039f"
             ],
             [
              0.2222222222222222,
              "#7201a8"
             ],
             [
              0.3333333333333333,
              "#9c179e"
             ],
             [
              0.4444444444444444,
              "#bd3786"
             ],
             [
              0.5555555555555556,
              "#d8576b"
             ],
             [
              0.6666666666666666,
              "#ed7953"
             ],
             [
              0.7777777777777778,
              "#fb9f3a"
             ],
             [
              0.8888888888888888,
              "#fdca26"
             ],
             [
              1,
              "#f0f921"
             ]
            ],
            "type": "histogram2d"
           }
          ],
          "histogram2dcontour": [
           {
            "colorbar": {
             "outlinewidth": 0,
             "ticks": ""
            },
            "colorscale": [
             [
              0,
              "#0d0887"
             ],
             [
              0.1111111111111111,
              "#46039f"
             ],
             [
              0.2222222222222222,
              "#7201a8"
             ],
             [
              0.3333333333333333,
              "#9c179e"
             ],
             [
              0.4444444444444444,
              "#bd3786"
             ],
             [
              0.5555555555555556,
              "#d8576b"
             ],
             [
              0.6666666666666666,
              "#ed7953"
             ],
             [
              0.7777777777777778,
              "#fb9f3a"
             ],
             [
              0.8888888888888888,
              "#fdca26"
             ],
             [
              1,
              "#f0f921"
             ]
            ],
            "type": "histogram2dcontour"
           }
          ],
          "mesh3d": [
           {
            "colorbar": {
             "outlinewidth": 0,
             "ticks": ""
            },
            "type": "mesh3d"
           }
          ],
          "parcoords": [
           {
            "line": {
             "colorbar": {
              "outlinewidth": 0,
              "ticks": ""
             }
            },
            "type": "parcoords"
           }
          ],
          "pie": [
           {
            "automargin": true,
            "type": "pie"
           }
          ],
          "scatter": [
           {
            "fillpattern": {
             "fillmode": "overlay",
             "size": 10,
             "solidity": 0.2
            },
            "type": "scatter"
           }
          ],
          "scatter3d": [
           {
            "line": {
             "colorbar": {
              "outlinewidth": 0,
              "ticks": ""
             }
            },
            "marker": {
             "colorbar": {
              "outlinewidth": 0,
              "ticks": ""
             }
            },
            "type": "scatter3d"
           }
          ],
          "scattercarpet": [
           {
            "marker": {
             "colorbar": {
              "outlinewidth": 0,
              "ticks": ""
             }
            },
            "type": "scattercarpet"
           }
          ],
          "scattergeo": [
           {
            "marker": {
             "colorbar": {
              "outlinewidth": 0,
              "ticks": ""
             }
            },
            "type": "scattergeo"
           }
          ],
          "scattergl": [
           {
            "marker": {
             "colorbar": {
              "outlinewidth": 0,
              "ticks": ""
             }
            },
            "type": "scattergl"
           }
          ],
          "scattermapbox": [
           {
            "marker": {
             "colorbar": {
              "outlinewidth": 0,
              "ticks": ""
             }
            },
            "type": "scattermapbox"
           }
          ],
          "scatterpolar": [
           {
            "marker": {
             "colorbar": {
              "outlinewidth": 0,
              "ticks": ""
             }
            },
            "type": "scatterpolar"
           }
          ],
          "scatterpolargl": [
           {
            "marker": {
             "colorbar": {
              "outlinewidth": 0,
              "ticks": ""
             }
            },
            "type": "scatterpolargl"
           }
          ],
          "scatterternary": [
           {
            "marker": {
             "colorbar": {
              "outlinewidth": 0,
              "ticks": ""
             }
            },
            "type": "scatterternary"
           }
          ],
          "surface": [
           {
            "colorbar": {
             "outlinewidth": 0,
             "ticks": ""
            },
            "colorscale": [
             [
              0,
              "#0d0887"
             ],
             [
              0.1111111111111111,
              "#46039f"
             ],
             [
              0.2222222222222222,
              "#7201a8"
             ],
             [
              0.3333333333333333,
              "#9c179e"
             ],
             [
              0.4444444444444444,
              "#bd3786"
             ],
             [
              0.5555555555555556,
              "#d8576b"
             ],
             [
              0.6666666666666666,
              "#ed7953"
             ],
             [
              0.7777777777777778,
              "#fb9f3a"
             ],
             [
              0.8888888888888888,
              "#fdca26"
             ],
             [
              1,
              "#f0f921"
             ]
            ],
            "type": "surface"
           }
          ],
          "table": [
           {
            "cells": {
             "fill": {
              "color": "#EBF0F8"
             },
             "line": {
              "color": "white"
             }
            },
            "header": {
             "fill": {
              "color": "#C8D4E3"
             },
             "line": {
              "color": "white"
             }
            },
            "type": "table"
           }
          ]
         },
         "layout": {
          "annotationdefaults": {
           "arrowcolor": "#2a3f5f",
           "arrowhead": 0,
           "arrowwidth": 1
          },
          "autotypenumbers": "strict",
          "coloraxis": {
           "colorbar": {
            "outlinewidth": 0,
            "ticks": ""
           }
          },
          "colorscale": {
           "diverging": [
            [
             0,
             "#8e0152"
            ],
            [
             0.1,
             "#c51b7d"
            ],
            [
             0.2,
             "#de77ae"
            ],
            [
             0.3,
             "#f1b6da"
            ],
            [
             0.4,
             "#fde0ef"
            ],
            [
             0.5,
             "#f7f7f7"
            ],
            [
             0.6,
             "#e6f5d0"
            ],
            [
             0.7,
             "#b8e186"
            ],
            [
             0.8,
             "#7fbc41"
            ],
            [
             0.9,
             "#4d9221"
            ],
            [
             1,
             "#276419"
            ]
           ],
           "sequential": [
            [
             0,
             "#0d0887"
            ],
            [
             0.1111111111111111,
             "#46039f"
            ],
            [
             0.2222222222222222,
             "#7201a8"
            ],
            [
             0.3333333333333333,
             "#9c179e"
            ],
            [
             0.4444444444444444,
             "#bd3786"
            ],
            [
             0.5555555555555556,
             "#d8576b"
            ],
            [
             0.6666666666666666,
             "#ed7953"
            ],
            [
             0.7777777777777778,
             "#fb9f3a"
            ],
            [
             0.8888888888888888,
             "#fdca26"
            ],
            [
             1,
             "#f0f921"
            ]
           ],
           "sequentialminus": [
            [
             0,
             "#0d0887"
            ],
            [
             0.1111111111111111,
             "#46039f"
            ],
            [
             0.2222222222222222,
             "#7201a8"
            ],
            [
             0.3333333333333333,
             "#9c179e"
            ],
            [
             0.4444444444444444,
             "#bd3786"
            ],
            [
             0.5555555555555556,
             "#d8576b"
            ],
            [
             0.6666666666666666,
             "#ed7953"
            ],
            [
             0.7777777777777778,
             "#fb9f3a"
            ],
            [
             0.8888888888888888,
             "#fdca26"
            ],
            [
             1,
             "#f0f921"
            ]
           ]
          },
          "colorway": [
           "#636efa",
           "#EF553B",
           "#00cc96",
           "#ab63fa",
           "#FFA15A",
           "#19d3f3",
           "#FF6692",
           "#B6E880",
           "#FF97FF",
           "#FECB52"
          ],
          "font": {
           "color": "#2a3f5f"
          },
          "geo": {
           "bgcolor": "white",
           "lakecolor": "white",
           "landcolor": "#E5ECF6",
           "showlakes": true,
           "showland": true,
           "subunitcolor": "white"
          },
          "hoverlabel": {
           "align": "left"
          },
          "hovermode": "closest",
          "mapbox": {
           "style": "light"
          },
          "paper_bgcolor": "white",
          "plot_bgcolor": "#E5ECF6",
          "polar": {
           "angularaxis": {
            "gridcolor": "white",
            "linecolor": "white",
            "ticks": ""
           },
           "bgcolor": "#E5ECF6",
           "radialaxis": {
            "gridcolor": "white",
            "linecolor": "white",
            "ticks": ""
           }
          },
          "scene": {
           "xaxis": {
            "backgroundcolor": "#E5ECF6",
            "gridcolor": "white",
            "gridwidth": 2,
            "linecolor": "white",
            "showbackground": true,
            "ticks": "",
            "zerolinecolor": "white"
           },
           "yaxis": {
            "backgroundcolor": "#E5ECF6",
            "gridcolor": "white",
            "gridwidth": 2,
            "linecolor": "white",
            "showbackground": true,
            "ticks": "",
            "zerolinecolor": "white"
           },
           "zaxis": {
            "backgroundcolor": "#E5ECF6",
            "gridcolor": "white",
            "gridwidth": 2,
            "linecolor": "white",
            "showbackground": true,
            "ticks": "",
            "zerolinecolor": "white"
           }
          },
          "shapedefaults": {
           "line": {
            "color": "#2a3f5f"
           }
          },
          "ternary": {
           "aaxis": {
            "gridcolor": "white",
            "linecolor": "white",
            "ticks": ""
           },
           "baxis": {
            "gridcolor": "white",
            "linecolor": "white",
            "ticks": ""
           },
           "bgcolor": "#E5ECF6",
           "caxis": {
            "gridcolor": "white",
            "linecolor": "white",
            "ticks": ""
           }
          },
          "title": {
           "x": 0.05
          },
          "xaxis": {
           "automargin": true,
           "gridcolor": "white",
           "linecolor": "white",
           "ticks": "",
           "title": {
            "standoff": 15
           },
           "zerolinecolor": "white",
           "zerolinewidth": 2
          },
          "yaxis": {
           "automargin": true,
           "gridcolor": "white",
           "linecolor": "white",
           "ticks": "",
           "title": {
            "standoff": 15
           },
           "zerolinecolor": "white",
           "zerolinewidth": 2
          }
         }
        }
       }
      }
     },
     "metadata": {},
     "output_type": "display_data"
    }
   ],
   "source": [
    "fig = px.sunburst(df, \n",
    "                  path=['continent','country', 'year'], \n",
    "                  values='pop' , color='continent')\n",
    "# how can we add more values when we hover the pointer on the plot?\n",
    "# Show the plot\n",
    "fig.show()"
   ]
  },
  {
   "cell_type": "markdown",
   "metadata": {},
   "source": [
    "---\n",
    "\n",
    "# Information about the instructor:\n",
    "\n",
    "- **Author**: Muhammad Fareed Khan\n",
    "- **Code Submission Date**: 11-12-2023\n",
    "- **Author's Contact Info**:\n",
    "  \n",
    "    - 📧 Email: [Email](mailto:contact@mfareedkhan.com)\n",
    "    - 🐱‍💻 Github: [Github](https://github.com/fareedkhands)\n",
    "    - 📊 Kaggle: [Kaggle](https://www.kaggle.com/muhammadfareedkhan)\n",
    "    - 💼 LinkedIn: [LinkedIn](https://www.linkedin.com/in/fareed-khan-385b79150/)\n",
    "    -  🐦 Twitter: [Twitter](https://twitter.com/fareedkhanmeyo)"
   ]
  }
 ],
 "metadata": {
  "kernelspec": {
   "display_name": "python_eda",
   "language": "python",
   "name": "python3"
  },
  "language_info": {
   "codemirror_mode": {
    "name": "ipython",
    "version": 3
   },
   "file_extension": ".py",
   "mimetype": "text/x-python",
   "name": "python",
   "nbconvert_exporter": "python",
   "pygments_lexer": "ipython3",
   "version": "3.11.5"
  }
 },
 "nbformat": 4,
 "nbformat_minor": 2
}
